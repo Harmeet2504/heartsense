{
 "cells": [
  {
   "cell_type": "markdown",
   "metadata": {},
   "source": [
    "# Machine Learning model for non-invasive diagnosis of heart disease\n",
    "\n",
    "### Importing libraries\n",
    "pyspark, numpy, pandas, matplotlib, seaborn, sklearn, keras\n",
    "\n"
   ]
  },
  {
   "cell_type": "code",
   "execution_count": 1,
   "metadata": {},
   "outputs": [],
   "source": [
    "import pyspark\n",
    "from pyspark.sql import SparkSession\n",
    "from pyspark import SparkFiles\n",
    "from pyspark.sql import DataFrameReader\n",
    "from pyspark.sql.functions import to_timestamp\n",
    "from pyspark.sql.functions import col\n",
    "from pyspark.sql.types import StructType, StructField, StringType, IntegerType\n",
    "from pyspark.sql.types import *"
   ]
  },
  {
   "cell_type": "code",
   "execution_count": 2,
   "metadata": {},
   "outputs": [],
   "source": [
    "spark = SparkSession \\\n",
    "    .builder \\\n",
    "    .appName('pyspark_demo_app') \\\n",
    "    .config('spark.driver.extraClassPath',\n",
    "            'postgresql-42.2.9') \\\n",
    "    .master(\"local[*]\") \\\n",
    "    .getOrCreate()"
   ]
  },
  {
   "cell_type": "code",
   "execution_count": 3,
   "metadata": {},
   "outputs": [],
   "source": [
    "import numpy as np\n",
    "import pandas as pd\n",
    "import matplotlib.pyplot as plt\n",
    "from matplotlib import rcParams\n",
    "from matplotlib.cm import rainbow\n",
    "%matplotlib inline\n",
    "import warnings\n",
    "warnings.filterwarnings('ignore')"
   ]
  },
  {
   "cell_type": "markdown",
   "metadata": {},
   "source": [
    "## Importing necessary libraries from sklearn"
   ]
  },
  {
   "cell_type": "markdown",
   "metadata": {},
   "source": [
    "Importing the following Machine Learning algorithms for model building.\n",
    "1. K Neighbors Classifier\n",
    "2. Support Vector Classifier\n",
    "3. Decision Tree Classifier\n",
    "4. Random Forest Classifier\n",
    "5. Sequential"
   ]
  },
  {
   "cell_type": "code",
   "execution_count": 4,
   "metadata": {},
   "outputs": [
    {
     "name": "stderr",
     "output_type": "stream",
     "text": [
      "Using TensorFlow backend.\n"
     ]
    }
   ],
   "source": [
    "from sklearn.neighbors import KNeighborsClassifier\n",
    "from sklearn.svm import SVC\n",
    "from sklearn.tree import DecisionTreeClassifier\n",
    "from sklearn.ensemble import RandomForestClassifier\n",
    "from sklearn.model_selection import train_test_split\n",
    "from sklearn.preprocessing import StandardScaler\n",
    "from keras.models import Sequential\n",
    "from keras.layers import Dense"
   ]
  },
  {
   "cell_type": "markdown",
   "metadata": {},
   "source": [
    "### Connecting to dataset in PostgreSql database in AWS\n",
    "\n",
    "Credentials are required to connect to the database"
   ]
  },
  {
   "cell_type": "code",
   "execution_count": 5,
   "metadata": {},
   "outputs": [],
   "source": [
    "# dataset = pd.read_csv('dataset.csv')\n",
    "# tips on jdbc ... https://sparkour.urizone.net/recipes/using-jdbc/#03\n",
    "# Load properties from file\n",
    "import json\n",
    "with open(\"../data-load/Resources/db-properties.json\") as propertyFile:\n",
    "    properties = json.load(propertyFile)\n",
    "\n",
    "dbMode = \"overwrite\"\n",
    "jdbc_url= properties[\"jdbcUrl\"]\n",
    "dbConfig = {\"user\": properties[\"user\"], \n",
    "          \"password\": properties[\"password\"], \n",
    "          \"driver\": properties[\"driver\"]\n",
    "         }"
   ]
  },
  {
   "cell_type": "code",
   "execution_count": 6,
   "metadata": {},
   "outputs": [
    {
     "name": "stdout",
     "output_type": "stream",
     "text": [
      "root\n",
      " |-- age: double (nullable = true)\n",
      " |-- sex: double (nullable = true)\n",
      " |-- cp: double (nullable = true)\n",
      " |-- trestbps: double (nullable = true)\n",
      " |-- chol: double (nullable = true)\n",
      " |-- fbs: double (nullable = true)\n",
      " |-- restecg: double (nullable = true)\n",
      " |-- thalach: double (nullable = true)\n",
      " |-- exang: double (nullable = true)\n",
      " |-- oldpeak: double (nullable = true)\n",
      " |-- slope: double (nullable = true)\n",
      " |-- ca: double (nullable = true)\n",
      " |-- thal: double (nullable = true)\n",
      " |-- num: integer (nullable = true)\n",
      " |-- target: integer (nullable = true)\n",
      " |-- id: integer (nullable = true)\n",
      "\n",
      "+----+---+---+--------+-----+---+-------+-------+-----+-------+-----+---+----+---+------+---+\n",
      "| age|sex| cp|trestbps| chol|fbs|restecg|thalach|exang|oldpeak|slope| ca|thal|num|target| id|\n",
      "+----+---+---+--------+-----+---+-------+-------+-----+-------+-----+---+----+---+------+---+\n",
      "|63.0|1.0|1.0|   145.0|233.0|1.0|    2.0|  150.0|  0.0|    2.3|  3.0|0.0| 6.0|  0|     0|  1|\n",
      "|37.0|1.0|3.0|   130.0|250.0|0.0|    0.0|  187.0|  0.0|    3.5|  3.0|0.0| 3.0|  0|     0|  2|\n",
      "|41.0|0.0|2.0|   130.0|204.0|0.0|    2.0|  172.0|  0.0|    1.4|  1.0|0.0| 3.0|  0|     0|  3|\n",
      "|56.0|1.0|2.0|   120.0|236.0|0.0|    0.0|  178.0|  0.0|    0.8|  1.0|0.0| 3.0|  0|     0|  4|\n",
      "|57.0|0.0|4.0|   120.0|354.0|0.0|    0.0|  163.0|  1.0|    0.6|  1.0|0.0| 3.0|  0|     0|  5|\n",
      "+----+---+---+--------+-----+---+-------+-------+-----+-------+-----+---+----+---+------+---+\n",
      "\n"
     ]
    }
   ],
   "source": [
    "entireDF = spark.read.jdbc(url=jdbc_url, table = 'heart_ml_cleveland', properties=dbConfig)\n",
    "entireDF.printSchema()\n",
    "entireDF.limit(5).show()"
   ]
  },
  {
   "cell_type": "markdown",
   "metadata": {},
   "source": [
    "## Exploratory Data Analysis"
   ]
  },
  {
   "cell_type": "code",
   "execution_count": 7,
   "metadata": {},
   "outputs": [
    {
     "name": "stdout",
     "output_type": "stream",
     "text": [
      "<class 'pandas.core.frame.DataFrame'>\n",
      "RangeIndex: 303 entries, 0 to 302\n",
      "Data columns (total 16 columns):\n",
      "age         303 non-null float64\n",
      "sex         303 non-null float64\n",
      "cp          303 non-null float64\n",
      "trestbps    303 non-null float64\n",
      "chol        303 non-null float64\n",
      "fbs         303 non-null float64\n",
      "restecg     303 non-null float64\n",
      "thalach     303 non-null float64\n",
      "exang       303 non-null float64\n",
      "oldpeak     303 non-null float64\n",
      "slope       303 non-null float64\n",
      "ca          299 non-null float64\n",
      "thal        301 non-null float64\n",
      "num         303 non-null int32\n",
      "target      303 non-null int32\n",
      "id          303 non-null int32\n",
      "dtypes: float64(13), int32(3)\n",
      "memory usage: 34.4 KB\n"
     ]
    }
   ],
   "source": [
    "#convert to pandas df\n",
    "dataset = entireDF.select(\"*\").toPandas()\n",
    "dataset.info()"
   ]
  },
  {
   "cell_type": "markdown",
   "metadata": {},
   "source": [
    "Dataset has total of 303 records with 4 missing values, 13 features. 'num' and 'target' correspond to the same column just that labels in num are 0 for absence of heart disease and 1,2,3,4 for presence.Hence, this is a classification problem. The 'target' column was added as a part of ETL before loading to db. Here 1,2,3,4 (in 'num') have been replaced with 1 to correspond to presence of heart disease. "
   ]
  },
  {
   "cell_type": "code",
   "execution_count": 8,
   "metadata": {},
   "outputs": [
    {
     "name": "stdout",
     "output_type": "stream",
     "text": [
      "<class 'pandas.core.frame.DataFrame'>\n",
      "Int64Index: 297 entries, 0 to 298\n",
      "Data columns (total 16 columns):\n",
      "age         297 non-null float64\n",
      "sex         297 non-null float64\n",
      "cp          297 non-null float64\n",
      "trestbps    297 non-null float64\n",
      "chol        297 non-null float64\n",
      "fbs         297 non-null float64\n",
      "restecg     297 non-null float64\n",
      "thalach     297 non-null float64\n",
      "exang       297 non-null float64\n",
      "oldpeak     297 non-null float64\n",
      "slope       297 non-null float64\n",
      "ca          297 non-null float64\n",
      "thal        297 non-null float64\n",
      "num         297 non-null int32\n",
      "target      297 non-null int32\n",
      "id          297 non-null int32\n",
      "dtypes: float64(13), int32(3)\n",
      "memory usage: 36.0 KB\n"
     ]
    }
   ],
   "source": [
    "#Drop null values as there are total 4 values, this should not make much difference\n",
    "dataset=dataset.dropna()\n",
    "dataset.info()"
   ]
  },
  {
   "cell_type": "code",
   "execution_count": 9,
   "metadata": {},
   "outputs": [
    {
     "data": {
      "text/html": [
       "<div>\n",
       "<style scoped>\n",
       "    .dataframe tbody tr th:only-of-type {\n",
       "        vertical-align: middle;\n",
       "    }\n",
       "\n",
       "    .dataframe tbody tr th {\n",
       "        vertical-align: top;\n",
       "    }\n",
       "\n",
       "    .dataframe thead th {\n",
       "        text-align: right;\n",
       "    }\n",
       "</style>\n",
       "<table border=\"1\" class=\"dataframe\">\n",
       "  <thead>\n",
       "    <tr style=\"text-align: right;\">\n",
       "      <th></th>\n",
       "      <th>age</th>\n",
       "      <th>sex</th>\n",
       "      <th>cp</th>\n",
       "      <th>trestbps</th>\n",
       "      <th>chol</th>\n",
       "      <th>fbs</th>\n",
       "      <th>restecg</th>\n",
       "      <th>thalach</th>\n",
       "      <th>exang</th>\n",
       "      <th>oldpeak</th>\n",
       "      <th>slope</th>\n",
       "      <th>ca</th>\n",
       "      <th>thal</th>\n",
       "      <th>target</th>\n",
       "      <th>id</th>\n",
       "    </tr>\n",
       "  </thead>\n",
       "  <tbody>\n",
       "    <tr>\n",
       "      <th>0</th>\n",
       "      <td>63.0</td>\n",
       "      <td>1.0</td>\n",
       "      <td>1.0</td>\n",
       "      <td>145.0</td>\n",
       "      <td>233.0</td>\n",
       "      <td>1.0</td>\n",
       "      <td>2.0</td>\n",
       "      <td>150.0</td>\n",
       "      <td>0.0</td>\n",
       "      <td>2.3</td>\n",
       "      <td>3.0</td>\n",
       "      <td>0.0</td>\n",
       "      <td>6.0</td>\n",
       "      <td>0</td>\n",
       "      <td>1</td>\n",
       "    </tr>\n",
       "    <tr>\n",
       "      <th>1</th>\n",
       "      <td>37.0</td>\n",
       "      <td>1.0</td>\n",
       "      <td>3.0</td>\n",
       "      <td>130.0</td>\n",
       "      <td>250.0</td>\n",
       "      <td>0.0</td>\n",
       "      <td>0.0</td>\n",
       "      <td>187.0</td>\n",
       "      <td>0.0</td>\n",
       "      <td>3.5</td>\n",
       "      <td>3.0</td>\n",
       "      <td>0.0</td>\n",
       "      <td>3.0</td>\n",
       "      <td>0</td>\n",
       "      <td>2</td>\n",
       "    </tr>\n",
       "    <tr>\n",
       "      <th>2</th>\n",
       "      <td>41.0</td>\n",
       "      <td>0.0</td>\n",
       "      <td>2.0</td>\n",
       "      <td>130.0</td>\n",
       "      <td>204.0</td>\n",
       "      <td>0.0</td>\n",
       "      <td>2.0</td>\n",
       "      <td>172.0</td>\n",
       "      <td>0.0</td>\n",
       "      <td>1.4</td>\n",
       "      <td>1.0</td>\n",
       "      <td>0.0</td>\n",
       "      <td>3.0</td>\n",
       "      <td>0</td>\n",
       "      <td>3</td>\n",
       "    </tr>\n",
       "    <tr>\n",
       "      <th>3</th>\n",
       "      <td>56.0</td>\n",
       "      <td>1.0</td>\n",
       "      <td>2.0</td>\n",
       "      <td>120.0</td>\n",
       "      <td>236.0</td>\n",
       "      <td>0.0</td>\n",
       "      <td>0.0</td>\n",
       "      <td>178.0</td>\n",
       "      <td>0.0</td>\n",
       "      <td>0.8</td>\n",
       "      <td>1.0</td>\n",
       "      <td>0.0</td>\n",
       "      <td>3.0</td>\n",
       "      <td>0</td>\n",
       "      <td>4</td>\n",
       "    </tr>\n",
       "    <tr>\n",
       "      <th>4</th>\n",
       "      <td>57.0</td>\n",
       "      <td>0.0</td>\n",
       "      <td>4.0</td>\n",
       "      <td>120.0</td>\n",
       "      <td>354.0</td>\n",
       "      <td>0.0</td>\n",
       "      <td>0.0</td>\n",
       "      <td>163.0</td>\n",
       "      <td>1.0</td>\n",
       "      <td>0.6</td>\n",
       "      <td>1.0</td>\n",
       "      <td>0.0</td>\n",
       "      <td>3.0</td>\n",
       "      <td>0</td>\n",
       "      <td>5</td>\n",
       "    </tr>\n",
       "  </tbody>\n",
       "</table>\n",
       "</div>"
      ],
      "text/plain": [
       "    age  sex   cp  trestbps   chol  fbs  restecg  thalach  exang  oldpeak  \\\n",
       "0  63.0  1.0  1.0     145.0  233.0  1.0      2.0    150.0    0.0      2.3   \n",
       "1  37.0  1.0  3.0     130.0  250.0  0.0      0.0    187.0    0.0      3.5   \n",
       "2  41.0  0.0  2.0     130.0  204.0  0.0      2.0    172.0    0.0      1.4   \n",
       "3  56.0  1.0  2.0     120.0  236.0  0.0      0.0    178.0    0.0      0.8   \n",
       "4  57.0  0.0  4.0     120.0  354.0  0.0      0.0    163.0    1.0      0.6   \n",
       "\n",
       "   slope   ca  thal  target  id  \n",
       "0    3.0  0.0   6.0       0   1  \n",
       "1    3.0  0.0   3.0       0   2  \n",
       "2    1.0  0.0   3.0       0   3  \n",
       "3    1.0  0.0   3.0       0   4  \n",
       "4    1.0  0.0   3.0       0   5  "
      ]
     },
     "execution_count": 9,
     "metadata": {},
     "output_type": "execute_result"
    }
   ],
   "source": [
    "dataset=dataset.drop(columns='num', axis=1)\n",
    "dataset.head()"
   ]
  },
  {
   "cell_type": "code",
   "execution_count": 10,
   "metadata": {},
   "outputs": [
    {
     "data": {
      "text/html": [
       "<div>\n",
       "<style scoped>\n",
       "    .dataframe tbody tr th:only-of-type {\n",
       "        vertical-align: middle;\n",
       "    }\n",
       "\n",
       "    .dataframe tbody tr th {\n",
       "        vertical-align: top;\n",
       "    }\n",
       "\n",
       "    .dataframe thead th {\n",
       "        text-align: right;\n",
       "    }\n",
       "</style>\n",
       "<table border=\"1\" class=\"dataframe\">\n",
       "  <thead>\n",
       "    <tr style=\"text-align: right;\">\n",
       "      <th></th>\n",
       "      <th>age</th>\n",
       "      <th>sex</th>\n",
       "      <th>cp</th>\n",
       "      <th>trestbps</th>\n",
       "      <th>chol</th>\n",
       "      <th>fbs</th>\n",
       "      <th>restecg</th>\n",
       "      <th>thalach</th>\n",
       "      <th>exang</th>\n",
       "      <th>oldpeak</th>\n",
       "      <th>slope</th>\n",
       "      <th>ca</th>\n",
       "      <th>thal</th>\n",
       "      <th>target</th>\n",
       "      <th>id</th>\n",
       "    </tr>\n",
       "  </thead>\n",
       "  <tbody>\n",
       "    <tr>\n",
       "      <th>count</th>\n",
       "      <td>297.000000</td>\n",
       "      <td>297.000000</td>\n",
       "      <td>297.000000</td>\n",
       "      <td>297.000000</td>\n",
       "      <td>297.000000</td>\n",
       "      <td>297.000000</td>\n",
       "      <td>297.000000</td>\n",
       "      <td>297.000000</td>\n",
       "      <td>297.000000</td>\n",
       "      <td>297.000000</td>\n",
       "      <td>297.000000</td>\n",
       "      <td>297.000000</td>\n",
       "      <td>297.000000</td>\n",
       "      <td>297.000000</td>\n",
       "      <td>297.000000</td>\n",
       "    </tr>\n",
       "    <tr>\n",
       "      <th>mean</th>\n",
       "      <td>54.542088</td>\n",
       "      <td>0.676768</td>\n",
       "      <td>3.158249</td>\n",
       "      <td>131.693603</td>\n",
       "      <td>247.350168</td>\n",
       "      <td>0.144781</td>\n",
       "      <td>0.996633</td>\n",
       "      <td>149.599327</td>\n",
       "      <td>0.326599</td>\n",
       "      <td>1.055556</td>\n",
       "      <td>1.602694</td>\n",
       "      <td>0.676768</td>\n",
       "      <td>4.730640</td>\n",
       "      <td>0.461279</td>\n",
       "      <td>149.141414</td>\n",
       "    </tr>\n",
       "    <tr>\n",
       "      <th>std</th>\n",
       "      <td>9.049736</td>\n",
       "      <td>0.468500</td>\n",
       "      <td>0.964859</td>\n",
       "      <td>17.762806</td>\n",
       "      <td>51.997583</td>\n",
       "      <td>0.352474</td>\n",
       "      <td>0.994914</td>\n",
       "      <td>22.941562</td>\n",
       "      <td>0.469761</td>\n",
       "      <td>1.166123</td>\n",
       "      <td>0.618187</td>\n",
       "      <td>0.938965</td>\n",
       "      <td>1.938629</td>\n",
       "      <td>0.499340</td>\n",
       "      <td>86.109964</td>\n",
       "    </tr>\n",
       "    <tr>\n",
       "      <th>min</th>\n",
       "      <td>29.000000</td>\n",
       "      <td>0.000000</td>\n",
       "      <td>1.000000</td>\n",
       "      <td>94.000000</td>\n",
       "      <td>126.000000</td>\n",
       "      <td>0.000000</td>\n",
       "      <td>0.000000</td>\n",
       "      <td>71.000000</td>\n",
       "      <td>0.000000</td>\n",
       "      <td>0.000000</td>\n",
       "      <td>1.000000</td>\n",
       "      <td>0.000000</td>\n",
       "      <td>3.000000</td>\n",
       "      <td>0.000000</td>\n",
       "      <td>1.000000</td>\n",
       "    </tr>\n",
       "    <tr>\n",
       "      <th>25%</th>\n",
       "      <td>48.000000</td>\n",
       "      <td>0.000000</td>\n",
       "      <td>3.000000</td>\n",
       "      <td>120.000000</td>\n",
       "      <td>211.000000</td>\n",
       "      <td>0.000000</td>\n",
       "      <td>0.000000</td>\n",
       "      <td>133.000000</td>\n",
       "      <td>0.000000</td>\n",
       "      <td>0.000000</td>\n",
       "      <td>1.000000</td>\n",
       "      <td>0.000000</td>\n",
       "      <td>3.000000</td>\n",
       "      <td>0.000000</td>\n",
       "      <td>75.000000</td>\n",
       "    </tr>\n",
       "    <tr>\n",
       "      <th>50%</th>\n",
       "      <td>56.000000</td>\n",
       "      <td>1.000000</td>\n",
       "      <td>3.000000</td>\n",
       "      <td>130.000000</td>\n",
       "      <td>243.000000</td>\n",
       "      <td>0.000000</td>\n",
       "      <td>1.000000</td>\n",
       "      <td>153.000000</td>\n",
       "      <td>0.000000</td>\n",
       "      <td>0.800000</td>\n",
       "      <td>2.000000</td>\n",
       "      <td>0.000000</td>\n",
       "      <td>3.000000</td>\n",
       "      <td>0.000000</td>\n",
       "      <td>149.000000</td>\n",
       "    </tr>\n",
       "    <tr>\n",
       "      <th>75%</th>\n",
       "      <td>61.000000</td>\n",
       "      <td>1.000000</td>\n",
       "      <td>4.000000</td>\n",
       "      <td>140.000000</td>\n",
       "      <td>276.000000</td>\n",
       "      <td>0.000000</td>\n",
       "      <td>2.000000</td>\n",
       "      <td>166.000000</td>\n",
       "      <td>1.000000</td>\n",
       "      <td>1.600000</td>\n",
       "      <td>2.000000</td>\n",
       "      <td>1.000000</td>\n",
       "      <td>7.000000</td>\n",
       "      <td>1.000000</td>\n",
       "      <td>223.000000</td>\n",
       "    </tr>\n",
       "    <tr>\n",
       "      <th>max</th>\n",
       "      <td>77.000000</td>\n",
       "      <td>1.000000</td>\n",
       "      <td>4.000000</td>\n",
       "      <td>200.000000</td>\n",
       "      <td>564.000000</td>\n",
       "      <td>1.000000</td>\n",
       "      <td>2.000000</td>\n",
       "      <td>202.000000</td>\n",
       "      <td>1.000000</td>\n",
       "      <td>6.200000</td>\n",
       "      <td>3.000000</td>\n",
       "      <td>3.000000</td>\n",
       "      <td>7.000000</td>\n",
       "      <td>1.000000</td>\n",
       "      <td>299.000000</td>\n",
       "    </tr>\n",
       "  </tbody>\n",
       "</table>\n",
       "</div>"
      ],
      "text/plain": [
       "              age         sex          cp    trestbps        chol         fbs  \\\n",
       "count  297.000000  297.000000  297.000000  297.000000  297.000000  297.000000   \n",
       "mean    54.542088    0.676768    3.158249  131.693603  247.350168    0.144781   \n",
       "std      9.049736    0.468500    0.964859   17.762806   51.997583    0.352474   \n",
       "min     29.000000    0.000000    1.000000   94.000000  126.000000    0.000000   \n",
       "25%     48.000000    0.000000    3.000000  120.000000  211.000000    0.000000   \n",
       "50%     56.000000    1.000000    3.000000  130.000000  243.000000    0.000000   \n",
       "75%     61.000000    1.000000    4.000000  140.000000  276.000000    0.000000   \n",
       "max     77.000000    1.000000    4.000000  200.000000  564.000000    1.000000   \n",
       "\n",
       "          restecg     thalach       exang     oldpeak       slope          ca  \\\n",
       "count  297.000000  297.000000  297.000000  297.000000  297.000000  297.000000   \n",
       "mean     0.996633  149.599327    0.326599    1.055556    1.602694    0.676768   \n",
       "std      0.994914   22.941562    0.469761    1.166123    0.618187    0.938965   \n",
       "min      0.000000   71.000000    0.000000    0.000000    1.000000    0.000000   \n",
       "25%      0.000000  133.000000    0.000000    0.000000    1.000000    0.000000   \n",
       "50%      1.000000  153.000000    0.000000    0.800000    2.000000    0.000000   \n",
       "75%      2.000000  166.000000    1.000000    1.600000    2.000000    1.000000   \n",
       "max      2.000000  202.000000    1.000000    6.200000    3.000000    3.000000   \n",
       "\n",
       "             thal      target          id  \n",
       "count  297.000000  297.000000  297.000000  \n",
       "mean     4.730640    0.461279  149.141414  \n",
       "std      1.938629    0.499340   86.109964  \n",
       "min      3.000000    0.000000    1.000000  \n",
       "25%      3.000000    0.000000   75.000000  \n",
       "50%      3.000000    0.000000  149.000000  \n",
       "75%      7.000000    1.000000  223.000000  \n",
       "max      7.000000    1.000000  299.000000  "
      ]
     },
     "execution_count": 10,
     "metadata": {},
     "output_type": "execute_result"
    }
   ],
   "source": [
    "#Examine the dataset to identify scale of values\n",
    "dataset.describe()"
   ]
  },
  {
   "cell_type": "markdown",
   "metadata": {},
   "source": [
    "The minimum and maximum values for continuous feature columns like 'age', 'chol', 'thalach' etc. are in different scales."
   ]
  },
  {
   "cell_type": "code",
   "execution_count": 44,
   "metadata": {},
   "outputs": [],
   "source": [
    "# #pip install pandas-profiling[notebook,html]\n",
    "# import pandas_profiling as pp\n",
    "# from pandas_profiling import ProfileReport"
   ]
  },
  {
   "cell_type": "code",
   "execution_count": 62,
   "metadata": {},
   "outputs": [],
   "source": [
    "# #EDA with pandas profiling(https://github.com/pandas-profiling/pandas-profiling)\n",
    "# profile=ProfileReport(dataset, title='Pandas Profiling Report for cleveland dataset',  html={'style':{'full_width':True}})\n",
    "# profile.to_notebook_iframe()"
   ]
  },
  {
   "cell_type": "markdown",
   "metadata": {},
   "source": [
    "### Correlation matrix to check for data redundancy\n",
    "\n"
   ]
  },
  {
   "cell_type": "code",
   "execution_count": 48,
   "metadata": {},
   "outputs": [],
   "source": [
    "# rcParams['figure.figsize'] = 20, 14\n",
    "# plt.matshow(dataset.corr())\n",
    "# plt.yticks(np.arange(dataset.shape[1]), dataset.columns)\n",
    "# plt.xticks(np.arange(dataset.shape[1]), dataset.columns)\n",
    "# plt.colorbar()"
   ]
  },
  {
   "cell_type": "code",
   "execution_count": 11,
   "metadata": {},
   "outputs": [
    {
     "data": {
      "image/png": "[encoded data removed]",
      "text/plain": [
       "<Figure size 1008x720 with 16 Axes>"
      ]
     },
     "metadata": {
      "needs_background": "light"
     },
     "output_type": "display_data"
    }
   ],
   "source": [
    "dataset.hist(figsize=(14,10), color=\"brown\",alpha=0.7, grid=False);"
   ]
  },
  {
   "cell_type": "markdown",
   "metadata": {},
   "source": [
    "The histograms suggest that there are 5 continuous features, and rest categorical and each feature has a different range of distribution. Age, thalach, trestbps seem to be very close to a normal distribution. Oldpeak and Chol are somewhat skewed. While within categorical features, the ratio for each class is not equal. Good thing is that datapoints in the target are comparable in both classes (0,1)."
   ]
  },
  {
   "cell_type": "code",
   "execution_count": 15,
   "metadata": {},
   "outputs": [],
   "source": [
    "# dataset['num']=dataset['num'].replace(['1', '2','3', '4'],'1')\n",
    "# #     value=1,\n",
    "# #     inplace=True)\n",
    "# dataset\n",
    "# dataset['num']=dataset.loc[dataset['num'].isin(['1', '2','3', '4'])]='1'\n",
    "# dataset\n",
    "# dataset['num'].value_counts()"
   ]
  },
  {
   "cell_type": "markdown",
   "metadata": {},
   "source": [
    "### Examine distribution of datapoints in the target "
   ]
  },
  {
   "cell_type": "code",
   "execution_count": 12,
   "metadata": {},
   "outputs": [
    {
     "name": "stdout",
     "output_type": "stream",
     "text": [
      "Percentage of data distribution in the two classes are:\n",
      "53.87\n",
      "46.13\n"
     ]
    }
   ],
   "source": [
    "#Check count\n",
    "a,b=np.bincount(dataset.target)\n",
    "print(f\"Percentage of data distribution in the two classes are:\")\n",
    "print(round(a/(a+b)*100,2))\n",
    "print(round(b/(a+b)*100,2))"
   ]
  },
  {
   "cell_type": "code",
   "execution_count": 13,
   "metadata": {},
   "outputs": [
    {
     "data": {
      "image/png": "[encoded data removed]",
      "text/plain": [
       "<Figure size 432x360 with 1 Axes>"
      ]
     },
     "metadata": {
      "needs_background": "light"
     },
     "output_type": "display_data"
    }
   ],
   "source": [
    "#Visualize\n",
    "rcParams['figure.figsize'] = 6,5\n",
    "plt.bar(dataset['target'].unique(), dataset['target'].value_counts(), color = ['pink','cyan'])\n",
    "plt.xticks([0, 1])\n",
    "plt.xlabel('Target Classes')\n",
    "plt.ylabel('Count');"
   ]
  },
  {
   "cell_type": "markdown",
   "metadata": {},
   "source": [
    "Data distribution in the target suggests it is a balanced dataset, hence we don't need to use stratify during data splitting."
   ]
  },
  {
   "cell_type": "markdown",
   "metadata": {},
   "source": [
    "## Data Pre-Processing\n",
    "\n",
    "From EDA, it is clear that the data needs to be scaled before proceeding and categorical variables need to be converted to dummy variables."
   ]
  },
  {
   "cell_type": "code",
   "execution_count": 14,
   "metadata": {},
   "outputs": [
    {
     "data": {
      "text/html": [
       "<div>\n",
       "<style scoped>\n",
       "    .dataframe tbody tr th:only-of-type {\n",
       "        vertical-align: middle;\n",
       "    }\n",
       "\n",
       "    .dataframe tbody tr th {\n",
       "        vertical-align: top;\n",
       "    }\n",
       "\n",
       "    .dataframe thead th {\n",
       "        text-align: right;\n",
       "    }\n",
       "</style>\n",
       "<table border=\"1\" class=\"dataframe\">\n",
       "  <thead>\n",
       "    <tr style=\"text-align: right;\">\n",
       "      <th></th>\n",
       "      <th>age</th>\n",
       "      <th>trestbps</th>\n",
       "      <th>chol</th>\n",
       "      <th>thalach</th>\n",
       "      <th>oldpeak</th>\n",
       "      <th>target</th>\n",
       "      <th>id</th>\n",
       "      <th>sex_0.0</th>\n",
       "      <th>sex_1.0</th>\n",
       "      <th>cp_1.0</th>\n",
       "      <th>...</th>\n",
       "      <th>slope_1.0</th>\n",
       "      <th>slope_2.0</th>\n",
       "      <th>slope_3.0</th>\n",
       "      <th>ca_0.0</th>\n",
       "      <th>ca_1.0</th>\n",
       "      <th>ca_2.0</th>\n",
       "      <th>ca_3.0</th>\n",
       "      <th>thal_3.0</th>\n",
       "      <th>thal_6.0</th>\n",
       "      <th>thal_7.0</th>\n",
       "    </tr>\n",
       "  </thead>\n",
       "  <tbody>\n",
       "    <tr>\n",
       "      <th>0</th>\n",
       "      <td>63.0</td>\n",
       "      <td>145.0</td>\n",
       "      <td>233.0</td>\n",
       "      <td>150.0</td>\n",
       "      <td>2.3</td>\n",
       "      <td>0</td>\n",
       "      <td>1</td>\n",
       "      <td>0</td>\n",
       "      <td>1</td>\n",
       "      <td>1</td>\n",
       "      <td>...</td>\n",
       "      <td>0</td>\n",
       "      <td>0</td>\n",
       "      <td>1</td>\n",
       "      <td>1</td>\n",
       "      <td>0</td>\n",
       "      <td>0</td>\n",
       "      <td>0</td>\n",
       "      <td>0</td>\n",
       "      <td>1</td>\n",
       "      <td>0</td>\n",
       "    </tr>\n",
       "    <tr>\n",
       "      <th>1</th>\n",
       "      <td>37.0</td>\n",
       "      <td>130.0</td>\n",
       "      <td>250.0</td>\n",
       "      <td>187.0</td>\n",
       "      <td>3.5</td>\n",
       "      <td>0</td>\n",
       "      <td>2</td>\n",
       "      <td>0</td>\n",
       "      <td>1</td>\n",
       "      <td>0</td>\n",
       "      <td>...</td>\n",
       "      <td>0</td>\n",
       "      <td>0</td>\n",
       "      <td>1</td>\n",
       "      <td>1</td>\n",
       "      <td>0</td>\n",
       "      <td>0</td>\n",
       "      <td>0</td>\n",
       "      <td>1</td>\n",
       "      <td>0</td>\n",
       "      <td>0</td>\n",
       "    </tr>\n",
       "    <tr>\n",
       "      <th>2</th>\n",
       "      <td>41.0</td>\n",
       "      <td>130.0</td>\n",
       "      <td>204.0</td>\n",
       "      <td>172.0</td>\n",
       "      <td>1.4</td>\n",
       "      <td>0</td>\n",
       "      <td>3</td>\n",
       "      <td>1</td>\n",
       "      <td>0</td>\n",
       "      <td>0</td>\n",
       "      <td>...</td>\n",
       "      <td>1</td>\n",
       "      <td>0</td>\n",
       "      <td>0</td>\n",
       "      <td>1</td>\n",
       "      <td>0</td>\n",
       "      <td>0</td>\n",
       "      <td>0</td>\n",
       "      <td>1</td>\n",
       "      <td>0</td>\n",
       "      <td>0</td>\n",
       "    </tr>\n",
       "    <tr>\n",
       "      <th>3</th>\n",
       "      <td>56.0</td>\n",
       "      <td>120.0</td>\n",
       "      <td>236.0</td>\n",
       "      <td>178.0</td>\n",
       "      <td>0.8</td>\n",
       "      <td>0</td>\n",
       "      <td>4</td>\n",
       "      <td>0</td>\n",
       "      <td>1</td>\n",
       "      <td>0</td>\n",
       "      <td>...</td>\n",
       "      <td>1</td>\n",
       "      <td>0</td>\n",
       "      <td>0</td>\n",
       "      <td>1</td>\n",
       "      <td>0</td>\n",
       "      <td>0</td>\n",
       "      <td>0</td>\n",
       "      <td>1</td>\n",
       "      <td>0</td>\n",
       "      <td>0</td>\n",
       "    </tr>\n",
       "    <tr>\n",
       "      <th>4</th>\n",
       "      <td>57.0</td>\n",
       "      <td>120.0</td>\n",
       "      <td>354.0</td>\n",
       "      <td>163.0</td>\n",
       "      <td>0.6</td>\n",
       "      <td>0</td>\n",
       "      <td>5</td>\n",
       "      <td>1</td>\n",
       "      <td>0</td>\n",
       "      <td>0</td>\n",
       "      <td>...</td>\n",
       "      <td>1</td>\n",
       "      <td>0</td>\n",
       "      <td>0</td>\n",
       "      <td>1</td>\n",
       "      <td>0</td>\n",
       "      <td>0</td>\n",
       "      <td>0</td>\n",
       "      <td>1</td>\n",
       "      <td>0</td>\n",
       "      <td>0</td>\n",
       "    </tr>\n",
       "  </tbody>\n",
       "</table>\n",
       "<p>5 rows × 30 columns</p>\n",
       "</div>"
      ],
      "text/plain": [
       "    age  trestbps   chol  thalach  oldpeak  target  id  sex_0.0  sex_1.0  \\\n",
       "0  63.0     145.0  233.0    150.0      2.3       0   1        0        1   \n",
       "1  37.0     130.0  250.0    187.0      3.5       0   2        0        1   \n",
       "2  41.0     130.0  204.0    172.0      1.4       0   3        1        0   \n",
       "3  56.0     120.0  236.0    178.0      0.8       0   4        0        1   \n",
       "4  57.0     120.0  354.0    163.0      0.6       0   5        1        0   \n",
       "\n",
       "   cp_1.0    ...     slope_1.0  slope_2.0  slope_3.0  ca_0.0  ca_1.0  ca_2.0  \\\n",
       "0       1    ...             0          0          1       1       0       0   \n",
       "1       0    ...             0          0          1       1       0       0   \n",
       "2       0    ...             1          0          0       1       0       0   \n",
       "3       0    ...             1          0          0       1       0       0   \n",
       "4       0    ...             1          0          0       1       0       0   \n",
       "\n",
       "   ca_3.0  thal_3.0  thal_6.0  thal_7.0  \n",
       "0       0         0         1         0  \n",
       "1       0         1         0         0  \n",
       "2       0         1         0         0  \n",
       "3       0         1         0         0  \n",
       "4       0         1         0         0  \n",
       "\n",
       "[5 rows x 30 columns]"
      ]
     },
     "execution_count": 14,
     "metadata": {},
     "output_type": "execute_result"
    }
   ],
   "source": [
    "#Processing categorical features\n",
    "dataset = pd.get_dummies(dataset, columns = ['sex', 'cp', 'fbs', 'restecg', 'exang', 'slope', 'ca', 'thal'])\n",
    "dataset.head()"
   ]
  },
  {
   "cell_type": "code",
   "execution_count": 15,
   "metadata": {},
   "outputs": [
    {
     "data": {
      "text/html": [
       "<div>\n",
       "<style scoped>\n",
       "    .dataframe tbody tr th:only-of-type {\n",
       "        vertical-align: middle;\n",
       "    }\n",
       "\n",
       "    .dataframe tbody tr th {\n",
       "        vertical-align: top;\n",
       "    }\n",
       "\n",
       "    .dataframe thead th {\n",
       "        text-align: right;\n",
       "    }\n",
       "</style>\n",
       "<table border=\"1\" class=\"dataframe\">\n",
       "  <thead>\n",
       "    <tr style=\"text-align: right;\">\n",
       "      <th></th>\n",
       "      <th>age</th>\n",
       "      <th>trestbps</th>\n",
       "      <th>chol</th>\n",
       "      <th>thalach</th>\n",
       "      <th>oldpeak</th>\n",
       "      <th>target</th>\n",
       "      <th>id</th>\n",
       "      <th>sex_0.0</th>\n",
       "      <th>sex_1.0</th>\n",
       "      <th>cp_1.0</th>\n",
       "      <th>...</th>\n",
       "      <th>slope_1.0</th>\n",
       "      <th>slope_2.0</th>\n",
       "      <th>slope_3.0</th>\n",
       "      <th>ca_0.0</th>\n",
       "      <th>ca_1.0</th>\n",
       "      <th>ca_2.0</th>\n",
       "      <th>ca_3.0</th>\n",
       "      <th>thal_3.0</th>\n",
       "      <th>thal_6.0</th>\n",
       "      <th>thal_7.0</th>\n",
       "    </tr>\n",
       "  </thead>\n",
       "  <tbody>\n",
       "    <tr>\n",
       "      <th>0</th>\n",
       "      <td>0.936181</td>\n",
       "      <td>0.750380</td>\n",
       "      <td>-0.276443</td>\n",
       "      <td>0.017494</td>\n",
       "      <td>1.068965</td>\n",
       "      <td>0</td>\n",
       "      <td>1</td>\n",
       "      <td>0</td>\n",
       "      <td>1</td>\n",
       "      <td>1</td>\n",
       "      <td>...</td>\n",
       "      <td>0</td>\n",
       "      <td>0</td>\n",
       "      <td>1</td>\n",
       "      <td>1</td>\n",
       "      <td>0</td>\n",
       "      <td>0</td>\n",
       "      <td>0</td>\n",
       "      <td>0</td>\n",
       "      <td>1</td>\n",
       "      <td>0</td>\n",
       "    </tr>\n",
       "    <tr>\n",
       "      <th>1</th>\n",
       "      <td>-1.941680</td>\n",
       "      <td>-0.095506</td>\n",
       "      <td>0.051047</td>\n",
       "      <td>1.633010</td>\n",
       "      <td>2.099753</td>\n",
       "      <td>0</td>\n",
       "      <td>2</td>\n",
       "      <td>0</td>\n",
       "      <td>1</td>\n",
       "      <td>0</td>\n",
       "      <td>...</td>\n",
       "      <td>0</td>\n",
       "      <td>0</td>\n",
       "      <td>1</td>\n",
       "      <td>1</td>\n",
       "      <td>0</td>\n",
       "      <td>0</td>\n",
       "      <td>0</td>\n",
       "      <td>1</td>\n",
       "      <td>0</td>\n",
       "      <td>0</td>\n",
       "    </tr>\n",
       "    <tr>\n",
       "      <th>2</th>\n",
       "      <td>-1.498933</td>\n",
       "      <td>-0.095506</td>\n",
       "      <td>-0.835103</td>\n",
       "      <td>0.978071</td>\n",
       "      <td>0.295874</td>\n",
       "      <td>0</td>\n",
       "      <td>3</td>\n",
       "      <td>1</td>\n",
       "      <td>0</td>\n",
       "      <td>0</td>\n",
       "      <td>...</td>\n",
       "      <td>1</td>\n",
       "      <td>0</td>\n",
       "      <td>0</td>\n",
       "      <td>1</td>\n",
       "      <td>0</td>\n",
       "      <td>0</td>\n",
       "      <td>0</td>\n",
       "      <td>1</td>\n",
       "      <td>0</td>\n",
       "      <td>0</td>\n",
       "    </tr>\n",
       "    <tr>\n",
       "      <th>3</th>\n",
       "      <td>0.161372</td>\n",
       "      <td>-0.659431</td>\n",
       "      <td>-0.218651</td>\n",
       "      <td>1.240047</td>\n",
       "      <td>-0.219520</td>\n",
       "      <td>0</td>\n",
       "      <td>4</td>\n",
       "      <td>0</td>\n",
       "      <td>1</td>\n",
       "      <td>0</td>\n",
       "      <td>...</td>\n",
       "      <td>1</td>\n",
       "      <td>0</td>\n",
       "      <td>0</td>\n",
       "      <td>1</td>\n",
       "      <td>0</td>\n",
       "      <td>0</td>\n",
       "      <td>0</td>\n",
       "      <td>1</td>\n",
       "      <td>0</td>\n",
       "      <td>0</td>\n",
       "    </tr>\n",
       "    <tr>\n",
       "      <th>4</th>\n",
       "      <td>0.272059</td>\n",
       "      <td>-0.659431</td>\n",
       "      <td>2.054515</td>\n",
       "      <td>0.585108</td>\n",
       "      <td>-0.391318</td>\n",
       "      <td>0</td>\n",
       "      <td>5</td>\n",
       "      <td>1</td>\n",
       "      <td>0</td>\n",
       "      <td>0</td>\n",
       "      <td>...</td>\n",
       "      <td>1</td>\n",
       "      <td>0</td>\n",
       "      <td>0</td>\n",
       "      <td>1</td>\n",
       "      <td>0</td>\n",
       "      <td>0</td>\n",
       "      <td>0</td>\n",
       "      <td>1</td>\n",
       "      <td>0</td>\n",
       "      <td>0</td>\n",
       "    </tr>\n",
       "  </tbody>\n",
       "</table>\n",
       "<p>5 rows × 30 columns</p>\n",
       "</div>"
      ],
      "text/plain": [
       "        age  trestbps      chol   thalach   oldpeak  target  id  sex_0.0  \\\n",
       "0  0.936181  0.750380 -0.276443  0.017494  1.068965       0   1        0   \n",
       "1 -1.941680 -0.095506  0.051047  1.633010  2.099753       0   2        0   \n",
       "2 -1.498933 -0.095506 -0.835103  0.978071  0.295874       0   3        1   \n",
       "3  0.161372 -0.659431 -0.218651  1.240047 -0.219520       0   4        0   \n",
       "4  0.272059 -0.659431  2.054515  0.585108 -0.391318       0   5        1   \n",
       "\n",
       "   sex_1.0  cp_1.0    ...     slope_1.0  slope_2.0  slope_3.0  ca_0.0  ca_1.0  \\\n",
       "0        1       1    ...             0          0          1       1       0   \n",
       "1        1       0    ...             0          0          1       1       0   \n",
       "2        0       0    ...             1          0          0       1       0   \n",
       "3        1       0    ...             1          0          0       1       0   \n",
       "4        0       0    ...             1          0          0       1       0   \n",
       "\n",
       "   ca_2.0  ca_3.0  thal_3.0  thal_6.0  thal_7.0  \n",
       "0       0       0         0         1         0  \n",
       "1       0       0         1         0         0  \n",
       "2       0       0         1         0         0  \n",
       "3       0       0         1         0         0  \n",
       "4       0       0         1         0         0  \n",
       "\n",
       "[5 rows x 30 columns]"
      ]
     },
     "execution_count": 15,
     "metadata": {},
     "output_type": "execute_result"
    }
   ],
   "source": [
    "#Scaling continuous features\n",
    "standardScaler = StandardScaler()\n",
    "columns_to_scale = ['age', 'trestbps', 'chol', 'thalach', 'oldpeak']\n",
    "dataset[columns_to_scale] = standardScaler.fit_transform(dataset[columns_to_scale])\n",
    "dataset.head()"
   ]
  },
  {
   "cell_type": "markdown",
   "metadata": {},
   "source": [
    "### Split data to train and test sets\n",
    "\n"
   ]
  },
  {
   "cell_type": "code",
   "execution_count": 16,
   "metadata": {},
   "outputs": [],
   "source": [
    "#Stratify=y when used doesn't show much variation, since data is balanced. Hence removed\n",
    "y = dataset['target']\n",
    "X = dataset.drop(['target'], axis = 1)\n",
    "X_train, X_test, y_train, y_test = train_test_split(X, y, test_size = 0.33, random_state = 0)\n",
    "#X_train, X_test, y_train, y_test = train_test_split(X, y, test_size = 0.33, random_state = 0, stratify=y)\n"
   ]
  },
  {
   "cell_type": "code",
   "execution_count": 17,
   "metadata": {},
   "outputs": [
    {
     "name": "stdout",
     "output_type": "stream",
     "text": [
      "Percentage of data distribution in the train set:\n",
      "57.58\n",
      "42.42\n",
      "-------------------\n",
      "Percentage of data distribution in the test set:\n",
      "46.46\n",
      "53.54\n"
     ]
    }
   ],
   "source": [
    "# Check if the labels are well shuffled in train and test set\n",
    "a,b=np.bincount(y_train)\n",
    "print(f\"Percentage of data distribution in the train set:\")\n",
    "print(round(a/(a+b)*100,2))\n",
    "print(round(b/(a+b)*100,2))\n",
    "print(\"-------------------\")\n",
    "x,y=np.bincount(y_test)\n",
    "print(f\"Percentage of data distribution in the test set:\")\n",
    "print(round(x/(x+y)*100,2))\n",
    "print(round(y/(x+y)*100,2))\n",
    "# np.bincount(y_test)"
   ]
  },
  {
   "cell_type": "markdown",
   "metadata": {},
   "source": [
    "Data labels are well distributed in both train and test sets"
   ]
  },
  {
   "cell_type": "markdown",
   "metadata": {},
   "source": [
    "## Applying Machine Learning Algorithms\n",
    "\n",
    "### Logistic Regression"
   ]
  },
  {
   "cell_type": "code",
   "execution_count": 18,
   "metadata": {},
   "outputs": [
    {
     "data": {
      "text/plain": [
       "90.91"
      ]
     },
     "execution_count": 18,
     "metadata": {},
     "output_type": "execute_result"
    }
   ],
   "source": [
    "from sklearn.linear_model import LogisticRegression\n",
    "lg = LogisticRegression()\n",
    "# Create an instance of Logistic Regression Classifier and fit the data.\n",
    "lg.fit(X_train,y_train)\n",
    "lg_score=round(lg.score(X_train,y_train)*100,2)\n",
    "lg_score"
   ]
  },
  {
   "cell_type": "markdown",
   "metadata": {},
   "source": [
    "\n",
    "### K Neighbors Classifier\n",
    "\n",
    "The classification parameters are values of neighbors (k) and distance. Different values of neighbours will be used to check the best output score. "
   ]
  },
  {
   "cell_type": "code",
   "execution_count": 19,
   "metadata": {},
   "outputs": [
    {
     "data": {
      "text/plain": [
       "[100.0, 98.99, 100.0, 100.0, 100.0, 100.0, 100.0, 98.99, 100.0]"
      ]
     },
     "execution_count": 19,
     "metadata": {},
     "output_type": "execute_result"
    }
   ],
   "source": [
    "#Hold the cores for various neighbors i.e. k in a list\n",
    "knn_scores = []\n",
    "for i in range(1,10):\n",
    "    knn_classifier = KNeighborsClassifier(n_neighbors = i)\n",
    "    knn_classifier.fit(X_train, y_train)\n",
    "    knn_scores.append(round(knn_classifier.score(X_test, y_test)*100,2))\n",
    "        \n",
    "knn_scores"
   ]
  },
  {
   "cell_type": "code",
   "execution_count": 20,
   "metadata": {},
   "outputs": [
    {
     "data": {
      "image/png": "[encoded data removed]",
      "text/plain": [
       "<Figure size 576x432 with 1 Axes>"
      ]
     },
     "metadata": {
      "needs_background": "light"
     },
     "output_type": "display_data"
    }
   ],
   "source": [
    "rcParams['figure.figsize'] = 8,6\n",
    "plt.plot([i for i in range(1, 10)], knn_scores, color = 'brown' )\n",
    "for i in range(1,10):\n",
    "    plt.text(i, knn_scores[i-1], (i, knn_scores[i-1]))\n",
    "#     plt.text(i, knn_scores[i-1])\n",
    "\n",
    "plt.xticks([i for i in range(1, 10)])\n",
    "plt.xlabel('Number of Neighbors (K)')\n",
    "plt.ylabel('Scores')\n",
    "plt.title('Classifier Scores For Different K Values');"
   ]
  },
  {
   "cell_type": "markdown",
   "metadata": {},
   "source": [
    "The maximum score is achieved as 100 for k=1,3,4,5,6,7,10 neighbors."
   ]
  },
  {
   "cell_type": "markdown",
   "metadata": {},
   "source": [
    "### Support Vector Classifier\n",
    "\n",
    "First testing all kernels.\n",
    "Second, select the best kernel and perform Hyperparameter Tuning\n"
   ]
  },
  {
   "cell_type": "code",
   "execution_count": 21,
   "metadata": {},
   "outputs": [],
   "source": [
    "svc_scores = []\n",
    "kernels = ['linear', 'poly', 'rbf', 'sigmoid']\n",
    "for i in range(len(kernels)):\n",
    "    svc_classifier = SVC(kernel = kernels[i])\n",
    "    svc_classifier.fit(X_train, y_train)\n",
    "    svc_scores.append(round(svc_classifier.score(X_test, y_test)*100,2))\n"
   ]
  },
  {
   "cell_type": "code",
   "execution_count": 22,
   "metadata": {},
   "outputs": [
    {
     "data": {
      "image/png": "[encoded data removed]",
      "text/plain": [
       "<Figure size 576x432 with 1 Axes>"
      ]
     },
     "metadata": {
      "needs_background": "light"
     },
     "output_type": "display_data"
    }
   ],
   "source": [
    "rcParams['figure.figsize'] = 8,6\n",
    "colors = rainbow(np.linspace(0, 1, len(kernels)))\n",
    "plt.bar(kernels, svc_scores, color = colors)\n",
    "for i in range(len(kernels)):\n",
    "    plt.text(i, svc_scores[i], svc_scores[i])\n",
    "plt.xlabel('Kernels')\n",
    "plt.ylabel('Scores')\n",
    "plt.title('Support Vector Classifier scores for different kernels');"
   ]
  },
  {
   "cell_type": "markdown",
   "metadata": {},
   "source": [
    "## Hyperparameter Tuning\n",
    "\n",
    "Using GridSearchCV to tune the model's parameters, gamma and rgularization(C) using linear kernel"
   ]
  },
  {
   "cell_type": "code",
   "execution_count": 23,
   "metadata": {},
   "outputs": [
    {
     "name": "stdout",
     "output_type": "stream",
     "text": [
      "Fitting 5 folds for each of 20 candidates, totalling 100 fits\n",
      "[CV] C=1, gamma=0.0001 ...............................................\n",
      "[CV] ................... C=1, gamma=0.0001, score=1.000, total=   0.0s\n",
      "[CV] C=1, gamma=0.0001 ...............................................\n",
      "[CV] ................... C=1, gamma=0.0001, score=1.000, total=   0.0s\n",
      "[CV] C=1, gamma=0.0001 ...............................................\n",
      "[CV] ................... C=1, gamma=0.0001, score=0.950, total=   0.0s\n",
      "[CV] C=1, gamma=0.0001 ...............................................\n",
      "[CV] ................... C=1, gamma=0.0001, score=1.000, total=   0.0s\n",
      "[CV] C=1, gamma=0.0001 ...............................................\n",
      "[CV] ................... C=1, gamma=0.0001, score=1.000, total=   0.0s\n",
      "[CV] C=1, gamma=0.0005 ...............................................\n",
      "[CV] ................... C=1, gamma=0.0005, score=1.000, total=   0.0s\n",
      "[CV] C=1, gamma=0.0005 ...............................................\n",
      "[CV] ................... C=1, gamma=0.0005, score=1.000, total=   0.0s\n",
      "[CV] C=1, gamma=0.0005 ...............................................\n",
      "[CV] ................... C=1, gamma=0.0005, score=0.975, total=   0.0s\n",
      "[CV] C=1, gamma=0.0005 ...............................................\n",
      "[CV] ................... C=1, gamma=0.0005, score=1.000, total=   0.0s\n",
      "[CV] C=1, gamma=0.0005 ...............................................\n",
      "[CV] ................... C=1, gamma=0.0005, score=1.000, total=   0.0s\n",
      "[CV] C=1, gamma=0.001 ................................................\n",
      "[CV] .................... C=1, gamma=0.001, score=1.000, total=   0.0s\n",
      "[CV] C=1, gamma=0.001 ................................................\n",
      "[CV] .................... C=1, gamma=0.001, score=1.000, total=   0.0s\n",
      "[CV] C=1, gamma=0.001 ................................................\n",
      "[CV] .................... C=1, gamma=0.001, score=1.000, total=   0.0s\n",
      "[CV] C=1, gamma=0.001 ................................................\n",
      "[CV] .................... C=1, gamma=0.001, score=1.000, total=   0.0s\n",
      "[CV] C=1, gamma=0.001 ................................................\n",
      "[CV] .................... C=1, gamma=0.001, score=1.000, total=   0.0s\n",
      "[CV] C=1, gamma=0.005 ................................................\n",
      "[CV] .................... C=1, gamma=0.005, score=0.975, total=   0.0s\n",
      "[CV] C=1, gamma=0.005 ................................................\n",
      "[CV] .................... C=1, gamma=0.005, score=1.000, total=   0.0s\n",
      "[CV] C=1, gamma=0.005 ................................................\n",
      "[CV] .................... C=1, gamma=0.005, score=1.000, total=   0.0s\n",
      "[CV] C=1, gamma=0.005 ................................................\n",
      "[CV] .................... C=1, gamma=0.005, score=1.000, total=   0.0s\n",
      "[CV] C=1, gamma=0.005 ................................................\n",
      "[CV] .................... C=1, gamma=0.005, score=1.000, total=   0.0s\n",
      "[CV] C=5, gamma=0.0001 ...............................................\n",
      "[CV] ................... C=5, gamma=0.0001, score=1.000, total=   0.0s\n",
      "[CV] C=5, gamma=0.0001 ...............................................\n",
      "[CV] ................... C=5, gamma=0.0001, score=1.000, total=   0.0s\n",
      "[CV] C=5, gamma=0.0001 ...............................................\n",
      "[CV] ................... C=5, gamma=0.0001, score=0.975, total=   0.0s\n",
      "[CV] C=5, gamma=0.0001 ...............................................\n",
      "[CV] ................... C=5, gamma=0.0001, score=1.000, total=   0.0s\n",
      "[CV] C=5, gamma=0.0001 ...............................................\n",
      "[CV] ................... C=5, gamma=0.0001, score=1.000, total=   0.0s\n",
      "[CV] C=5, gamma=0.0005 ...............................................\n",
      "[CV] ................... C=5, gamma=0.0005, score=0.975, total=   0.0s\n",
      "[CV] C=5, gamma=0.0005 ...............................................\n",
      "[CV] ................... C=5, gamma=0.0005, score=1.000, total=   0.0s\n",
      "[CV] C=5, gamma=0.0005 ...............................................\n",
      "[CV] ................... C=5, gamma=0.0005, score=1.000, total=   0.0s\n",
      "[CV] C=5, gamma=0.0005 ...............................................\n",
      "[CV] ................... C=5, gamma=0.0005, score=1.000, total=   0.0s\n",
      "[CV] C=5, gamma=0.0005 ...............................................\n",
      "[CV] ................... C=5, gamma=0.0005, score=1.000, total=   0.0s\n",
      "[CV] C=5, gamma=0.001 ................................................\n",
      "[CV] .................... C=5, gamma=0.001, score=0.950, total=   0.0s\n",
      "[CV] C=5, gamma=0.001 ................................................\n",
      "[CV] .................... C=5, gamma=0.001, score=1.000, total=   0.0s\n",
      "[CV] C=5, gamma=0.001 ................................................\n",
      "[CV] .................... C=5, gamma=0.001, score=1.000, total=   0.0s\n",
      "[CV] C=5, gamma=0.001 ................................................\n",
      "[CV] .................... C=5, gamma=0.001, score=1.000, total=   0.0s\n",
      "[CV] C=5, gamma=0.001 ................................................\n",
      "[CV] .................... C=5, gamma=0.001, score=1.000, total=   0.0s\n",
      "[CV] C=5, gamma=0.005 ................................................\n",
      "[CV] .................... C=5, gamma=0.005, score=0.975, total=   0.0s\n",
      "[CV] C=5, gamma=0.005 ................................................\n",
      "[CV] .................... C=5, gamma=0.005, score=1.000, total=   0.0s\n",
      "[CV] C=5, gamma=0.005 ................................................\n",
      "[CV] .................... C=5, gamma=0.005, score=1.000, total=   0.0s\n",
      "[CV] C=5, gamma=0.005 ................................................\n",
      "[CV] .................... C=5, gamma=0.005, score=1.000, total=   0.0s\n",
      "[CV] C=5, gamma=0.005 ................................................\n",
      "[CV] .................... C=5, gamma=0.005, score=1.000, total=   0.0s\n",
      "[CV] C=10, gamma=0.0001 ..............................................\n",
      "[CV] .................. C=10, gamma=0.0001, score=1.000, total=   0.0s\n",
      "[CV] C=10, gamma=0.0001 ..............................................\n",
      "[CV] .................. C=10, gamma=0.0001, score=1.000, total=   0.0s\n",
      "[CV] C=10, gamma=0.0001 ..............................................\n",
      "[CV] .................. C=10, gamma=0.0001, score=0.975, total=   0.0s\n",
      "[CV] C=10, gamma=0.0001 ..............................................\n",
      "[CV] .................. C=10, gamma=0.0001, score=1.000, total=   0.0s\n",
      "[CV] C=10, gamma=0.0001 ..............................................\n",
      "[CV] .................. C=10, gamma=0.0001, score=1.000, total=   0.0s\n",
      "[CV] C=10, gamma=0.0005 ..............................................\n",
      "[CV] .................. C=10, gamma=0.0005, score=0.950, total=   0.0s\n",
      "[CV] C=10, gamma=0.0005 ..............................................\n",
      "[CV] .................. C=10, gamma=0.0005, score=1.000, total=   0.0s\n",
      "[CV] C=10, gamma=0.0005 ..............................................\n",
      "[CV] .................. C=10, gamma=0.0005, score=1.000, total=   0.0s\n",
      "[CV] C=10, gamma=0.0005 ..............................................\n",
      "[CV] .................. C=10, gamma=0.0005, score=1.000, total=   0.0s\n",
      "[CV] C=10, gamma=0.0005 ..............................................\n",
      "[CV] .................. C=10, gamma=0.0005, score=1.000, total=   0.0s\n",
      "[CV] C=10, gamma=0.001 ...............................................\n",
      "[CV] ................... C=10, gamma=0.001, score=0.975, total=   0.0s\n",
      "[CV] C=10, gamma=0.001 ...............................................\n",
      "[CV] ................... C=10, gamma=0.001, score=1.000, total=   0.0s\n",
      "[CV] C=10, gamma=0.001 ...............................................\n",
      "[CV] ................... C=10, gamma=0.001, score=1.000, total=   0.0s\n",
      "[CV] C=10, gamma=0.001 ...............................................\n",
      "[CV] ................... C=10, gamma=0.001, score=1.000, total=   0.0s\n",
      "[CV] C=10, gamma=0.001 ...............................................\n",
      "[CV] ................... C=10, gamma=0.001, score=1.000, total=   0.0s\n",
      "[CV] C=10, gamma=0.005 ...............................................\n",
      "[CV] ................... C=10, gamma=0.005, score=1.000, total=   0.0s\n",
      "[CV] C=10, gamma=0.005 ...............................................\n",
      "[CV] ................... C=10, gamma=0.005, score=1.000, total=   0.0s\n",
      "[CV] C=10, gamma=0.005 ...............................................\n",
      "[CV] ................... C=10, gamma=0.005, score=1.000, total=   0.0s\n",
      "[CV] C=10, gamma=0.005 ...............................................\n",
      "[CV] ................... C=10, gamma=0.005, score=1.000, total=   0.0s\n",
      "[CV] C=10, gamma=0.005 ...............................................\n",
      "[CV] ................... C=10, gamma=0.005, score=1.000, total=   0.0s\n",
      "[CV] C=30, gamma=0.0001 ..............................................\n",
      "[CV] .................. C=30, gamma=0.0001, score=0.975, total=   0.0s\n",
      "[CV] C=30, gamma=0.0001 ..............................................\n"
     ]
    },
    {
     "name": "stderr",
     "output_type": "stream",
     "text": [
      "[Parallel(n_jobs=1)]: Using backend SequentialBackend with 1 concurrent workers.\n",
      "[Parallel(n_jobs=1)]: Done   1 out of   1 | elapsed:    0.0s remaining:    0.0s\n",
      "[Parallel(n_jobs=1)]: Done   2 out of   2 | elapsed:    0.0s remaining:    0.0s\n"
     ]
    },
    {
     "name": "stdout",
     "output_type": "stream",
     "text": [
      "[CV] .................. C=30, gamma=0.0001, score=1.000, total=   0.0s\n",
      "[CV] C=30, gamma=0.0001 ..............................................\n",
      "[CV] .................. C=30, gamma=0.0001, score=1.000, total=   0.0s\n",
      "[CV] C=30, gamma=0.0001 ..............................................\n",
      "[CV] .................. C=30, gamma=0.0001, score=1.000, total=   0.0s\n",
      "[CV] C=30, gamma=0.0001 ..............................................\n",
      "[CV] .................. C=30, gamma=0.0001, score=1.000, total=   0.0s\n",
      "[CV] C=30, gamma=0.0005 ..............................................\n",
      "[CV] .................. C=30, gamma=0.0005, score=0.975, total=   0.0s\n",
      "[CV] C=30, gamma=0.0005 ..............................................\n",
      "[CV] .................. C=30, gamma=0.0005, score=1.000, total=   0.0s\n",
      "[CV] C=30, gamma=0.0005 ..............................................\n",
      "[CV] .................. C=30, gamma=0.0005, score=1.000, total=   0.0s\n",
      "[CV] C=30, gamma=0.0005 ..............................................\n",
      "[CV] .................. C=30, gamma=0.0005, score=1.000, total=   0.0s\n",
      "[CV] C=30, gamma=0.0005 ..............................................\n",
      "[CV] .................. C=30, gamma=0.0005, score=1.000, total=   0.0s\n",
      "[CV] C=30, gamma=0.001 ...............................................\n",
      "[CV] ................... C=30, gamma=0.001, score=0.975, total=   0.0s\n",
      "[CV] C=30, gamma=0.001 ...............................................\n",
      "[CV] ................... C=30, gamma=0.001, score=1.000, total=   0.0s\n",
      "[CV] C=30, gamma=0.001 ...............................................\n",
      "[CV] ................... C=30, gamma=0.001, score=1.000, total=   0.0s\n",
      "[CV] C=30, gamma=0.001 ...............................................\n",
      "[CV] ................... C=30, gamma=0.001, score=1.000, total=   0.0s\n",
      "[CV] C=30, gamma=0.001 ...............................................\n",
      "[CV] ................... C=30, gamma=0.001, score=1.000, total=   0.0s\n",
      "[CV] C=30, gamma=0.005 ...............................................\n",
      "[CV] ................... C=30, gamma=0.005, score=1.000, total=   0.0s\n",
      "[CV] C=30, gamma=0.005 ...............................................\n",
      "[CV] ................... C=30, gamma=0.005, score=1.000, total=   0.0s\n",
      "[CV] C=30, gamma=0.005 ...............................................\n",
      "[CV] ................... C=30, gamma=0.005, score=1.000, total=   0.0s\n",
      "[CV] C=30, gamma=0.005 ...............................................\n",
      "[CV] ................... C=30, gamma=0.005, score=1.000, total=   0.0s\n",
      "[CV] C=30, gamma=0.005 ...............................................\n",
      "[CV] ................... C=30, gamma=0.005, score=1.000, total=   0.0s\n",
      "[CV] C=50, gamma=0.0001 ..............................................\n",
      "[CV] .................. C=50, gamma=0.0001, score=0.975, total=   0.0s\n",
      "[CV] C=50, gamma=0.0001 ..............................................\n",
      "[CV] .................. C=50, gamma=0.0001, score=1.000, total=   0.0s\n",
      "[CV] C=50, gamma=0.0001 ..............................................\n",
      "[CV] .................. C=50, gamma=0.0001, score=1.000, total=   0.0s\n",
      "[CV] C=50, gamma=0.0001 ..............................................\n",
      "[CV] .................. C=50, gamma=0.0001, score=1.000, total=   0.0s\n",
      "[CV] C=50, gamma=0.0001 ..............................................\n",
      "[CV] .................. C=50, gamma=0.0001, score=1.000, total=   0.0s\n",
      "[CV] C=50, gamma=0.0005 ..............................................\n",
      "[CV] .................. C=50, gamma=0.0005, score=0.975, total=   0.0s\n",
      "[CV] C=50, gamma=0.0005 ..............................................\n",
      "[CV] .................. C=50, gamma=0.0005, score=1.000, total=   0.0s\n",
      "[CV] C=50, gamma=0.0005 ..............................................\n",
      "[CV] .................. C=50, gamma=0.0005, score=1.000, total=   0.0s\n",
      "[CV] C=50, gamma=0.0005 ..............................................\n",
      "[CV] .................. C=50, gamma=0.0005, score=1.000, total=   0.0s\n",
      "[CV] C=50, gamma=0.0005 ..............................................\n",
      "[CV] .................. C=50, gamma=0.0005, score=1.000, total=   0.0s\n",
      "[CV] C=50, gamma=0.001 ...............................................\n",
      "[CV] ................... C=50, gamma=0.001, score=1.000, total=   0.0s\n",
      "[CV] C=50, gamma=0.001 ...............................................\n",
      "[CV] ................... C=50, gamma=0.001, score=1.000, total=   0.0s\n",
      "[CV] C=50, gamma=0.001 ...............................................\n",
      "[CV] ................... C=50, gamma=0.001, score=1.000, total=   0.0s\n",
      "[CV] C=50, gamma=0.001 ...............................................\n",
      "[CV] ................... C=50, gamma=0.001, score=1.000, total=   0.0s\n",
      "[CV] C=50, gamma=0.001 ...............................................\n",
      "[CV] ................... C=50, gamma=0.001, score=1.000, total=   0.0s\n",
      "[CV] C=50, gamma=0.005 ...............................................\n",
      "[CV] ................... C=50, gamma=0.005, score=1.000, total=   0.0s\n",
      "[CV] C=50, gamma=0.005 ...............................................\n",
      "[CV] ................... C=50, gamma=0.005, score=1.000, total=   0.0s\n",
      "[CV] C=50, gamma=0.005 ...............................................\n",
      "[CV] ................... C=50, gamma=0.005, score=1.000, total=   0.0s\n",
      "[CV] C=50, gamma=0.005 ...............................................\n",
      "[CV] ................... C=50, gamma=0.005, score=1.000, total=   0.0s\n",
      "[CV] C=50, gamma=0.005 ...............................................\n",
      "[CV] ................... C=50, gamma=0.005, score=1.000, total=   0.0s\n"
     ]
    },
    {
     "name": "stderr",
     "output_type": "stream",
     "text": [
      "[Parallel(n_jobs=1)]: Done 100 out of 100 | elapsed:    0.3s finished\n"
     ]
    },
    {
     "data": {
      "text/plain": [
       "GridSearchCV(cv=None, error_score=nan,\n",
       "             estimator=SVC(C=1.0, break_ties=False, cache_size=200,\n",
       "                           class_weight=None, coef0=0.0,\n",
       "                           decision_function_shape='ovr', degree=3,\n",
       "                           gamma='scale', kernel='rbf', max_iter=-1,\n",
       "                           probability=False, random_state=None, shrinking=True,\n",
       "                           tol=0.001, verbose=False),\n",
       "             iid='deprecated', n_jobs=None,\n",
       "             param_grid={'C': [1, 5, 10, 30, 50],\n",
       "                         'gamma': [0.0001, 0.0005, 0.001, 0.005]},\n",
       "             pre_dispatch='2*n_jobs', refit=True, return_train_score=False,\n",
       "             scoring=None, verbose=3)"
      ]
     },
     "execution_count": 23,
     "metadata": {},
     "output_type": "execute_result"
    }
   ],
   "source": [
    "from sklearn.model_selection import GridSearchCV\n",
    "model = SVC(kernel='rbf')\n",
    "param_grid = {'C': [1, 5, 10, 30, 50],\n",
    "              'gamma': [0.0001, 0.0005, 0.001, 0.005]}\n",
    "grid = GridSearchCV(model, param_grid, verbose=3)\n",
    "# Train the model with GridSearch\n",
    "grid.fit(X_train, y_train)"
   ]
  },
  {
   "cell_type": "code",
   "execution_count": 24,
   "metadata": {},
   "outputs": [
    {
     "name": "stdout",
     "output_type": "stream",
     "text": [
      "{'C': 1, 'gamma': 0.001}\n",
      "1.0\n"
     ]
    }
   ],
   "source": [
    "print(grid.best_params_)\n",
    "print(grid.best_score_)"
   ]
  },
  {
   "cell_type": "code",
   "execution_count": 25,
   "metadata": {},
   "outputs": [
    {
     "data": {
      "text/plain": [
       "1.0"
      ]
     },
     "execution_count": 25,
     "metadata": {},
     "output_type": "execute_result"
    }
   ],
   "source": [
    "# Training score:\n",
    "grid.score(X_train, y_train)\n",
    "# Testing score:\n",
    "grid.score(X_test, y_test)"
   ]
  },
  {
   "cell_type": "code",
   "execution_count": 26,
   "metadata": {},
   "outputs": [
    {
     "name": "stdout",
     "output_type": "stream",
     "text": [
      "              precision    recall  f1-score   support\n",
      "\n",
      "           0       1.00      1.00      1.00        46\n",
      "           1       1.00      1.00      1.00        53\n",
      "\n",
      "    accuracy                           1.00        99\n",
      "   macro avg       1.00      1.00      1.00        99\n",
      "weighted avg       1.00      1.00      1.00        99\n",
      "\n"
     ]
    }
   ],
   "source": [
    "# Print Classification Report.\n",
    "# Make prediction and save to variable for report.\n",
    "svc_predictions = grid.predict(X_test)\n",
    "from sklearn.metrics import classification_report\n",
    "print(classification_report(y_test, svc_predictions))"
   ]
  },
  {
   "cell_type": "markdown",
   "metadata": {},
   "source": [
    "#### Decision Tree Classifier\n",
    "\n",
    "Play around with `max_features` to see for best score. It determines how random each tree would be.Rule of thumb, for classification max_features=sqrt(n_features)"
   ]
  },
  {
   "cell_type": "code",
   "execution_count": 27,
   "metadata": {},
   "outputs": [
    {
     "data": {
      "text/plain": [
       "[95.96, 95.96, 89.9, 93.94, 97.98, 98.99]"
      ]
     },
     "execution_count": 27,
     "metadata": {},
     "output_type": "execute_result"
    }
   ],
   "source": [
    "DT_scores = []\n",
    "# since max_features is len(X.columns its sqrt will return floatingpoint which has to be typcast to int using the code below\n",
    "# int(np.ceil(np.sqrt(len(X.columns) + 1)))\n",
    "for i in range(1, int(np.ceil(np.sqrt(len(X.columns))))+1):\n",
    "    DT_classifier = DecisionTreeClassifier(max_features = i, random_state = 0)\n",
    "    DT_classifier.fit(X_train, y_train)\n",
    "    DT_scores.append(round(DT_classifier.score(X_test, y_test)*100,2))\n",
    "DT_scores"
   ]
  },
  {
   "cell_type": "code",
   "execution_count": 58,
   "metadata": {},
   "outputs": [
    {
     "ename": "SyntaxError",
     "evalue": "invalid syntax (<ipython-input-58-1d32b4bafff5>, line 5)",
     "output_type": "error",
     "traceback": [
      "\u001b[0;36m  File \u001b[0;32m\"<ipython-input-58-1d32b4bafff5>\"\u001b[0;36m, line \u001b[0;32m5\u001b[0m\n\u001b[0;31m    plt.xticks([for i in range(1, int(np.ceil(np.sqrt(len(X.columns))))+1)])\u001b[0m\n\u001b[0m                  ^\u001b[0m\n\u001b[0;31mSyntaxError\u001b[0m\u001b[0;31m:\u001b[0m invalid syntax\n"
     ]
    }
   ],
   "source": [
    "# plt.plot([i for i in range(1, len(X.columns) - 10 )], DT_scores, color = 'green')\n",
    "# # for i in range(1, 15 + 1):\n",
    "# for i in range(1, int(np.ceil(np.sqrt(len(X.columns))))+1):\n",
    "#     plt.text(i, DT_scores[i-1], (i, DT_scores[i-1]))\n",
    "# plt.xticks([for i in range(1, int(np.ceil(np.sqrt(len(X.columns))))+1)])       \n",
    "# plt.xlabel('Max features')\n",
    "# plt.ylabel('Scores')\n",
    "# plt.title('Decision Tree Classifier scores for different number of maximum features');"
   ]
  },
  {
   "cell_type": "code",
   "execution_count": 28,
   "metadata": {},
   "outputs": [
    {
     "name": "stdout",
     "output_type": "stream",
     "text": [
      "The score for Decision Tree Classifier is 98.99% with 6 maximum features.\n"
     ]
    }
   ],
   "source": [
    "print(\"The score for Decision Tree Classifier is {}% with {} maximum features.\".format(DT_scores[5], 6))"
   ]
  },
  {
   "cell_type": "markdown",
   "metadata": {},
   "source": [
    "#### Random Forest Classifier (Ensemble of Decision Tree)\n",
    "\n",
    "Creating models with varying number of estimators i.e. number of trees to be built."
   ]
  },
  {
   "cell_type": "code",
   "execution_count": 29,
   "metadata": {},
   "outputs": [],
   "source": [
    "rf_scores = []\n",
    "estimators = [10, 100, 200, 500, 700, 1000]\n",
    "for i in estimators:\n",
    "    rf_classifier = RandomForestClassifier(n_estimators = i, random_state = 0)\n",
    "    rf_classifier.fit(X_train, y_train)\n",
    "    rf_scores.append(round(rf_classifier.score(X_test, y_test)*100,2))"
   ]
  },
  {
   "cell_type": "markdown",
   "metadata": {},
   "source": [
    "The model is trained and the scores are recorded. Let's plot a bar plot to compare the scores."
   ]
  },
  {
   "cell_type": "code",
   "execution_count": 30,
   "metadata": {
    "scrolled": false
   },
   "outputs": [
    {
     "data": {
      "image/png": "[encoded data removed]",
      "text/plain": [
       "<Figure size 576x432 with 1 Axes>"
      ]
     },
     "metadata": {
      "needs_background": "light"
     },
     "output_type": "display_data"
    }
   ],
   "source": [
    "colors = rainbow(np.linspace(0, 1, len(estimators)))\n",
    "plt.bar([i for i in range(len(estimators))], rf_scores, color = colors, width = 0.8)\n",
    "for i in range(len(estimators)):\n",
    "    plt.text(i, rf_scores[i], rf_scores[i])\n",
    "plt.xticks(ticks = [i for i in range(len(estimators))], labels = [str(estimator) for estimator in estimators])\n",
    "plt.xlabel('Number of estimators')\n",
    "plt.ylabel('Scores')\n",
    "plt.title('Random Forest Classifier scores for different number of estimators');"
   ]
  },
  {
   "cell_type": "markdown",
   "metadata": {},
   "source": [
    "The maximum score is achieved at n_estimators= 200, 700 or 1000."
   ]
  },
  {
   "cell_type": "code",
   "execution_count": 31,
   "metadata": {},
   "outputs": [
    {
     "name": "stdout",
     "output_type": "stream",
     "text": [
      "The score for Random Forest Classifier is 97.98% with [200, 700, 1000] estimators.\n"
     ]
    }
   ],
   "source": [
    "print(\"The score for Random Forest Classifier is {}% with {} estimators.\".format(rf_scores[2], [200, 700,1000]))"
   ]
  },
  {
   "cell_type": "markdown",
   "metadata": {},
   "source": [
    "### Naive Bayes"
   ]
  },
  {
   "cell_type": "code",
   "execution_count": 32,
   "metadata": {},
   "outputs": [
    {
     "name": "stdout",
     "output_type": "stream",
     "text": [
      "\n",
      "Accuracy for training set for Naive Bayes = 0.8434343434343434\n",
      "Accuracy for test set for Naive Bayes = 0.8383838383838383\n"
     ]
    }
   ],
   "source": [
    "from sklearn.naive_bayes import GaussianNB\n",
    "NB_classifier = GaussianNB()\n",
    "NB_classifier.fit(X_train, y_train)\n",
    "\n",
    "\n",
    "# Predicting the Test set results\n",
    "y_pred = NB_classifier.predict(X_test)\n",
    "\n",
    "from sklearn.metrics import confusion_matrix\n",
    "cm_test = confusion_matrix(y_pred, y_test)\n",
    "\n",
    "y_pred_train = NB_classifier.predict(X_train)\n",
    "cm_train = confusion_matrix(y_pred_train, y_train)\n",
    "\n",
    "print()\n",
    "print('Accuracy for training set for Naive Bayes = {}'.format((cm_train[0][0] + cm_train[1][1])/len(y_train)))\n",
    "print('Accuracy for test set for Naive Bayes = {}'.format((cm_test[0][0] + cm_test[1][1])/len(y_test)))\n"
   ]
  },
  {
   "cell_type": "markdown",
   "metadata": {},
   "source": [
    "# Neural Network"
   ]
  },
  {
   "cell_type": "code",
   "execution_count": 33,
   "metadata": {},
   "outputs": [],
   "source": [
    "from keras.models import Sequential\n",
    "from keras.layers import Dense\n",
    "from tensorflow.keras.utils import to_categorical"
   ]
  },
  {
   "cell_type": "code",
   "execution_count": 34,
   "metadata": {},
   "outputs": [],
   "source": [
    "NN_model = Sequential()\n",
    "# model.add(Dense(11,activation='relu',input_dim=13))\n",
    "# model.add(Dense(1,activation='sigmoid'))\n",
    "\n",
    "# model.compile(loss='binary_crossentropy',optimizer='adam',metrics=['accuracy'])\n",
    "NN_model.add(Dense(units=100, activation='relu', input_dim=X_train.shape[1]))\n",
    "NN_model.add(Dense(units=100, activation='relu'))\n",
    "NN_model.add(Dense(units=9915, activation =\"softmax\"))"
   ]
  },
  {
   "cell_type": "code",
   "execution_count": 35,
   "metadata": {},
   "outputs": [],
   "source": [
    "NN_model.compile(loss=\"sparse_categorical_crossentropy\", optimizer=\"adam\", metrics=[\"sparse_categorical_accuracy\"])"
   ]
  },
  {
   "cell_type": "code",
   "execution_count": 36,
   "metadata": {},
   "outputs": [
    {
     "name": "stdout",
     "output_type": "stream",
     "text": [
      "Epoch 1/100\n",
      " - 0s - loss: 6.6115 - sparse_categorical_accuracy: 0.2323\n",
      "Epoch 2/100\n",
      " - 0s - loss: 2.5499 - sparse_categorical_accuracy: 0.5303\n",
      "Epoch 3/100\n",
      " - 0s - loss: 1.8986 - sparse_categorical_accuracy: 0.6061\n",
      "Epoch 4/100\n",
      " - 0s - loss: 1.5058 - sparse_categorical_accuracy: 0.4949\n",
      "Epoch 5/100\n",
      " - 0s - loss: 1.1877 - sparse_categorical_accuracy: 0.6263\n",
      "Epoch 6/100\n",
      " - 0s - loss: 1.0580 - sparse_categorical_accuracy: 0.7222\n",
      "Epoch 7/100\n",
      " - 0s - loss: 0.9990 - sparse_categorical_accuracy: 0.6212\n",
      "Epoch 8/100\n",
      " - 0s - loss: 0.8970 - sparse_categorical_accuracy: 0.7020\n",
      "Epoch 9/100\n",
      " - 0s - loss: 0.8102 - sparse_categorical_accuracy: 0.7071\n",
      "Epoch 10/100\n",
      " - 0s - loss: 0.6985 - sparse_categorical_accuracy: 0.7576\n",
      "Epoch 11/100\n",
      " - 0s - loss: 0.7013 - sparse_categorical_accuracy: 0.6869\n",
      "Epoch 12/100\n",
      " - 0s - loss: 0.5840 - sparse_categorical_accuracy: 0.7677\n",
      "Epoch 13/100\n",
      " - 0s - loss: 0.4841 - sparse_categorical_accuracy: 0.8232\n",
      "Epoch 14/100\n",
      " - 0s - loss: 0.4163 - sparse_categorical_accuracy: 0.8687\n",
      "Epoch 15/100\n",
      " - 0s - loss: 0.3532 - sparse_categorical_accuracy: 0.8939\n",
      "Epoch 16/100\n",
      " - 0s - loss: 0.3221 - sparse_categorical_accuracy: 0.8636\n",
      "Epoch 17/100\n",
      " - 0s - loss: 0.3242 - sparse_categorical_accuracy: 0.8788\n",
      "Epoch 18/100\n",
      " - 0s - loss: 0.3091 - sparse_categorical_accuracy: 0.8939\n",
      "Epoch 19/100\n",
      " - 0s - loss: 0.3436 - sparse_categorical_accuracy: 0.8586\n",
      "Epoch 20/100\n",
      " - 0s - loss: 0.5166 - sparse_categorical_accuracy: 0.8030\n",
      "Epoch 21/100\n",
      " - 0s - loss: 0.7975 - sparse_categorical_accuracy: 0.7273\n",
      "Epoch 22/100\n",
      " - 0s - loss: 0.5302 - sparse_categorical_accuracy: 0.8081\n",
      "Epoch 23/100\n",
      " - 0s - loss: 0.4636 - sparse_categorical_accuracy: 0.8586\n",
      "Epoch 24/100\n",
      " - 0s - loss: 0.2774 - sparse_categorical_accuracy: 0.8939\n",
      "Epoch 25/100\n",
      " - 0s - loss: 0.2634 - sparse_categorical_accuracy: 0.9091\n",
      "Epoch 26/100\n",
      " - 0s - loss: 0.2933 - sparse_categorical_accuracy: 0.8788\n",
      "Epoch 27/100\n",
      " - 0s - loss: 0.3044 - sparse_categorical_accuracy: 0.8737\n",
      "Epoch 28/100\n",
      " - 0s - loss: 0.2504 - sparse_categorical_accuracy: 0.8990\n",
      "Epoch 29/100\n",
      " - 0s - loss: 0.3083 - sparse_categorical_accuracy: 0.8939\n",
      "Epoch 30/100\n",
      " - 0s - loss: 0.3892 - sparse_categorical_accuracy: 0.8687\n",
      "Epoch 31/100\n",
      " - 0s - loss: 0.5177 - sparse_categorical_accuracy: 0.8131\n",
      "Epoch 32/100\n",
      " - 0s - loss: 0.3140 - sparse_categorical_accuracy: 0.8788\n",
      "Epoch 33/100\n",
      " - 0s - loss: 0.2668 - sparse_categorical_accuracy: 0.8788\n",
      "Epoch 34/100\n",
      " - 0s - loss: 0.3119 - sparse_categorical_accuracy: 0.8990\n",
      "Epoch 35/100\n",
      " - 0s - loss: 0.4087 - sparse_categorical_accuracy: 0.8636\n",
      "Epoch 36/100\n",
      " - 0s - loss: 0.4412 - sparse_categorical_accuracy: 0.8182\n",
      "Epoch 37/100\n",
      " - 0s - loss: 0.3068 - sparse_categorical_accuracy: 0.8788\n",
      "Epoch 38/100\n",
      " - 0s - loss: 0.2868 - sparse_categorical_accuracy: 0.8939\n",
      "Epoch 39/100\n",
      " - 0s - loss: 0.2592 - sparse_categorical_accuracy: 0.8939\n",
      "Epoch 40/100\n",
      " - 0s - loss: 0.2414 - sparse_categorical_accuracy: 0.8990\n",
      "Epoch 41/100\n",
      " - 0s - loss: 0.3679 - sparse_categorical_accuracy: 0.8232\n",
      "Epoch 42/100\n",
      " - 0s - loss: 0.2257 - sparse_categorical_accuracy: 0.9141\n",
      "Epoch 43/100\n",
      " - 0s - loss: 0.2321 - sparse_categorical_accuracy: 0.9091\n",
      "Epoch 44/100\n",
      " - 0s - loss: 0.2502 - sparse_categorical_accuracy: 0.8990\n",
      "Epoch 45/100\n",
      " - 0s - loss: 0.3143 - sparse_categorical_accuracy: 0.8586\n",
      "Epoch 46/100\n",
      " - 0s - loss: 0.4684 - sparse_categorical_accuracy: 0.8788\n",
      "Epoch 47/100\n",
      " - 0s - loss: 0.4976 - sparse_categorical_accuracy: 0.8030\n",
      "Epoch 48/100\n",
      " - 0s - loss: 0.2853 - sparse_categorical_accuracy: 0.9040\n",
      "Epoch 49/100\n",
      " - 0s - loss: 0.3695 - sparse_categorical_accuracy: 0.8384\n",
      "Epoch 50/100\n",
      " - 0s - loss: 0.3062 - sparse_categorical_accuracy: 0.8687\n",
      "Epoch 51/100\n",
      " - 0s - loss: 0.2338 - sparse_categorical_accuracy: 0.8990\n",
      "Epoch 52/100\n",
      " - 0s - loss: 0.2304 - sparse_categorical_accuracy: 0.9192\n",
      "Epoch 53/100\n",
      " - 0s - loss: 0.2182 - sparse_categorical_accuracy: 0.9141\n",
      "Epoch 54/100\n",
      " - 0s - loss: 0.2246 - sparse_categorical_accuracy: 0.9040\n",
      "Epoch 55/100\n",
      " - 0s - loss: 0.2605 - sparse_categorical_accuracy: 0.9040\n",
      "Epoch 56/100\n",
      " - 0s - loss: 0.2161 - sparse_categorical_accuracy: 0.9091\n",
      "Epoch 57/100\n",
      " - 0s - loss: 0.2228 - sparse_categorical_accuracy: 0.9141\n",
      "Epoch 58/100\n",
      " - 0s - loss: 0.2322 - sparse_categorical_accuracy: 0.9192\n",
      "Epoch 59/100\n",
      " - 0s - loss: 0.2028 - sparse_categorical_accuracy: 0.9091\n",
      "Epoch 60/100\n",
      " - 0s - loss: 0.2059 - sparse_categorical_accuracy: 0.9040\n",
      "Epoch 61/100\n",
      " - 0s - loss: 0.2040 - sparse_categorical_accuracy: 0.9091\n",
      "Epoch 62/100\n",
      " - 0s - loss: 0.2157 - sparse_categorical_accuracy: 0.8990\n",
      "Epoch 63/100\n",
      " - 0s - loss: 0.2069 - sparse_categorical_accuracy: 0.9293\n",
      "Epoch 64/100\n",
      " - 0s - loss: 0.2013 - sparse_categorical_accuracy: 0.9192\n",
      "Epoch 65/100\n",
      " - 0s - loss: 0.2618 - sparse_categorical_accuracy: 0.8838\n",
      "Epoch 66/100\n",
      " - 0s - loss: 0.2154 - sparse_categorical_accuracy: 0.9040\n",
      "Epoch 67/100\n",
      " - 0s - loss: 0.1987 - sparse_categorical_accuracy: 0.9192\n",
      "Epoch 68/100\n",
      " - 0s - loss: 0.2360 - sparse_categorical_accuracy: 0.8990\n",
      "Epoch 69/100\n",
      " - 0s - loss: 0.2871 - sparse_categorical_accuracy: 0.9091\n",
      "Epoch 70/100\n",
      " - 0s - loss: 0.2789 - sparse_categorical_accuracy: 0.8838\n",
      "Epoch 71/100\n",
      " - 0s - loss: 0.2250 - sparse_categorical_accuracy: 0.8990\n",
      "Epoch 72/100\n",
      " - 0s - loss: 0.2930 - sparse_categorical_accuracy: 0.8737\n",
      "Epoch 73/100\n",
      " - 0s - loss: 0.2167 - sparse_categorical_accuracy: 0.9242\n",
      "Epoch 74/100\n",
      " - 0s - loss: 0.2474 - sparse_categorical_accuracy: 0.8990\n",
      "Epoch 75/100\n",
      " - 0s - loss: 0.2275 - sparse_categorical_accuracy: 0.9141\n",
      "Epoch 76/100\n",
      " - 0s - loss: 0.1919 - sparse_categorical_accuracy: 0.8990\n",
      "Epoch 77/100\n",
      " - 0s - loss: 0.2051 - sparse_categorical_accuracy: 0.9040\n",
      "Epoch 78/100\n",
      " - 0s - loss: 0.1844 - sparse_categorical_accuracy: 0.9091\n",
      "Epoch 79/100\n",
      " - 0s - loss: 0.1944 - sparse_categorical_accuracy: 0.9242\n",
      "Epoch 80/100\n",
      " - 0s - loss: 0.1963 - sparse_categorical_accuracy: 0.9091\n",
      "Epoch 81/100\n",
      " - 0s - loss: 0.1856 - sparse_categorical_accuracy: 0.9394\n",
      "Epoch 82/100\n",
      " - 0s - loss: 0.1889 - sparse_categorical_accuracy: 0.9192\n",
      "Epoch 83/100\n",
      " - 0s - loss: 0.1996 - sparse_categorical_accuracy: 0.9192\n",
      "Epoch 84/100\n",
      " - 0s - loss: 0.1847 - sparse_categorical_accuracy: 0.9141\n",
      "Epoch 85/100\n",
      " - 0s - loss: 0.2346 - sparse_categorical_accuracy: 0.8889\n",
      "Epoch 86/100\n",
      " - 0s - loss: 0.2200 - sparse_categorical_accuracy: 0.9192\n",
      "Epoch 87/100\n",
      " - 0s - loss: 0.1974 - sparse_categorical_accuracy: 0.9141\n",
      "Epoch 88/100\n",
      " - 0s - loss: 0.2044 - sparse_categorical_accuracy: 0.9192\n",
      "Epoch 89/100\n",
      " - 0s - loss: 0.2641 - sparse_categorical_accuracy: 0.8889\n",
      "Epoch 90/100\n",
      " - 0s - loss: 0.2166 - sparse_categorical_accuracy: 0.9242\n",
      "Epoch 91/100\n",
      " - 0s - loss: 0.2104 - sparse_categorical_accuracy: 0.9141\n",
      "Epoch 92/100\n",
      " - 0s - loss: 0.1692 - sparse_categorical_accuracy: 0.9192\n",
      "Epoch 93/100\n",
      " - 0s - loss: 0.1814 - sparse_categorical_accuracy: 0.9091\n",
      "Epoch 94/100\n",
      " - 0s - loss: 0.1946 - sparse_categorical_accuracy: 0.9040\n",
      "Epoch 95/100\n",
      " - 0s - loss: 0.1834 - sparse_categorical_accuracy: 0.9141\n",
      "Epoch 96/100\n",
      " - 0s - loss: 0.1767 - sparse_categorical_accuracy: 0.9192\n",
      "Epoch 97/100\n",
      " - 0s - loss: 0.1751 - sparse_categorical_accuracy: 0.9091\n",
      "Epoch 98/100\n",
      " - 0s - loss: 0.1684 - sparse_categorical_accuracy: 0.9293\n",
      "Epoch 99/100\n",
      " - 0s - loss: 0.1606 - sparse_categorical_accuracy: 0.9192\n",
      "Epoch 100/100\n",
      " - 0s - loss: 0.1639 - sparse_categorical_accuracy: 0.9343\n"
     ]
    },
    {
     "data": {
      "text/plain": [
       "<keras.callbacks.callbacks.History at 0x14eb3c9e8>"
      ]
     },
     "execution_count": 36,
     "metadata": {},
     "output_type": "execute_result"
    }
   ],
   "source": [
    "NN_model.fit(X_train,y_train, epochs=100, verbose=2)"
   ]
  },
  {
   "cell_type": "code",
   "execution_count": 39,
   "metadata": {},
   "outputs": [
    {
     "name": "stdout",
     "output_type": "stream",
     "text": [
      "<class 'pandas.core.frame.DataFrame'>\n",
      "Int64Index: 198 entries, 71 to 172\n",
      "Data columns (total 29 columns):\n",
      "age            198 non-null float64\n",
      "trestbps       198 non-null float64\n",
      "chol           198 non-null float64\n",
      "thalach        198 non-null float64\n",
      "oldpeak        198 non-null float64\n",
      "id             198 non-null int32\n",
      "sex_0.0        198 non-null uint8\n",
      "sex_1.0        198 non-null uint8\n",
      "cp_1.0         198 non-null uint8\n",
      "cp_2.0         198 non-null uint8\n",
      "cp_3.0         198 non-null uint8\n",
      "cp_4.0         198 non-null uint8\n",
      "fbs_0.0        198 non-null uint8\n",
      "fbs_1.0        198 non-null uint8\n",
      "restecg_0.0    198 non-null uint8\n",
      "restecg_1.0    198 non-null uint8\n",
      "restecg_2.0    198 non-null uint8\n",
      "exang_0.0      198 non-null uint8\n",
      "exang_1.0      198 non-null uint8\n",
      "slope_1.0      198 non-null uint8\n",
      "slope_2.0      198 non-null uint8\n",
      "slope_3.0      198 non-null uint8\n",
      "ca_0.0         198 non-null uint8\n",
      "ca_1.0         198 non-null uint8\n",
      "ca_2.0         198 non-null uint8\n",
      "ca_3.0         198 non-null uint8\n",
      "thal_3.0       198 non-null uint8\n",
      "thal_6.0       198 non-null uint8\n",
      "thal_7.0       198 non-null uint8\n",
      "dtypes: float64(5), int32(1), uint8(23)\n",
      "memory usage: 14.5 KB\n"
     ]
    }
   ],
   "source": [
    "X_train.info()"
   ]
  },
  {
   "cell_type": "code",
   "execution_count": 37,
   "metadata": {},
   "outputs": [
    {
     "name": "stdout",
     "output_type": "stream",
     "text": [
      "Normal Neural Network - Loss: 0.13113477434774842, Accuracy: 93.94\n"
     ]
    }
   ],
   "source": [
    "NN_model_loss, NN_model_accuracy = NN_model.evaluate(\n",
    "    X_test, y_test, verbose=2)\n",
    "print(\n",
    "    f\"Normal Neural Network - Loss: {NN_model_loss}, Accuracy: {round(NN_model_accuracy*100,2)}\")"
   ]
  },
  {
   "cell_type": "markdown",
   "metadata": {},
   "source": [
    "# Saving the best model"
   ]
  },
  {
   "cell_type": "code",
   "execution_count": 69,
   "metadata": {},
   "outputs": [
    {
     "data": {
      "text/plain": [
       "['knn_best_model.pkl']"
      ]
     },
     "execution_count": 69,
     "metadata": {},
     "output_type": "execute_result"
    }
   ],
   "source": [
    "#save best model (so far it is knn wth 100% score)\n",
    "from sklearn.externals import joblib\n",
    "knn_classifier = KNeighborsClassifier(n_neighbors = 7)\n",
    "knn_best_model=knn_classifier.fit(X_train, y_train)\n",
    "joblib.dump(knn_best_model, 'knn_best_model.pkl')"
   ]
  },
  {
   "cell_type": "code",
   "execution_count": null,
   "metadata": {},
   "outputs": [],
   "source": []
  },
  {
   "cell_type": "code",
   "execution_count": 81,
   "metadata": {},
   "outputs": [],
   "source": [
    "# #load model and use\n",
    "# saved_model = joblib.load('knn_best_model.pkl' , mmap_mode ='r')\n",
    "# prediction = saved_model.predict_proba(X_test, y_test)\n",
    "# prediction"
   ]
  },
  {
   "cell_type": "code",
   "execution_count": 80,
   "metadata": {},
   "outputs": [
    {
     "name": "stdout",
     "output_type": "stream",
     "text": [
      "1.0\n"
     ]
    }
   ],
   "source": [
    "#load model and use\n",
    "loaded_model = joblib.load(open('knn_best_model.pkl', 'rb'))\n",
    "result = loaded_model.score(X_test, y_test)\n",
    "print(result)"
   ]
  },
  {
   "cell_type": "code",
   "execution_count": 83,
   "metadata": {},
   "outputs": [
    {
     "name": "stdout",
     "output_type": "stream",
     "text": [
      "1.0\n"
     ]
    }
   ],
   "source": [
    "import pickle\n",
    "filename = 'knn_best_model.pkl'\n",
    "pickle.dump(knn_best_model, open(filename, 'wb'))\n",
    " \n",
    "# some time later...\n",
    " \n",
    "# load the model from disk\n",
    "loaded_model = pickle.load(open(filename, 'rb'))\n",
    "result = loaded_model.score(X_test, y_test)\n",
    "print(result)"
   ]
  },
  {
   "cell_type": "code",
   "execution_count": null,
   "metadata": {},
   "outputs": [],
   "source": []
  }
 ],
 "metadata": {
  "kernelspec": {
   "display_name": "Python 3",
   "language": "python",
   "name": "python3"
  },
  "language_info": {
   "codemirror_mode": {
    "name": "ipython",
    "version": 3
   },
   "file_extension": ".py",
   "mimetype": "text/x-python",
   "name": "python",
   "nbconvert_exporter": "python",
   "pygments_lexer": "ipython3",
   "version": "3.7.3"
  }
 },
 "nbformat": 4,
 "nbformat_minor": 2
}
