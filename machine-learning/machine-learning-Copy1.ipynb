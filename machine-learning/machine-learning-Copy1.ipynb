{
 "cells": [
  {
   "cell_type": "code",
   "execution_count": 2,
   "metadata": {},
   "outputs": [
    {
     "name": "stdout",
     "output_type": "stream",
     "text": [
      "Welcome to\n",
      "      ____              __\n",
      "     / __/__  ___ _____/ /__\n",
      "    _\\ \\/ _ \\/ _ `/ __/  '_/\n",
      "   /__ / .__/\\_,_/_/ /_/\\_\\   version 2.4.4\n",
      "      /_/\n",
      "\n",
      "Using Python version 3.7.4 (default, Aug 13 2019 15:17:50)\n",
      "SparkSession available as 'spark'.\n"
     ]
    }
   ],
   "source": [
    "import pandas as pd\n",
    "import numpy as np\n",
    "import os\n",
    "import seaborn as sns\n",
    "import matplotlib.pyplot as plt\n",
    "%matplotlib inline\n",
    "import numpy as np\n",
    "from matplotlib import rcParams\n",
    "from matplotlib.cm import rainbow\n",
    "import warnings\n",
    "warnings.filterwarnings('ignore')\n",
    "exec(open(os.path.join(os.environ[\"SPARK_HOME\"], 'python/pyspark/shell.py')).read())"
   ]
  },
  {
   "cell_type": "code",
   "execution_count": 3,
   "metadata": {},
   "outputs": [],
   "source": [
    "import pyspark\n",
    "from pyspark.sql import SparkSession\n",
    "from pyspark import SparkFiles\n",
    "from pyspark.sql import DataFrameReader\n",
    "from pyspark.sql.functions import to_timestamp\n",
    "from pyspark.sql.functions import col\n",
    "from pyspark.sql.types import StructType, StructField, StringType, IntegerType\n",
    "from pyspark.sql.types import *"
   ]
  },
  {
   "cell_type": "code",
   "execution_count": 4,
   "metadata": {},
   "outputs": [],
   "source": [
    "spark = SparkSession \\\n",
    "    .builder \\\n",
    "    .appName('pyspark_demo_app') \\\n",
    "    .config('spark.driver.extraClassPath',\n",
    "            'postgresql-42.2.9') \\\n",
    "    .master(\"local[*]\") \\\n",
    "    .getOrCreate()"
   ]
  },
  {
   "cell_type": "code",
   "execution_count": 5,
   "metadata": {},
   "outputs": [],
   "source": [
    "# tips on jdbc ... https://sparkour.urizone.net/recipes/using-jdbc/#03\n",
    "# Load properties from file\n",
    "import json\n",
    "with open(\"../data-load/Resources/db-properties.json\") as propertyFile:\n",
    "    properties = json.load(propertyFile)\n",
    "\n",
    "dbMode = \"overwrite\"\n",
    "jdbc_url= properties[\"jdbcUrl\"]\n",
    "dbConfig = {\"user\": properties[\"user\"], \n",
    "          \"password\": properties[\"password\"], \n",
    "          \"driver\": properties[\"driver\"]\n",
    "         }"
   ]
  },
  {
   "cell_type": "code",
   "execution_count": 6,
   "metadata": {},
   "outputs": [
    {
     "name": "stdout",
     "output_type": "stream",
     "text": [
      "root\n",
      " |-- id: integer (nullable = true)\n",
      " |-- age: integer (nullable = true)\n",
      " |-- gender: integer (nullable = true)\n",
      " |-- height: integer (nullable = true)\n",
      " |-- weight: double (nullable = true)\n",
      " |-- ap_hi: integer (nullable = true)\n",
      " |-- ap_lo: integer (nullable = true)\n",
      " |-- cholesterol: integer (nullable = true)\n",
      " |-- gluc: integer (nullable = true)\n",
      " |-- smoke: integer (nullable = true)\n",
      " |-- alco: integer (nullable = true)\n",
      " |-- active: integer (nullable = true)\n",
      " |-- cardio: integer (nullable = true)\n",
      " |-- age_yrs: integer (nullable = true)\n",
      " |-- weight_lbs: double (nullable = true)\n",
      " |-- height_inches: double (nullable = true)\n",
      " |-- bmi: double (nullable = true)\n",
      "\n",
      "+-----+-----+------+------+------+-----+-----+-----------+----+-----+----+------+------+-------+------------------+-------------+------------------+\n",
      "|   id|  age|gender|height|weight|ap_hi|ap_lo|cholesterol|gluc|smoke|alco|active|cardio|age_yrs|        weight_lbs|height_inches|               bmi|\n",
      "+-----+-----+------+------+------+-----+-----+-----------+----+-----+----+------+------+-------+------------------+-------------+------------------+\n",
      "|84851|23386|     2|   162|  84.0|  160|   90|          1|   1|    0|   0|     1|     0|     64|185.18807999999999|    63.779562| 51.85185185185185|\n",
      "|84852|19540|     1|   164|  83.0|  120|   80|          1|   1|    0|   0|     1|     0|     53|182.98345999999998|    64.566964|50.609756097560975|\n",
      "|84853|20192|     1|   158|  77.0|  100|   70|          1|   1|    0|   0|     1|     0|     55|169.75573999999997|    62.204758|48.734177215189874|\n",
      "|84854|15406|     1|   163|  61.0|  140|   90|          1|   1|    0|   0|     1|     1|     42|         134.48182|    64.173263|37.423312883435585|\n",
      "|84857|17632|     1|   152|  80.0|  140|   90|          2|   1|    0|   0|     1|     1|     48|          176.3696|    59.842552| 52.63157894736842|\n",
      "+-----+-----+------+------+------+-----+-----+-----------+----+-----+----+------+------+-------+------------------+-------------+------------------+\n",
      "\n"
     ]
    }
   ],
   "source": [
    "entireDF = spark.read.jdbc(url=jdbc_url, table = 'heart_cardio_train', properties=dbConfig)\n",
    "entireDF.printSchema()\n",
    "entireDF.limit(5).show()"
   ]
  },
  {
   "cell_type": "code",
   "execution_count": 7,
   "metadata": {},
   "outputs": [
    {
     "data": {
      "text/html": [
       "<div>\n",
       "<style scoped>\n",
       "    .dataframe tbody tr th:only-of-type {\n",
       "        vertical-align: middle;\n",
       "    }\n",
       "\n",
       "    .dataframe tbody tr th {\n",
       "        vertical-align: top;\n",
       "    }\n",
       "\n",
       "    .dataframe thead th {\n",
       "        text-align: right;\n",
       "    }\n",
       "</style>\n",
       "<table border=\"1\" class=\"dataframe\">\n",
       "  <thead>\n",
       "    <tr style=\"text-align: right;\">\n",
       "      <th></th>\n",
       "      <th>id</th>\n",
       "      <th>age</th>\n",
       "      <th>gender</th>\n",
       "      <th>height</th>\n",
       "      <th>weight</th>\n",
       "      <th>ap_hi</th>\n",
       "      <th>ap_lo</th>\n",
       "      <th>cholesterol</th>\n",
       "      <th>gluc</th>\n",
       "      <th>smoke</th>\n",
       "      <th>alco</th>\n",
       "      <th>active</th>\n",
       "      <th>cardio</th>\n",
       "      <th>age_yrs</th>\n",
       "      <th>weight_lbs</th>\n",
       "      <th>height_inches</th>\n",
       "      <th>bmi</th>\n",
       "    </tr>\n",
       "  </thead>\n",
       "  <tbody>\n",
       "    <tr>\n",
       "      <th>0</th>\n",
       "      <td>84851</td>\n",
       "      <td>23386</td>\n",
       "      <td>2</td>\n",
       "      <td>162</td>\n",
       "      <td>84.0</td>\n",
       "      <td>160</td>\n",
       "      <td>90</td>\n",
       "      <td>1</td>\n",
       "      <td>1</td>\n",
       "      <td>0</td>\n",
       "      <td>0</td>\n",
       "      <td>1</td>\n",
       "      <td>0</td>\n",
       "      <td>64</td>\n",
       "      <td>185.18808</td>\n",
       "      <td>63.779562</td>\n",
       "      <td>51.851852</td>\n",
       "    </tr>\n",
       "    <tr>\n",
       "      <th>1</th>\n",
       "      <td>84852</td>\n",
       "      <td>19540</td>\n",
       "      <td>1</td>\n",
       "      <td>164</td>\n",
       "      <td>83.0</td>\n",
       "      <td>120</td>\n",
       "      <td>80</td>\n",
       "      <td>1</td>\n",
       "      <td>1</td>\n",
       "      <td>0</td>\n",
       "      <td>0</td>\n",
       "      <td>1</td>\n",
       "      <td>0</td>\n",
       "      <td>53</td>\n",
       "      <td>182.98346</td>\n",
       "      <td>64.566964</td>\n",
       "      <td>50.609756</td>\n",
       "    </tr>\n",
       "    <tr>\n",
       "      <th>2</th>\n",
       "      <td>84853</td>\n",
       "      <td>20192</td>\n",
       "      <td>1</td>\n",
       "      <td>158</td>\n",
       "      <td>77.0</td>\n",
       "      <td>100</td>\n",
       "      <td>70</td>\n",
       "      <td>1</td>\n",
       "      <td>1</td>\n",
       "      <td>0</td>\n",
       "      <td>0</td>\n",
       "      <td>1</td>\n",
       "      <td>0</td>\n",
       "      <td>55</td>\n",
       "      <td>169.75574</td>\n",
       "      <td>62.204758</td>\n",
       "      <td>48.734177</td>\n",
       "    </tr>\n",
       "    <tr>\n",
       "      <th>3</th>\n",
       "      <td>84854</td>\n",
       "      <td>15406</td>\n",
       "      <td>1</td>\n",
       "      <td>163</td>\n",
       "      <td>61.0</td>\n",
       "      <td>140</td>\n",
       "      <td>90</td>\n",
       "      <td>1</td>\n",
       "      <td>1</td>\n",
       "      <td>0</td>\n",
       "      <td>0</td>\n",
       "      <td>1</td>\n",
       "      <td>1</td>\n",
       "      <td>42</td>\n",
       "      <td>134.48182</td>\n",
       "      <td>64.173263</td>\n",
       "      <td>37.423313</td>\n",
       "    </tr>\n",
       "    <tr>\n",
       "      <th>4</th>\n",
       "      <td>84857</td>\n",
       "      <td>17632</td>\n",
       "      <td>1</td>\n",
       "      <td>152</td>\n",
       "      <td>80.0</td>\n",
       "      <td>140</td>\n",
       "      <td>90</td>\n",
       "      <td>2</td>\n",
       "      <td>1</td>\n",
       "      <td>0</td>\n",
       "      <td>0</td>\n",
       "      <td>1</td>\n",
       "      <td>1</td>\n",
       "      <td>48</td>\n",
       "      <td>176.36960</td>\n",
       "      <td>59.842552</td>\n",
       "      <td>52.631579</td>\n",
       "    </tr>\n",
       "  </tbody>\n",
       "</table>\n",
       "</div>"
      ],
      "text/plain": [
       "      id    age  gender  height  weight  ap_hi  ap_lo  cholesterol  gluc  \\\n",
       "0  84851  23386       2     162    84.0    160     90            1     1   \n",
       "1  84852  19540       1     164    83.0    120     80            1     1   \n",
       "2  84853  20192       1     158    77.0    100     70            1     1   \n",
       "3  84854  15406       1     163    61.0    140     90            1     1   \n",
       "4  84857  17632       1     152    80.0    140     90            2     1   \n",
       "\n",
       "   smoke  alco  active  cardio  age_yrs  weight_lbs  height_inches        bmi  \n",
       "0      0     0       1       0       64   185.18808      63.779562  51.851852  \n",
       "1      0     0       1       0       53   182.98346      64.566964  50.609756  \n",
       "2      0     0       1       0       55   169.75574      62.204758  48.734177  \n",
       "3      0     0       1       1       42   134.48182      64.173263  37.423313  \n",
       "4      0     0       1       1       48   176.36960      59.842552  52.631579  "
      ]
     },
     "execution_count": 7,
     "metadata": {},
     "output_type": "execute_result"
    }
   ],
   "source": [
    "#convert to pandas df\n",
    "heart_cardio = entireDF.select(\"*\").toPandas()\n",
    "heart_cardio.head()"
   ]
  },
  {
   "cell_type": "code",
   "execution_count": 8,
   "metadata": {},
   "outputs": [
    {
     "data": {
      "text/html": [
       "<div>\n",
       "<style scoped>\n",
       "    .dataframe tbody tr th:only-of-type {\n",
       "        vertical-align: middle;\n",
       "    }\n",
       "\n",
       "    .dataframe tbody tr th {\n",
       "        vertical-align: top;\n",
       "    }\n",
       "\n",
       "    .dataframe thead th {\n",
       "        text-align: right;\n",
       "    }\n",
       "</style>\n",
       "<table border=\"1\" class=\"dataframe\">\n",
       "  <thead>\n",
       "    <tr style=\"text-align: right;\">\n",
       "      <th></th>\n",
       "      <th>gender</th>\n",
       "      <th>ap_hi</th>\n",
       "      <th>ap_lo</th>\n",
       "      <th>cholesterol</th>\n",
       "      <th>gluc</th>\n",
       "      <th>smoke</th>\n",
       "      <th>alco</th>\n",
       "      <th>active</th>\n",
       "      <th>cardio</th>\n",
       "      <th>age_yrs</th>\n",
       "      <th>weight_lbs</th>\n",
       "      <th>height_inches</th>\n",
       "      <th>bmi</th>\n",
       "    </tr>\n",
       "  </thead>\n",
       "  <tbody>\n",
       "    <tr>\n",
       "      <th>0</th>\n",
       "      <td>2</td>\n",
       "      <td>160</td>\n",
       "      <td>90</td>\n",
       "      <td>1</td>\n",
       "      <td>1</td>\n",
       "      <td>0</td>\n",
       "      <td>0</td>\n",
       "      <td>1</td>\n",
       "      <td>0</td>\n",
       "      <td>64</td>\n",
       "      <td>185.18808</td>\n",
       "      <td>63.779562</td>\n",
       "      <td>51.851852</td>\n",
       "    </tr>\n",
       "    <tr>\n",
       "      <th>1</th>\n",
       "      <td>1</td>\n",
       "      <td>120</td>\n",
       "      <td>80</td>\n",
       "      <td>1</td>\n",
       "      <td>1</td>\n",
       "      <td>0</td>\n",
       "      <td>0</td>\n",
       "      <td>1</td>\n",
       "      <td>0</td>\n",
       "      <td>53</td>\n",
       "      <td>182.98346</td>\n",
       "      <td>64.566964</td>\n",
       "      <td>50.609756</td>\n",
       "    </tr>\n",
       "    <tr>\n",
       "      <th>2</th>\n",
       "      <td>1</td>\n",
       "      <td>100</td>\n",
       "      <td>70</td>\n",
       "      <td>1</td>\n",
       "      <td>1</td>\n",
       "      <td>0</td>\n",
       "      <td>0</td>\n",
       "      <td>1</td>\n",
       "      <td>0</td>\n",
       "      <td>55</td>\n",
       "      <td>169.75574</td>\n",
       "      <td>62.204758</td>\n",
       "      <td>48.734177</td>\n",
       "    </tr>\n",
       "    <tr>\n",
       "      <th>3</th>\n",
       "      <td>1</td>\n",
       "      <td>140</td>\n",
       "      <td>90</td>\n",
       "      <td>1</td>\n",
       "      <td>1</td>\n",
       "      <td>0</td>\n",
       "      <td>0</td>\n",
       "      <td>1</td>\n",
       "      <td>1</td>\n",
       "      <td>42</td>\n",
       "      <td>134.48182</td>\n",
       "      <td>64.173263</td>\n",
       "      <td>37.423313</td>\n",
       "    </tr>\n",
       "    <tr>\n",
       "      <th>4</th>\n",
       "      <td>1</td>\n",
       "      <td>140</td>\n",
       "      <td>90</td>\n",
       "      <td>2</td>\n",
       "      <td>1</td>\n",
       "      <td>0</td>\n",
       "      <td>0</td>\n",
       "      <td>1</td>\n",
       "      <td>1</td>\n",
       "      <td>48</td>\n",
       "      <td>176.36960</td>\n",
       "      <td>59.842552</td>\n",
       "      <td>52.631579</td>\n",
       "    </tr>\n",
       "  </tbody>\n",
       "</table>\n",
       "</div>"
      ],
      "text/plain": [
       "   gender  ap_hi  ap_lo  cholesterol  gluc  smoke  alco  active  cardio  \\\n",
       "0       2    160     90            1     1      0     0       1       0   \n",
       "1       1    120     80            1     1      0     0       1       0   \n",
       "2       1    100     70            1     1      0     0       1       0   \n",
       "3       1    140     90            1     1      0     0       1       1   \n",
       "4       1    140     90            2     1      0     0       1       1   \n",
       "\n",
       "   age_yrs  weight_lbs  height_inches        bmi  \n",
       "0       64   185.18808      63.779562  51.851852  \n",
       "1       53   182.98346      64.566964  50.609756  \n",
       "2       55   169.75574      62.204758  48.734177  \n",
       "3       42   134.48182      64.173263  37.423313  \n",
       "4       48   176.36960      59.842552  52.631579  "
      ]
     },
     "execution_count": 8,
     "metadata": {},
     "output_type": "execute_result"
    }
   ],
   "source": [
    "heart_cardio=heart_cardio.drop(columns=['id','age', 'height','weight'], axis=1)\n",
    "heart_cardio.head()"
   ]
  },
  {
   "cell_type": "code",
   "execution_count": 9,
   "metadata": {},
   "outputs": [
    {
     "data": {
      "text/html": [
       "<div>\n",
       "<style scoped>\n",
       "    .dataframe tbody tr th:only-of-type {\n",
       "        vertical-align: middle;\n",
       "    }\n",
       "\n",
       "    .dataframe tbody tr th {\n",
       "        vertical-align: top;\n",
       "    }\n",
       "\n",
       "    .dataframe thead th {\n",
       "        text-align: right;\n",
       "    }\n",
       "</style>\n",
       "<table border=\"1\" class=\"dataframe\">\n",
       "  <thead>\n",
       "    <tr style=\"text-align: right;\">\n",
       "      <th></th>\n",
       "      <th>gender</th>\n",
       "      <th>systolic pressure</th>\n",
       "      <th>diastolic pressure</th>\n",
       "      <th>cholesterol</th>\n",
       "      <th>gluc</th>\n",
       "      <th>smoke</th>\n",
       "      <th>alcohol</th>\n",
       "      <th>active</th>\n",
       "      <th>cardio</th>\n",
       "      <th>age_yrs</th>\n",
       "      <th>weight_lbs</th>\n",
       "      <th>height_inches</th>\n",
       "      <th>bmi</th>\n",
       "    </tr>\n",
       "  </thead>\n",
       "  <tbody>\n",
       "    <tr>\n",
       "      <th>0</th>\n",
       "      <td>2</td>\n",
       "      <td>160</td>\n",
       "      <td>90</td>\n",
       "      <td>1</td>\n",
       "      <td>1</td>\n",
       "      <td>0</td>\n",
       "      <td>0</td>\n",
       "      <td>1</td>\n",
       "      <td>0</td>\n",
       "      <td>64</td>\n",
       "      <td>185.18808</td>\n",
       "      <td>63.779562</td>\n",
       "      <td>51.851852</td>\n",
       "    </tr>\n",
       "    <tr>\n",
       "      <th>1</th>\n",
       "      <td>1</td>\n",
       "      <td>120</td>\n",
       "      <td>80</td>\n",
       "      <td>1</td>\n",
       "      <td>1</td>\n",
       "      <td>0</td>\n",
       "      <td>0</td>\n",
       "      <td>1</td>\n",
       "      <td>0</td>\n",
       "      <td>53</td>\n",
       "      <td>182.98346</td>\n",
       "      <td>64.566964</td>\n",
       "      <td>50.609756</td>\n",
       "    </tr>\n",
       "    <tr>\n",
       "      <th>2</th>\n",
       "      <td>1</td>\n",
       "      <td>100</td>\n",
       "      <td>70</td>\n",
       "      <td>1</td>\n",
       "      <td>1</td>\n",
       "      <td>0</td>\n",
       "      <td>0</td>\n",
       "      <td>1</td>\n",
       "      <td>0</td>\n",
       "      <td>55</td>\n",
       "      <td>169.75574</td>\n",
       "      <td>62.204758</td>\n",
       "      <td>48.734177</td>\n",
       "    </tr>\n",
       "    <tr>\n",
       "      <th>3</th>\n",
       "      <td>1</td>\n",
       "      <td>140</td>\n",
       "      <td>90</td>\n",
       "      <td>1</td>\n",
       "      <td>1</td>\n",
       "      <td>0</td>\n",
       "      <td>0</td>\n",
       "      <td>1</td>\n",
       "      <td>1</td>\n",
       "      <td>42</td>\n",
       "      <td>134.48182</td>\n",
       "      <td>64.173263</td>\n",
       "      <td>37.423313</td>\n",
       "    </tr>\n",
       "    <tr>\n",
       "      <th>4</th>\n",
       "      <td>1</td>\n",
       "      <td>140</td>\n",
       "      <td>90</td>\n",
       "      <td>2</td>\n",
       "      <td>1</td>\n",
       "      <td>0</td>\n",
       "      <td>0</td>\n",
       "      <td>1</td>\n",
       "      <td>1</td>\n",
       "      <td>48</td>\n",
       "      <td>176.36960</td>\n",
       "      <td>59.842552</td>\n",
       "      <td>52.631579</td>\n",
       "    </tr>\n",
       "  </tbody>\n",
       "</table>\n",
       "</div>"
      ],
      "text/plain": [
       "   gender  systolic pressure  diastolic pressure  cholesterol  gluc  smoke  \\\n",
       "0       2                160                  90            1     1      0   \n",
       "1       1                120                  80            1     1      0   \n",
       "2       1                100                  70            1     1      0   \n",
       "3       1                140                  90            1     1      0   \n",
       "4       1                140                  90            2     1      0   \n",
       "\n",
       "   alcohol  active  cardio  age_yrs  weight_lbs  height_inches        bmi  \n",
       "0        0       1       0       64   185.18808      63.779562  51.851852  \n",
       "1        0       1       0       53   182.98346      64.566964  50.609756  \n",
       "2        0       1       0       55   169.75574      62.204758  48.734177  \n",
       "3        0       1       1       42   134.48182      64.173263  37.423313  \n",
       "4        0       1       1       48   176.36960      59.842552  52.631579  "
      ]
     },
     "execution_count": 9,
     "metadata": {},
     "output_type": "execute_result"
    }
   ],
   "source": [
    "#Rename columns\n",
    "heart_cardio=heart_cardio.rename(columns={\"ap_hi\": \"systolic pressure\", \"ap_lo\": \"diastolic pressure\", \"alco\": \"alcohol\"})\n",
    "heart_cardio.head()"
   ]
  },
  {
   "cell_type": "markdown",
   "metadata": {},
   "source": [
    "# Data-preprocessing"
   ]
  },
  {
   "cell_type": "code",
   "execution_count": 10,
   "metadata": {},
   "outputs": [
    {
     "data": {
      "text/html": [
       "<div>\n",
       "<style scoped>\n",
       "    .dataframe tbody tr th:only-of-type {\n",
       "        vertical-align: middle;\n",
       "    }\n",
       "\n",
       "    .dataframe tbody tr th {\n",
       "        vertical-align: top;\n",
       "    }\n",
       "\n",
       "    .dataframe thead th {\n",
       "        text-align: right;\n",
       "    }\n",
       "</style>\n",
       "<table border=\"1\" class=\"dataframe\">\n",
       "  <thead>\n",
       "    <tr style=\"text-align: right;\">\n",
       "      <th></th>\n",
       "      <th>gender</th>\n",
       "      <th>systolic pressure</th>\n",
       "      <th>diastolic pressure</th>\n",
       "      <th>cholesterol</th>\n",
       "      <th>gluc</th>\n",
       "      <th>smoke</th>\n",
       "      <th>alcohol</th>\n",
       "      <th>active</th>\n",
       "      <th>cardio</th>\n",
       "      <th>age_yrs</th>\n",
       "      <th>weight_lbs</th>\n",
       "      <th>height_inches</th>\n",
       "      <th>bmi</th>\n",
       "    </tr>\n",
       "  </thead>\n",
       "  <tbody>\n",
       "    <tr>\n",
       "      <th>count</th>\n",
       "      <td>68662.000000</td>\n",
       "      <td>68662.000000</td>\n",
       "      <td>68662.000000</td>\n",
       "      <td>68662.000000</td>\n",
       "      <td>68662.000000</td>\n",
       "      <td>68662.000000</td>\n",
       "      <td>68662.000000</td>\n",
       "      <td>68662.000000</td>\n",
       "      <td>68662.000000</td>\n",
       "      <td>68662.000000</td>\n",
       "      <td>68662.000000</td>\n",
       "      <td>68662.000000</td>\n",
       "      <td>68662.000000</td>\n",
       "    </tr>\n",
       "    <tr>\n",
       "      <th>mean</th>\n",
       "      <td>1.348766</td>\n",
       "      <td>126.618901</td>\n",
       "      <td>81.368734</td>\n",
       "      <td>1.364874</td>\n",
       "      <td>1.226006</td>\n",
       "      <td>0.088055</td>\n",
       "      <td>0.053625</td>\n",
       "      <td>0.803458</td>\n",
       "      <td>0.494903</td>\n",
       "      <td>52.829207</td>\n",
       "      <td>163.414123</td>\n",
       "      <td>64.739279</td>\n",
       "      <td>45.053371</td>\n",
       "    </tr>\n",
       "    <tr>\n",
       "      <th>std</th>\n",
       "      <td>0.476583</td>\n",
       "      <td>16.752806</td>\n",
       "      <td>9.590851</td>\n",
       "      <td>0.679089</td>\n",
       "      <td>0.571975</td>\n",
       "      <td>0.283376</td>\n",
       "      <td>0.225278</td>\n",
       "      <td>0.397386</td>\n",
       "      <td>0.499978</td>\n",
       "      <td>6.768510</td>\n",
       "      <td>31.502418</td>\n",
       "      <td>3.092243</td>\n",
       "      <td>8.324257</td>\n",
       "    </tr>\n",
       "    <tr>\n",
       "      <th>min</th>\n",
       "      <td>1.000000</td>\n",
       "      <td>70.000000</td>\n",
       "      <td>40.000000</td>\n",
       "      <td>1.000000</td>\n",
       "      <td>1.000000</td>\n",
       "      <td>0.000000</td>\n",
       "      <td>0.000000</td>\n",
       "      <td>0.000000</td>\n",
       "      <td>0.000000</td>\n",
       "      <td>29.000000</td>\n",
       "      <td>77.161700</td>\n",
       "      <td>48.031522</td>\n",
       "      <td>20.710059</td>\n",
       "    </tr>\n",
       "    <tr>\n",
       "      <th>25%</th>\n",
       "      <td>1.000000</td>\n",
       "      <td>120.000000</td>\n",
       "      <td>80.000000</td>\n",
       "      <td>1.000000</td>\n",
       "      <td>1.000000</td>\n",
       "      <td>0.000000</td>\n",
       "      <td>0.000000</td>\n",
       "      <td>1.000000</td>\n",
       "      <td>0.000000</td>\n",
       "      <td>48.000000</td>\n",
       "      <td>143.300300</td>\n",
       "      <td>62.598459</td>\n",
       "      <td>39.393939</td>\n",
       "    </tr>\n",
       "    <tr>\n",
       "      <th>50%</th>\n",
       "      <td>1.000000</td>\n",
       "      <td>120.000000</td>\n",
       "      <td>80.000000</td>\n",
       "      <td>1.000000</td>\n",
       "      <td>1.000000</td>\n",
       "      <td>0.000000</td>\n",
       "      <td>0.000000</td>\n",
       "      <td>1.000000</td>\n",
       "      <td>0.000000</td>\n",
       "      <td>53.000000</td>\n",
       "      <td>158.732640</td>\n",
       "      <td>64.960665</td>\n",
       "      <td>43.589744</td>\n",
       "    </tr>\n",
       "    <tr>\n",
       "      <th>75%</th>\n",
       "      <td>2.000000</td>\n",
       "      <td>140.000000</td>\n",
       "      <td>90.000000</td>\n",
       "      <td>2.000000</td>\n",
       "      <td>1.000000</td>\n",
       "      <td>0.000000</td>\n",
       "      <td>0.000000</td>\n",
       "      <td>1.000000</td>\n",
       "      <td>1.000000</td>\n",
       "      <td>58.000000</td>\n",
       "      <td>180.778840</td>\n",
       "      <td>66.929170</td>\n",
       "      <td>49.421125</td>\n",
       "    </tr>\n",
       "    <tr>\n",
       "      <th>max</th>\n",
       "      <td>2.000000</td>\n",
       "      <td>240.000000</td>\n",
       "      <td>160.000000</td>\n",
       "      <td>3.000000</td>\n",
       "      <td>3.000000</td>\n",
       "      <td>1.000000</td>\n",
       "      <td>1.000000</td>\n",
       "      <td>1.000000</td>\n",
       "      <td>1.000000</td>\n",
       "      <td>64.000000</td>\n",
       "      <td>440.924000</td>\n",
       "      <td>81.496107</td>\n",
       "      <td>133.600000</td>\n",
       "    </tr>\n",
       "  </tbody>\n",
       "</table>\n",
       "</div>"
      ],
      "text/plain": [
       "             gender  systolic pressure  diastolic pressure   cholesterol  \\\n",
       "count  68662.000000       68662.000000        68662.000000  68662.000000   \n",
       "mean       1.348766         126.618901           81.368734      1.364874   \n",
       "std        0.476583          16.752806            9.590851      0.679089   \n",
       "min        1.000000          70.000000           40.000000      1.000000   \n",
       "25%        1.000000         120.000000           80.000000      1.000000   \n",
       "50%        1.000000         120.000000           80.000000      1.000000   \n",
       "75%        2.000000         140.000000           90.000000      2.000000   \n",
       "max        2.000000         240.000000          160.000000      3.000000   \n",
       "\n",
       "               gluc         smoke       alcohol        active        cardio  \\\n",
       "count  68662.000000  68662.000000  68662.000000  68662.000000  68662.000000   \n",
       "mean       1.226006      0.088055      0.053625      0.803458      0.494903   \n",
       "std        0.571975      0.283376      0.225278      0.397386      0.499978   \n",
       "min        1.000000      0.000000      0.000000      0.000000      0.000000   \n",
       "25%        1.000000      0.000000      0.000000      1.000000      0.000000   \n",
       "50%        1.000000      0.000000      0.000000      1.000000      0.000000   \n",
       "75%        1.000000      0.000000      0.000000      1.000000      1.000000   \n",
       "max        3.000000      1.000000      1.000000      1.000000      1.000000   \n",
       "\n",
       "            age_yrs    weight_lbs  height_inches           bmi  \n",
       "count  68662.000000  68662.000000   68662.000000  68662.000000  \n",
       "mean      52.829207    163.414123      64.739279     45.053371  \n",
       "std        6.768510     31.502418       3.092243      8.324257  \n",
       "min       29.000000     77.161700      48.031522     20.710059  \n",
       "25%       48.000000    143.300300      62.598459     39.393939  \n",
       "50%       53.000000    158.732640      64.960665     43.589744  \n",
       "75%       58.000000    180.778840      66.929170     49.421125  \n",
       "max       64.000000    440.924000      81.496107    133.600000  "
      ]
     },
     "execution_count": 10,
     "metadata": {},
     "output_type": "execute_result"
    }
   ],
   "source": [
    "heart_cardio.describe()"
   ]
  },
  {
   "cell_type": "code",
   "execution_count": 63,
   "metadata": {},
   "outputs": [],
   "source": [
    "# # import seaborn as sns\n",
    "# sns.pairplot(data=heart_cardio)"
   ]
  },
  {
   "cell_type": "code",
   "execution_count": 10,
   "metadata": {},
   "outputs": [
    {
     "data": {
      "image/png": "[encoded data removed]",
      "text/plain": [
       "<Figure size 1008x720 with 16 Axes>"
      ]
     },
     "metadata": {
      "needs_background": "light"
     },
     "output_type": "display_data"
    }
   ],
   "source": [
    "heart_cardio.hist(figsize=(14,10), color=\"brown\",alpha=0.7, grid=False);"
   ]
  },
  {
   "cell_type": "code",
   "execution_count": 13,
   "metadata": {},
   "outputs": [
    {
     "name": "stdout",
     "output_type": "stream",
     "text": [
      "Percentage of data distribution in the two classes are:\n",
      "50.51\n",
      "49.49\n"
     ]
    },
    {
     "data": {
      "image/png": "[encoded data removed]",
      "text/plain": [
       "<Figure size 432x360 with 1 Axes>"
      ]
     },
     "metadata": {
      "needs_background": "light"
     },
     "output_type": "display_data"
    }
   ],
   "source": [
    "##Check count and Visualize data distribution in target\n",
    "rcParams['figure.figsize'] = 6,5\n",
    "plt.bar(heart_cardio['cardio'].unique(), heart_cardio['cardio'].value_counts(), color = ['pink','cyan'])\n",
    "plt.xticks([0, 1])\n",
    "plt.xlabel('Target Classes')\n",
    "plt.ylabel('Count');\n",
    "\n",
    "a,b=np.bincount(heart_cardio.cardio)\n",
    "print(f\"Percentage of data distribution in the two classes are:\")\n",
    "print(round(a/(a+b)*100,2))\n",
    "print(round(b/(a+b)*100,2))"
   ]
  },
  {
   "cell_type": "markdown",
   "metadata": {},
   "source": [
    "# Data Pre-Processing\n",
    "From EDA, it is clear that the data needs to be scaled before proceeding and categorical variables need to be converted to dummy variables."
   ]
  },
  {
   "cell_type": "markdown",
   "metadata": {},
   "source": [
    "### Feature Selection\n",
    "#### 1.Univariate Selection:\n",
    "The scikit-learn library provides the SelectKBest class that can be used with a suite of different statistical tests to select a specific number of features. The code below uses the chi-squared (chi²) statistical test to select 10 of the best features. "
   ]
  },
  {
   "cell_type": "code",
   "execution_count": 11,
   "metadata": {},
   "outputs": [
    {
     "name": "stdout",
     "output_type": "stream",
     "text": [
      "                 Specs         Score\n",
      "1    systolic pressure  27530.500731\n",
      "9           weight_lbs  13524.046201\n",
      "2   diastolic pressure   8811.089158\n",
      "11                 bmi   3898.296469\n",
      "8              age_yrs   3411.342895\n",
      "3          cholesterol   1137.980787\n",
      "4                 gluc    148.227152\n",
      "7               active     18.808573\n",
      "5                smoke     16.555609\n",
      "6              alcohol      4.343950\n"
     ]
    }
   ],
   "source": [
    "from sklearn.feature_selection import SelectKBest\n",
    "from sklearn.feature_selection import chi2\n",
    "X = heart_cardio.drop(\"cardio\", axis=1) \n",
    "y = heart_cardio[\"cardio\"]   \n",
    "# apply SelectKBest class to extract top 10 best features\n",
    "bestfeatures = SelectKBest(score_func=chi2, k=10)\n",
    "fit = bestfeatures.fit(X,y)\n",
    "dfscores = pd.DataFrame(fit.scores_)\n",
    "dfcolumns = pd.DataFrame(X.columns)\n",
    "#concat two dataframes for better visualization \n",
    "featureScores = pd.concat([dfcolumns,dfscores],axis=1)\n",
    "featureScores.columns = ['Specs','Score']  #naming the dataframe columns\n",
    "print(featureScores.nlargest(10,'Score'))  #print 10 best features\n",
    "# X.head()\n",
    "# y.head()"
   ]
  },
  {
   "cell_type": "markdown",
   "metadata": {},
   "source": [
    "#### 2. Feature importance:\n",
    "Feature importance is an inbuilt class that comes with Tree Based Classifiers. Extra Tree Classifier is used for extracting the top 10 features for the dataset."
   ]
  },
  {
   "cell_type": "code",
   "execution_count": 12,
   "metadata": {},
   "outputs": [
    {
     "name": "stdout",
     "output_type": "stream",
     "text": [
      "[0.01099358 0.18037996 0.09944145 0.04494697 0.01568136 0.0064916\n",
      " 0.00615799 0.00880836 0.15603479 0.14342391 0.15212345 0.1755166 ]\n"
     ]
    },
    {
     "data": {
      "image/png": "[encoded data removed]",
      "text/plain": [
       "<Figure size 576x432 with 1 Axes>"
      ]
     },
     "metadata": {
      "needs_background": "light"
     },
     "output_type": "display_data"
    }
   ],
   "source": [
    "from sklearn.ensemble import ExtraTreesClassifier\n",
    "import matplotlib.pyplot as plt\n",
    "rcParams['figure.figsize'] = 8,6\n",
    "model = ExtraTreesClassifier()\n",
    "model.fit(X,y)\n",
    "print(model.feature_importances_) #use inbuilt class feature_importances of tree based classifiers\n",
    "#plot graph of feature importances for better visualization\n",
    "feat_importances = pd.Series(model.feature_importances_, index=X.columns)\n",
    "feat_importances.nlargest(10).plot(kind='barh')\n",
    "plt.show()"
   ]
  },
  {
   "cell_type": "markdown",
   "metadata": {},
   "source": [
    "#### 3.Correlation Matrix with Heatmap\n",
    "Correlation heatmap is built using the seaborn library to identify which features are most related to each other or the target variable. "
   ]
  },
  {
   "cell_type": "code",
   "execution_count": 13,
   "metadata": {},
   "outputs": [
    {
     "data": {
      "image/png": "[encoded data removed]",
      "text/plain": [
       "<Figure size 864x720 with 2 Axes>"
      ]
     },
     "metadata": {
      "needs_background": "light"
     },
     "output_type": "display_data"
    }
   ],
   "source": [
    "#get correlations of each features in dataset\n",
    "import seaborn as sns\n",
    "corrmat = heart_cardio.corr()\n",
    "top_corr_features = corrmat.index\n",
    "plt.figure(figsize=(12,10))\n",
    "#plot heat map\n",
    "g=sns.heatmap(heart_cardio[top_corr_features].corr(),annot=True,cmap=\"plasma\")"
   ]
  },
  {
   "cell_type": "markdown",
   "metadata": {},
   "source": [
    "From analysis of the above three processes for feature selection, and distribution of data in categorical features as seen in the histograms above, the following features have been selected based on the feature name appearing in atleast two of the three selection tests above:\n",
    "systolic pressure,diastolic pressure, bmi, age_yrs, weight_lbs, chol, glu, gender, active. \n",
    "While smoke and alcohol are known to be great risk factors, but their distribution in the classes is highly imbalanced to train the model. Also, they show negative correlation with the target in the heatmap and don't appear in the feature importance plot.Active is selcted despite showing negative correlation as it appears in the other two selection processes."
   ]
  },
  {
   "cell_type": "code",
   "execution_count": 15,
   "metadata": {},
   "outputs": [
    {
     "data": {
      "text/html": [
       "<div>\n",
       "<style scoped>\n",
       "    .dataframe tbody tr th:only-of-type {\n",
       "        vertical-align: middle;\n",
       "    }\n",
       "\n",
       "    .dataframe tbody tr th {\n",
       "        vertical-align: top;\n",
       "    }\n",
       "\n",
       "    .dataframe thead th {\n",
       "        text-align: right;\n",
       "    }\n",
       "</style>\n",
       "<table border=\"1\" class=\"dataframe\">\n",
       "  <thead>\n",
       "    <tr style=\"text-align: right;\">\n",
       "      <th></th>\n",
       "      <th>gender</th>\n",
       "      <th>systolic pressure</th>\n",
       "      <th>diastolic pressure</th>\n",
       "      <th>cholesterol</th>\n",
       "      <th>gluc</th>\n",
       "      <th>active</th>\n",
       "      <th>cardio</th>\n",
       "      <th>age_yrs</th>\n",
       "      <th>weight_lbs</th>\n",
       "      <th>bmi</th>\n",
       "    </tr>\n",
       "  </thead>\n",
       "  <tbody>\n",
       "    <tr>\n",
       "      <th>0</th>\n",
       "      <td>2</td>\n",
       "      <td>160</td>\n",
       "      <td>90</td>\n",
       "      <td>1</td>\n",
       "      <td>1</td>\n",
       "      <td>1</td>\n",
       "      <td>0</td>\n",
       "      <td>64</td>\n",
       "      <td>185.18808</td>\n",
       "      <td>51.851852</td>\n",
       "    </tr>\n",
       "    <tr>\n",
       "      <th>1</th>\n",
       "      <td>1</td>\n",
       "      <td>120</td>\n",
       "      <td>80</td>\n",
       "      <td>1</td>\n",
       "      <td>1</td>\n",
       "      <td>1</td>\n",
       "      <td>0</td>\n",
       "      <td>53</td>\n",
       "      <td>182.98346</td>\n",
       "      <td>50.609756</td>\n",
       "    </tr>\n",
       "    <tr>\n",
       "      <th>2</th>\n",
       "      <td>1</td>\n",
       "      <td>100</td>\n",
       "      <td>70</td>\n",
       "      <td>1</td>\n",
       "      <td>1</td>\n",
       "      <td>1</td>\n",
       "      <td>0</td>\n",
       "      <td>55</td>\n",
       "      <td>169.75574</td>\n",
       "      <td>48.734177</td>\n",
       "    </tr>\n",
       "    <tr>\n",
       "      <th>3</th>\n",
       "      <td>1</td>\n",
       "      <td>140</td>\n",
       "      <td>90</td>\n",
       "      <td>1</td>\n",
       "      <td>1</td>\n",
       "      <td>1</td>\n",
       "      <td>1</td>\n",
       "      <td>42</td>\n",
       "      <td>134.48182</td>\n",
       "      <td>37.423313</td>\n",
       "    </tr>\n",
       "    <tr>\n",
       "      <th>4</th>\n",
       "      <td>1</td>\n",
       "      <td>140</td>\n",
       "      <td>90</td>\n",
       "      <td>2</td>\n",
       "      <td>1</td>\n",
       "      <td>1</td>\n",
       "      <td>1</td>\n",
       "      <td>48</td>\n",
       "      <td>176.36960</td>\n",
       "      <td>52.631579</td>\n",
       "    </tr>\n",
       "  </tbody>\n",
       "</table>\n",
       "</div>"
      ],
      "text/plain": [
       "   gender  systolic pressure  diastolic pressure  cholesterol  gluc  active  \\\n",
       "0       2                160                  90            1     1       1   \n",
       "1       1                120                  80            1     1       1   \n",
       "2       1                100                  70            1     1       1   \n",
       "3       1                140                  90            1     1       1   \n",
       "4       1                140                  90            2     1       1   \n",
       "\n",
       "   cardio  age_yrs  weight_lbs        bmi  \n",
       "0       0       64   185.18808  51.851852  \n",
       "1       0       53   182.98346  50.609756  \n",
       "2       0       55   169.75574  48.734177  \n",
       "3       1       42   134.48182  37.423313  \n",
       "4       1       48   176.36960  52.631579  "
      ]
     },
     "execution_count": 15,
     "metadata": {},
     "output_type": "execute_result"
    }
   ],
   "source": [
    "#Drop rest of the features and create new df\n",
    "feature_selected_df = heart_cardio.drop(['smoke', 'alcohol','height_inches'], axis=1)\n",
    "feature_selected_df.head()"
   ]
  },
  {
   "cell_type": "markdown",
   "metadata": {},
   "source": [
    "### Dummy encoding categorical features"
   ]
  },
  {
   "cell_type": "code",
   "execution_count": 16,
   "metadata": {},
   "outputs": [
    {
     "data": {
      "text/html": [
       "<div>\n",
       "<style scoped>\n",
       "    .dataframe tbody tr th:only-of-type {\n",
       "        vertical-align: middle;\n",
       "    }\n",
       "\n",
       "    .dataframe tbody tr th {\n",
       "        vertical-align: top;\n",
       "    }\n",
       "\n",
       "    .dataframe thead th {\n",
       "        text-align: right;\n",
       "    }\n",
       "</style>\n",
       "<table border=\"1\" class=\"dataframe\">\n",
       "  <thead>\n",
       "    <tr style=\"text-align: right;\">\n",
       "      <th></th>\n",
       "      <th>systolic pressure</th>\n",
       "      <th>diastolic pressure</th>\n",
       "      <th>cardio</th>\n",
       "      <th>age_yrs</th>\n",
       "      <th>weight_lbs</th>\n",
       "      <th>bmi</th>\n",
       "      <th>active_0</th>\n",
       "      <th>active_1</th>\n",
       "      <th>cholesterol_1</th>\n",
       "      <th>cholesterol_2</th>\n",
       "      <th>cholesterol_3</th>\n",
       "      <th>gender_1</th>\n",
       "      <th>gender_2</th>\n",
       "      <th>gluc_1</th>\n",
       "      <th>gluc_2</th>\n",
       "      <th>gluc_3</th>\n",
       "    </tr>\n",
       "  </thead>\n",
       "  <tbody>\n",
       "    <tr>\n",
       "      <th>0</th>\n",
       "      <td>160</td>\n",
       "      <td>90</td>\n",
       "      <td>0</td>\n",
       "      <td>64</td>\n",
       "      <td>185.18808</td>\n",
       "      <td>51.851852</td>\n",
       "      <td>0</td>\n",
       "      <td>1</td>\n",
       "      <td>1</td>\n",
       "      <td>0</td>\n",
       "      <td>0</td>\n",
       "      <td>0</td>\n",
       "      <td>1</td>\n",
       "      <td>1</td>\n",
       "      <td>0</td>\n",
       "      <td>0</td>\n",
       "    </tr>\n",
       "    <tr>\n",
       "      <th>1</th>\n",
       "      <td>120</td>\n",
       "      <td>80</td>\n",
       "      <td>0</td>\n",
       "      <td>53</td>\n",
       "      <td>182.98346</td>\n",
       "      <td>50.609756</td>\n",
       "      <td>0</td>\n",
       "      <td>1</td>\n",
       "      <td>1</td>\n",
       "      <td>0</td>\n",
       "      <td>0</td>\n",
       "      <td>1</td>\n",
       "      <td>0</td>\n",
       "      <td>1</td>\n",
       "      <td>0</td>\n",
       "      <td>0</td>\n",
       "    </tr>\n",
       "    <tr>\n",
       "      <th>2</th>\n",
       "      <td>100</td>\n",
       "      <td>70</td>\n",
       "      <td>0</td>\n",
       "      <td>55</td>\n",
       "      <td>169.75574</td>\n",
       "      <td>48.734177</td>\n",
       "      <td>0</td>\n",
       "      <td>1</td>\n",
       "      <td>1</td>\n",
       "      <td>0</td>\n",
       "      <td>0</td>\n",
       "      <td>1</td>\n",
       "      <td>0</td>\n",
       "      <td>1</td>\n",
       "      <td>0</td>\n",
       "      <td>0</td>\n",
       "    </tr>\n",
       "    <tr>\n",
       "      <th>3</th>\n",
       "      <td>140</td>\n",
       "      <td>90</td>\n",
       "      <td>1</td>\n",
       "      <td>42</td>\n",
       "      <td>134.48182</td>\n",
       "      <td>37.423313</td>\n",
       "      <td>0</td>\n",
       "      <td>1</td>\n",
       "      <td>1</td>\n",
       "      <td>0</td>\n",
       "      <td>0</td>\n",
       "      <td>1</td>\n",
       "      <td>0</td>\n",
       "      <td>1</td>\n",
       "      <td>0</td>\n",
       "      <td>0</td>\n",
       "    </tr>\n",
       "    <tr>\n",
       "      <th>4</th>\n",
       "      <td>140</td>\n",
       "      <td>90</td>\n",
       "      <td>1</td>\n",
       "      <td>48</td>\n",
       "      <td>176.36960</td>\n",
       "      <td>52.631579</td>\n",
       "      <td>0</td>\n",
       "      <td>1</td>\n",
       "      <td>0</td>\n",
       "      <td>1</td>\n",
       "      <td>0</td>\n",
       "      <td>1</td>\n",
       "      <td>0</td>\n",
       "      <td>1</td>\n",
       "      <td>0</td>\n",
       "      <td>0</td>\n",
       "    </tr>\n",
       "  </tbody>\n",
       "</table>\n",
       "</div>"
      ],
      "text/plain": [
       "   systolic pressure  diastolic pressure  cardio  age_yrs  weight_lbs  \\\n",
       "0                160                  90       0       64   185.18808   \n",
       "1                120                  80       0       53   182.98346   \n",
       "2                100                  70       0       55   169.75574   \n",
       "3                140                  90       1       42   134.48182   \n",
       "4                140                  90       1       48   176.36960   \n",
       "\n",
       "         bmi  active_0  active_1  cholesterol_1  cholesterol_2  cholesterol_3  \\\n",
       "0  51.851852         0         1              1              0              0   \n",
       "1  50.609756         0         1              1              0              0   \n",
       "2  48.734177         0         1              1              0              0   \n",
       "3  37.423313         0         1              1              0              0   \n",
       "4  52.631579         0         1              0              1              0   \n",
       "\n",
       "   gender_1  gender_2  gluc_1  gluc_2  gluc_3  \n",
       "0         0         1       1       0       0  \n",
       "1         1         0       1       0       0  \n",
       "2         1         0       1       0       0  \n",
       "3         1         0       1       0       0  \n",
       "4         1         0       1       0       0  "
      ]
     },
     "execution_count": 16,
     "metadata": {},
     "output_type": "execute_result"
    }
   ],
   "source": [
    "#Processing categorical features\n",
    "dataset = pd.get_dummies(feature_selected_df, columns = ['active','cholesterol','gender','gluc'])\n",
    "dataset.head()"
   ]
  },
  {
   "cell_type": "markdown",
   "metadata": {},
   "source": [
    "### Data Scaling"
   ]
  },
  {
   "cell_type": "code",
   "execution_count": 17,
   "metadata": {},
   "outputs": [
    {
     "data": {
      "text/html": [
       "<div>\n",
       "<style scoped>\n",
       "    .dataframe tbody tr th:only-of-type {\n",
       "        vertical-align: middle;\n",
       "    }\n",
       "\n",
       "    .dataframe tbody tr th {\n",
       "        vertical-align: top;\n",
       "    }\n",
       "\n",
       "    .dataframe thead th {\n",
       "        text-align: right;\n",
       "    }\n",
       "</style>\n",
       "<table border=\"1\" class=\"dataframe\">\n",
       "  <thead>\n",
       "    <tr style=\"text-align: right;\">\n",
       "      <th></th>\n",
       "      <th>systolic pressure</th>\n",
       "      <th>diastolic pressure</th>\n",
       "      <th>cardio</th>\n",
       "      <th>age_yrs</th>\n",
       "      <th>weight_lbs</th>\n",
       "      <th>bmi</th>\n",
       "      <th>active_0</th>\n",
       "      <th>active_1</th>\n",
       "      <th>cholesterol_1</th>\n",
       "      <th>cholesterol_2</th>\n",
       "      <th>cholesterol_3</th>\n",
       "      <th>gender_1</th>\n",
       "      <th>gender_2</th>\n",
       "      <th>gluc_1</th>\n",
       "      <th>gluc_2</th>\n",
       "      <th>gluc_3</th>\n",
       "    </tr>\n",
       "  </thead>\n",
       "  <tbody>\n",
       "    <tr>\n",
       "      <th>0</th>\n",
       "      <td>1.992582</td>\n",
       "      <td>0.899954</td>\n",
       "      <td>0</td>\n",
       "      <td>1.650418</td>\n",
       "      <td>0.691189</td>\n",
       "      <td>0.816713</td>\n",
       "      <td>0</td>\n",
       "      <td>1</td>\n",
       "      <td>1</td>\n",
       "      <td>0</td>\n",
       "      <td>0</td>\n",
       "      <td>0</td>\n",
       "      <td>1</td>\n",
       "      <td>1</td>\n",
       "      <td>0</td>\n",
       "      <td>0</td>\n",
       "    </tr>\n",
       "    <tr>\n",
       "      <th>1</th>\n",
       "      <td>-0.395095</td>\n",
       "      <td>-0.142713</td>\n",
       "      <td>0</td>\n",
       "      <td>0.025234</td>\n",
       "      <td>0.621206</td>\n",
       "      <td>0.667498</td>\n",
       "      <td>0</td>\n",
       "      <td>1</td>\n",
       "      <td>1</td>\n",
       "      <td>0</td>\n",
       "      <td>0</td>\n",
       "      <td>1</td>\n",
       "      <td>0</td>\n",
       "      <td>1</td>\n",
       "      <td>0</td>\n",
       "      <td>0</td>\n",
       "    </tr>\n",
       "    <tr>\n",
       "      <th>2</th>\n",
       "      <td>-1.588934</td>\n",
       "      <td>-1.185381</td>\n",
       "      <td>0</td>\n",
       "      <td>0.320722</td>\n",
       "      <td>0.201307</td>\n",
       "      <td>0.442182</td>\n",
       "      <td>0</td>\n",
       "      <td>1</td>\n",
       "      <td>1</td>\n",
       "      <td>0</td>\n",
       "      <td>0</td>\n",
       "      <td>1</td>\n",
       "      <td>0</td>\n",
       "      <td>1</td>\n",
       "      <td>0</td>\n",
       "      <td>0</td>\n",
       "    </tr>\n",
       "    <tr>\n",
       "      <th>3</th>\n",
       "      <td>0.798744</td>\n",
       "      <td>0.899954</td>\n",
       "      <td>1</td>\n",
       "      <td>-1.599951</td>\n",
       "      <td>-0.918422</td>\n",
       "      <td>-0.916612</td>\n",
       "      <td>0</td>\n",
       "      <td>1</td>\n",
       "      <td>1</td>\n",
       "      <td>0</td>\n",
       "      <td>0</td>\n",
       "      <td>1</td>\n",
       "      <td>0</td>\n",
       "      <td>1</td>\n",
       "      <td>0</td>\n",
       "      <td>0</td>\n",
       "    </tr>\n",
       "    <tr>\n",
       "      <th>4</th>\n",
       "      <td>0.798744</td>\n",
       "      <td>0.899954</td>\n",
       "      <td>1</td>\n",
       "      <td>-0.713487</td>\n",
       "      <td>0.411256</td>\n",
       "      <td>0.910383</td>\n",
       "      <td>0</td>\n",
       "      <td>1</td>\n",
       "      <td>0</td>\n",
       "      <td>1</td>\n",
       "      <td>0</td>\n",
       "      <td>1</td>\n",
       "      <td>0</td>\n",
       "      <td>1</td>\n",
       "      <td>0</td>\n",
       "      <td>0</td>\n",
       "    </tr>\n",
       "  </tbody>\n",
       "</table>\n",
       "</div>"
      ],
      "text/plain": [
       "   systolic pressure  diastolic pressure  cardio   age_yrs  weight_lbs  \\\n",
       "0           1.992582            0.899954       0  1.650418    0.691189   \n",
       "1          -0.395095           -0.142713       0  0.025234    0.621206   \n",
       "2          -1.588934           -1.185381       0  0.320722    0.201307   \n",
       "3           0.798744            0.899954       1 -1.599951   -0.918422   \n",
       "4           0.798744            0.899954       1 -0.713487    0.411256   \n",
       "\n",
       "        bmi  active_0  active_1  cholesterol_1  cholesterol_2  cholesterol_3  \\\n",
       "0  0.816713         0         1              1              0              0   \n",
       "1  0.667498         0         1              1              0              0   \n",
       "2  0.442182         0         1              1              0              0   \n",
       "3 -0.916612         0         1              1              0              0   \n",
       "4  0.910383         0         1              0              1              0   \n",
       "\n",
       "   gender_1  gender_2  gluc_1  gluc_2  gluc_3  \n",
       "0         0         1       1       0       0  \n",
       "1         1         0       1       0       0  \n",
       "2         1         0       1       0       0  \n",
       "3         1         0       1       0       0  \n",
       "4         1         0       1       0       0  "
      ]
     },
     "execution_count": 17,
     "metadata": {},
     "output_type": "execute_result"
    }
   ],
   "source": [
    "#Scaling continuous features using StandardScaler\n",
    "from sklearn.preprocessing import StandardScaler\n",
    "standardScaler = StandardScaler()\n",
    "columns_to_scale = ['age_yrs', 'bmi', 'weight_lbs', 'systolic pressure', 'diastolic pressure']\n",
    "dataset[columns_to_scale] = standardScaler.fit_transform(dataset[columns_to_scale])\n",
    "dataset.head()"
   ]
  },
  {
   "cell_type": "code",
   "execution_count": 20,
   "metadata": {},
   "outputs": [],
   "source": [
    "# #Scaling continuous features using MinMaxScaler\n",
    "# from sklearn.preprocessing import MinMaxScaler\n",
    "# minmaxscaler = MinMaxScaler()\n",
    "# columns_to_scale = ['age_yrs', 'bmi', 'weight_lbs', 'systolic pressure', 'diastolic pressure']\n",
    "# dataset[columns_to_scale]=minmaxscaler.fit_transform(columns_to_scale)\n",
    "# dataset.head()\n",
    "# from sklearn import preprocessing\n",
    "# scaler=preprocessing.MinMaxScaler()\n",
    "# dfscale=scaler.fit_transform(df)\n",
    "# dfscale2=pd.DataFrame(dfscale, columns=dfcol)\n",
    "# dfscale2.head()"
   ]
  },
  {
   "cell_type": "code",
   "execution_count": 18,
   "metadata": {},
   "outputs": [
    {
     "data": {
      "text/html": [
       "<div>\n",
       "<style scoped>\n",
       "    .dataframe tbody tr th:only-of-type {\n",
       "        vertical-align: middle;\n",
       "    }\n",
       "\n",
       "    .dataframe tbody tr th {\n",
       "        vertical-align: top;\n",
       "    }\n",
       "\n",
       "    .dataframe thead th {\n",
       "        text-align: right;\n",
       "    }\n",
       "</style>\n",
       "<table border=\"1\" class=\"dataframe\">\n",
       "  <thead>\n",
       "    <tr style=\"text-align: right;\">\n",
       "      <th></th>\n",
       "      <th>systolic pressure</th>\n",
       "      <th>diastolic pressure</th>\n",
       "      <th>age_yrs</th>\n",
       "      <th>weight_lbs</th>\n",
       "      <th>bmi</th>\n",
       "      <th>active_0</th>\n",
       "      <th>active_1</th>\n",
       "      <th>cholesterol_1</th>\n",
       "      <th>cholesterol_2</th>\n",
       "      <th>cholesterol_3</th>\n",
       "      <th>gender_1</th>\n",
       "      <th>gender_2</th>\n",
       "      <th>gluc_1</th>\n",
       "      <th>gluc_2</th>\n",
       "      <th>gluc_3</th>\n",
       "    </tr>\n",
       "  </thead>\n",
       "  <tbody>\n",
       "    <tr>\n",
       "      <th>0</th>\n",
       "      <td>1.992582</td>\n",
       "      <td>0.899954</td>\n",
       "      <td>1.650418</td>\n",
       "      <td>0.691189</td>\n",
       "      <td>0.816713</td>\n",
       "      <td>0</td>\n",
       "      <td>1</td>\n",
       "      <td>1</td>\n",
       "      <td>0</td>\n",
       "      <td>0</td>\n",
       "      <td>0</td>\n",
       "      <td>1</td>\n",
       "      <td>1</td>\n",
       "      <td>0</td>\n",
       "      <td>0</td>\n",
       "    </tr>\n",
       "    <tr>\n",
       "      <th>1</th>\n",
       "      <td>-0.395095</td>\n",
       "      <td>-0.142713</td>\n",
       "      <td>0.025234</td>\n",
       "      <td>0.621206</td>\n",
       "      <td>0.667498</td>\n",
       "      <td>0</td>\n",
       "      <td>1</td>\n",
       "      <td>1</td>\n",
       "      <td>0</td>\n",
       "      <td>0</td>\n",
       "      <td>1</td>\n",
       "      <td>0</td>\n",
       "      <td>1</td>\n",
       "      <td>0</td>\n",
       "      <td>0</td>\n",
       "    </tr>\n",
       "    <tr>\n",
       "      <th>2</th>\n",
       "      <td>-1.588934</td>\n",
       "      <td>-1.185381</td>\n",
       "      <td>0.320722</td>\n",
       "      <td>0.201307</td>\n",
       "      <td>0.442182</td>\n",
       "      <td>0</td>\n",
       "      <td>1</td>\n",
       "      <td>1</td>\n",
       "      <td>0</td>\n",
       "      <td>0</td>\n",
       "      <td>1</td>\n",
       "      <td>0</td>\n",
       "      <td>1</td>\n",
       "      <td>0</td>\n",
       "      <td>0</td>\n",
       "    </tr>\n",
       "    <tr>\n",
       "      <th>3</th>\n",
       "      <td>0.798744</td>\n",
       "      <td>0.899954</td>\n",
       "      <td>-1.599951</td>\n",
       "      <td>-0.918422</td>\n",
       "      <td>-0.916612</td>\n",
       "      <td>0</td>\n",
       "      <td>1</td>\n",
       "      <td>1</td>\n",
       "      <td>0</td>\n",
       "      <td>0</td>\n",
       "      <td>1</td>\n",
       "      <td>0</td>\n",
       "      <td>1</td>\n",
       "      <td>0</td>\n",
       "      <td>0</td>\n",
       "    </tr>\n",
       "    <tr>\n",
       "      <th>4</th>\n",
       "      <td>0.798744</td>\n",
       "      <td>0.899954</td>\n",
       "      <td>-0.713487</td>\n",
       "      <td>0.411256</td>\n",
       "      <td>0.910383</td>\n",
       "      <td>0</td>\n",
       "      <td>1</td>\n",
       "      <td>0</td>\n",
       "      <td>1</td>\n",
       "      <td>0</td>\n",
       "      <td>1</td>\n",
       "      <td>0</td>\n",
       "      <td>1</td>\n",
       "      <td>0</td>\n",
       "      <td>0</td>\n",
       "    </tr>\n",
       "  </tbody>\n",
       "</table>\n",
       "</div>"
      ],
      "text/plain": [
       "   systolic pressure  diastolic pressure   age_yrs  weight_lbs       bmi  \\\n",
       "0           1.992582            0.899954  1.650418    0.691189  0.816713   \n",
       "1          -0.395095           -0.142713  0.025234    0.621206  0.667498   \n",
       "2          -1.588934           -1.185381  0.320722    0.201307  0.442182   \n",
       "3           0.798744            0.899954 -1.599951   -0.918422 -0.916612   \n",
       "4           0.798744            0.899954 -0.713487    0.411256  0.910383   \n",
       "\n",
       "   active_0  active_1  cholesterol_1  cholesterol_2  cholesterol_3  gender_1  \\\n",
       "0         0         1              1              0              0         0   \n",
       "1         0         1              1              0              0         1   \n",
       "2         0         1              1              0              0         1   \n",
       "3         0         1              1              0              0         1   \n",
       "4         0         1              0              1              0         1   \n",
       "\n",
       "   gender_2  gluc_1  gluc_2  gluc_3  \n",
       "0         1       1       0       0  \n",
       "1         0       1       0       0  \n",
       "2         0       1       0       0  \n",
       "3         0       1       0       0  \n",
       "4         0       1       0       0  "
      ]
     },
     "execution_count": 18,
     "metadata": {},
     "output_type": "execute_result"
    }
   ],
   "source": [
    "target = dataset[\"cardio\"]\n",
    "data = dataset.drop(\"cardio\", axis=1)\n",
    "feature_names = data.columns\n",
    "data.head()"
   ]
  },
  {
   "cell_type": "code",
   "execution_count": 19,
   "metadata": {},
   "outputs": [
    {
     "name": "stdout",
     "output_type": "stream",
     "text": [
      "<class 'pandas.core.frame.DataFrame'>\n",
      "Int64Index: 51496 entries, 60797 to 15795\n",
      "Data columns (total 15 columns):\n",
      "systolic pressure     51496 non-null float64\n",
      "diastolic pressure    51496 non-null float64\n",
      "age_yrs               51496 non-null float64\n",
      "weight_lbs            51496 non-null float64\n",
      "bmi                   51496 non-null float64\n",
      "active_0              51496 non-null uint8\n",
      "active_1              51496 non-null uint8\n",
      "cholesterol_1         51496 non-null uint8\n",
      "cholesterol_2         51496 non-null uint8\n",
      "cholesterol_3         51496 non-null uint8\n",
      "gender_1              51496 non-null uint8\n",
      "gender_2              51496 non-null uint8\n",
      "gluc_1                51496 non-null uint8\n",
      "gluc_2                51496 non-null uint8\n",
      "gluc_3                51496 non-null uint8\n",
      "dtypes: float64(5), uint8(10)\n",
      "memory usage: 2.8 MB\n"
     ]
    },
    {
     "data": {
      "text/plain": [
       "systolic pressure     17166\n",
       "diastolic pressure    17166\n",
       "age_yrs               17166\n",
       "weight_lbs            17166\n",
       "bmi                   17166\n",
       "active_0              17166\n",
       "active_1              17166\n",
       "cholesterol_1         17166\n",
       "cholesterol_2         17166\n",
       "cholesterol_3         17166\n",
       "gender_1              17166\n",
       "gender_2              17166\n",
       "gluc_1                17166\n",
       "gluc_2                17166\n",
       "gluc_3                17166\n",
       "dtype: int64"
      ]
     },
     "execution_count": 19,
     "metadata": {},
     "output_type": "execute_result"
    }
   ],
   "source": [
    "from sklearn.model_selection import train_test_split\n",
    "X_train, X_test, y_train, y_test = train_test_split(data, target, random_state=42)\n",
    "X_train.info()\n",
    "X_test.count()"
   ]
  },
  {
   "cell_type": "code",
   "execution_count": 23,
   "metadata": {},
   "outputs": [
    {
     "name": "stdout",
     "output_type": "stream",
     "text": [
      "Percentage of data distribution in the train set:\n",
      "50.55\n",
      "49.45\n",
      "-------------------\n",
      "Percentage of data distribution in the test set:\n",
      "50.39\n",
      "49.61\n"
     ]
    }
   ],
   "source": [
    "# Check if the labels are well shuffled in train and test set, to avoid imbalanced data\n",
    "a,b=np.bincount(y_train)\n",
    "print(f\"Percentage of data distribution in the train set:\")\n",
    "print(round(a/(a+b)*100,2))\n",
    "print(round(b/(a+b)*100,2))\n",
    "print(\"-------------------\")\n",
    "x,y=np.bincount(y_test)\n",
    "print(f\"Percentage of data distribution in the test set:\")\n",
    "print(round(x/(x+y)*100,2))\n",
    "print(round(y/(x+y)*100,2))\n",
    "# np.bincount(y_test)"
   ]
  },
  {
   "cell_type": "code",
   "execution_count": 86,
   "metadata": {},
   "outputs": [],
   "source": [
    "# from sklearn.preprocessing import StandardScaler as ss\n",
    "# sc = ss()\n",
    "# X_train = sc.fit_transform(X_train)\n",
    "# X_test = sc.transform(X_test)\n",
    "\n"
   ]
  },
  {
   "cell_type": "markdown",
   "metadata": {},
   "source": [
    "## Applying Machine Learning Algorithms\n",
    "\n"
   ]
  },
  {
   "cell_type": "code",
   "execution_count": 20,
   "metadata": {},
   "outputs": [
    {
     "name": "stderr",
     "output_type": "stream",
     "text": [
      "Using TensorFlow backend.\n"
     ]
    }
   ],
   "source": [
    "from sklearn.linear_model import LogisticRegression\n",
    "from sklearn.neighbors import KNeighborsClassifier\n",
    "from sklearn.svm import SVC\n",
    "from sklearn.tree import DecisionTreeClassifier\n",
    "from sklearn.ensemble import RandomForestClassifier\n",
    "from keras.models import Sequential\n",
    "from keras.layers import Dense"
   ]
  },
  {
   "cell_type": "markdown",
   "metadata": {},
   "source": [
    "#### Logistic Regression"
   ]
  },
  {
   "cell_type": "code",
   "execution_count": 37,
   "metadata": {},
   "outputs": [
    {
     "data": {
      "text/plain": [
       "72.77"
      ]
     },
     "execution_count": 37,
     "metadata": {},
     "output_type": "execute_result"
    }
   ],
   "source": [
    "lg = LogisticRegression()\n",
    "# Create an instance of Logistic Regression Classifier and fit the data.\n",
    "lg.fit(X_train,y_train)\n",
    "lg_score=round(lg.score(X_train,y_train)*100,2)\n",
    "lg_score"
   ]
  },
  {
   "cell_type": "markdown",
   "metadata": {},
   "source": [
    "### K Neighbors Classifier\n",
    "The classification parameters are values of neighbors (k) and distance. Different values of neighbours will be used to check the best output score."
   ]
  },
  {
   "cell_type": "code",
   "execution_count": 38,
   "metadata": {},
   "outputs": [
    {
     "data": {
      "text/plain": [
       "[63.81, 64.57, 68.08, 67.97, 69.17, 69.78, 70.62, 70.76, 71.29]"
      ]
     },
     "execution_count": 38,
     "metadata": {},
     "output_type": "execute_result"
    }
   ],
   "source": [
    "#Hold the scores for various neighbors i.e. k in a list\n",
    "knn_scores = []\n",
    "for i in range(1,10):\n",
    "    knn_classifier = KNeighborsClassifier(n_neighbors = i)\n",
    "    knn_classifier.fit(X_train, y_train)\n",
    "    knn_scores.append(round(knn_classifier.score(X_test, y_test)*100,2))\n",
    "        \n",
    "knn_scores"
   ]
  },
  {
   "cell_type": "code",
   "execution_count": 79,
   "metadata": {},
   "outputs": [
    {
     "data": {
      "image/png": "[encoded data removed]",
      "text/plain": [
       "<Figure size 576x432 with 1 Axes>"
      ]
     },
     "metadata": {
      "needs_background": "light"
     },
     "output_type": "display_data"
    }
   ],
   "source": [
    "rcParams['figure.figsize'] = 8,6\n",
    "plt.plot([i for i in range(1, 20)], knn_scores, color = 'brown' )\n",
    "for i in range(1,20):\n",
    "    plt.text(i, knn_scores[i-1], (i, knn_scores[i-1]))\n",
    "#     plt.text(i, knn_scores[i-1])\n",
    "\n",
    "plt.xticks([i for i in range(1, 20)])\n",
    "plt.xlabel('Number of Neighbors (K)')\n",
    "plt.ylabel('Scores')\n",
    "plt.title('Classifier Scores For Different K Values');"
   ]
  },
  {
   "cell_type": "markdown",
   "metadata": {},
   "source": [
    "### Support Vector Classifier\n",
    "First testing all kernels. Second, select the best kernel and perform Hyperparameter Tuning "
   ]
  },
  {
   "cell_type": "code",
   "execution_count": 21,
   "metadata": {},
   "outputs": [
    {
     "data": {
      "text/plain": [
       "[72.64, 73.09, 73.35, 61.03]"
      ]
     },
     "execution_count": 21,
     "metadata": {},
     "output_type": "execute_result"
    }
   ],
   "source": [
    "svc_scores = []\n",
    "kernels = ['linear', 'poly', 'rbf', 'sigmoid']\n",
    "for i in range(len(kernels)):\n",
    "    svc_classifier = SVC(kernel = kernels[i])\n",
    "    svc_classifier.fit(X_train, y_train)\n",
    "    svc_scores.append(round(svc_classifier.score(X_test, y_test)*100,2))\n",
    "svc_scores"
   ]
  },
  {
   "cell_type": "code",
   "execution_count": 45,
   "metadata": {},
   "outputs": [
    {
     "data": {
      "image/png": "[encoded data removed]",
      "text/plain": [
       "<Figure size 576x432 with 1 Axes>"
      ]
     },
     "metadata": {
      "needs_background": "light"
     },
     "output_type": "display_data"
    }
   ],
   "source": [
    "rcParams['figure.figsize'] = 8,6\n",
    "colors = rainbow(np.linspace(0, 1, len(kernels)))\n",
    "plt.bar(kernels, svc_scores, color = colors)\n",
    "for i in range(len(kernels)):\n",
    "    plt.text(i, svc_scores[i], svc_scores[i])\n",
    "plt.xlabel('Kernels')\n",
    "plt.ylabel('Scores')\n",
    "plt.title('Support Vector Classifier scores for different kernels');"
   ]
  },
  {
   "cell_type": "code",
   "execution_count": 22,
   "metadata": {},
   "outputs": [
    {
     "name": "stdout",
     "output_type": "stream",
     "text": [
      "Fitting 5 folds for each of 16 candidates, totalling 80 fits\n",
      "[CV] C=1, gamma=0.0001 ...............................................\n"
     ]
    },
    {
     "name": "stderr",
     "output_type": "stream",
     "text": [
      "[Parallel(n_jobs=1)]: Using backend SequentialBackend with 1 concurrent workers.\n"
     ]
    },
    {
     "name": "stdout",
     "output_type": "stream",
     "text": [
      "[CV] ................... C=1, gamma=0.0001, score=0.725, total= 1.3min\n",
      "[CV] C=1, gamma=0.0001 ...............................................\n"
     ]
    },
    {
     "name": "stderr",
     "output_type": "stream",
     "text": [
      "[Parallel(n_jobs=1)]: Done   1 out of   1 | elapsed:  1.3min remaining:    0.0s\n"
     ]
    },
    {
     "name": "stdout",
     "output_type": "stream",
     "text": [
      "[CV] ................... C=1, gamma=0.0001, score=0.715, total= 1.3min\n",
      "[CV] C=1, gamma=0.0001 ...............................................\n"
     ]
    },
    {
     "name": "stderr",
     "output_type": "stream",
     "text": [
      "[Parallel(n_jobs=1)]: Done   2 out of   2 | elapsed:  2.5min remaining:    0.0s\n"
     ]
    },
    {
     "name": "stdout",
     "output_type": "stream",
     "text": [
      "[CV] ................... C=1, gamma=0.0001, score=0.721, total= 1.3min\n",
      "[CV] C=1, gamma=0.0001 ...............................................\n",
      "[CV] ................... C=1, gamma=0.0001, score=0.721, total= 1.2min\n",
      "[CV] C=1, gamma=0.0001 ...............................................\n",
      "[CV] ................... C=1, gamma=0.0001, score=0.727, total= 1.2min\n",
      "[CV] C=1, gamma=0.0005 ...............................................\n",
      "[CV] ................... C=1, gamma=0.0005, score=0.728, total= 1.2min\n",
      "[CV] C=1, gamma=0.0005 ...............................................\n",
      "[CV] ................... C=1, gamma=0.0005, score=0.715, total= 1.2min\n",
      "[CV] C=1, gamma=0.0005 ...............................................\n",
      "[CV] ................... C=1, gamma=0.0005, score=0.727, total= 1.3min\n",
      "[CV] C=1, gamma=0.0005 ...............................................\n",
      "[CV] ................... C=1, gamma=0.0005, score=0.725, total= 1.5min\n",
      "[CV] C=1, gamma=0.0005 ...............................................\n",
      "[CV] ................... C=1, gamma=0.0005, score=0.731, total= 1.3min\n",
      "[CV] C=1, gamma=0.001 ................................................\n",
      "[CV] .................... C=1, gamma=0.001, score=0.729, total= 1.1min\n",
      "[CV] C=1, gamma=0.001 ................................................\n",
      "[CV] .................... C=1, gamma=0.001, score=0.716, total= 1.1min\n",
      "[CV] C=1, gamma=0.001 ................................................\n",
      "[CV] .................... C=1, gamma=0.001, score=0.728, total= 1.1min\n",
      "[CV] C=1, gamma=0.001 ................................................\n",
      "[CV] .................... C=1, gamma=0.001, score=0.727, total= 1.1min\n",
      "[CV] C=1, gamma=0.001 ................................................\n",
      "[CV] .................... C=1, gamma=0.001, score=0.733, total= 1.1min\n",
      "[CV] C=1, gamma=0.005 ................................................\n",
      "[CV] .................... C=1, gamma=0.005, score=0.730, total= 1.1min\n",
      "[CV] C=1, gamma=0.005 ................................................\n",
      "[CV] .................... C=1, gamma=0.005, score=0.720, total= 1.1min\n",
      "[CV] C=1, gamma=0.005 ................................................\n",
      "[CV] .................... C=1, gamma=0.005, score=0.732, total= 1.1min\n",
      "[CV] C=1, gamma=0.005 ................................................\n",
      "[CV] .................... C=1, gamma=0.005, score=0.729, total= 1.2min\n",
      "[CV] C=1, gamma=0.005 ................................................\n",
      "[CV] .................... C=1, gamma=0.005, score=0.734, total= 1.2min\n",
      "[CV] C=5, gamma=0.0001 ...............................................\n",
      "[CV] ................... C=5, gamma=0.0001, score=0.727, total= 1.2min\n",
      "[CV] C=5, gamma=0.0001 ...............................................\n",
      "[CV] ................... C=5, gamma=0.0001, score=0.715, total= 1.1min\n",
      "[CV] C=5, gamma=0.0001 ...............................................\n",
      "[CV] ................... C=5, gamma=0.0001, score=0.726, total= 1.2min\n",
      "[CV] C=5, gamma=0.0001 ...............................................\n",
      "[CV] ................... C=5, gamma=0.0001, score=0.724, total= 1.2min\n",
      "[CV] C=5, gamma=0.0001 ...............................................\n",
      "[CV] ................... C=5, gamma=0.0001, score=0.731, total= 1.2min\n",
      "[CV] C=5, gamma=0.0005 ...............................................\n",
      "[CV] ................... C=5, gamma=0.0005, score=0.730, total= 1.1min\n",
      "[CV] C=5, gamma=0.0005 ...............................................\n",
      "[CV] ................... C=5, gamma=0.0005, score=0.716, total= 1.2min\n",
      "[CV] C=5, gamma=0.0005 ...............................................\n",
      "[CV] ................... C=5, gamma=0.0005, score=0.729, total= 1.1min\n",
      "[CV] C=5, gamma=0.0005 ...............................................\n",
      "[CV] ................... C=5, gamma=0.0005, score=0.727, total= 1.1min\n",
      "[CV] C=5, gamma=0.0005 ...............................................\n",
      "[CV] ................... C=5, gamma=0.0005, score=0.734, total= 1.2min\n",
      "[CV] C=5, gamma=0.001 ................................................\n",
      "[CV] .................... C=5, gamma=0.001, score=0.731, total= 1.1min\n",
      "[CV] C=5, gamma=0.001 ................................................\n",
      "[CV] .................... C=5, gamma=0.001, score=0.718, total= 1.1min\n",
      "[CV] C=5, gamma=0.001 ................................................\n",
      "[CV] .................... C=5, gamma=0.001, score=0.731, total= 1.2min\n",
      "[CV] C=5, gamma=0.001 ................................................\n",
      "[CV] .................... C=5, gamma=0.001, score=0.729, total= 1.1min\n",
      "[CV] C=5, gamma=0.001 ................................................\n",
      "[CV] .................... C=5, gamma=0.001, score=0.734, total= 1.2min\n",
      "[CV] C=5, gamma=0.005 ................................................\n",
      "[CV] .................... C=5, gamma=0.005, score=0.734, total= 1.1min\n",
      "[CV] C=5, gamma=0.005 ................................................\n",
      "[CV] .................... C=5, gamma=0.005, score=0.723, total= 1.1min\n",
      "[CV] C=5, gamma=0.005 ................................................\n",
      "[CV] .................... C=5, gamma=0.005, score=0.732, total= 1.1min\n",
      "[CV] C=5, gamma=0.005 ................................................\n",
      "[CV] .................... C=5, gamma=0.005, score=0.730, total= 1.5min\n",
      "[CV] C=5, gamma=0.005 ................................................\n",
      "[CV] .................... C=5, gamma=0.005, score=0.737, total= 1.4min\n",
      "[CV] C=10, gamma=0.0001 ..............................................\n",
      "[CV] .................. C=10, gamma=0.0001, score=0.728, total= 1.2min\n",
      "[CV] C=10, gamma=0.0001 ..............................................\n",
      "[CV] .................. C=10, gamma=0.0001, score=0.715, total= 1.2min\n",
      "[CV] C=10, gamma=0.0001 ..............................................\n",
      "[CV] .................. C=10, gamma=0.0001, score=0.727, total= 1.1min\n",
      "[CV] C=10, gamma=0.0001 ..............................................\n",
      "[CV] .................. C=10, gamma=0.0001, score=0.726, total= 1.1min\n",
      "[CV] C=10, gamma=0.0001 ..............................................\n",
      "[CV] .................. C=10, gamma=0.0001, score=0.732, total= 1.1min\n",
      "[CV] C=10, gamma=0.0005 ..............................................\n",
      "[CV] .................. C=10, gamma=0.0005, score=0.730, total= 1.1min\n",
      "[CV] C=10, gamma=0.0005 ..............................................\n",
      "[CV] .................. C=10, gamma=0.0005, score=0.717, total= 1.1min\n",
      "[CV] C=10, gamma=0.0005 ..............................................\n",
      "[CV] .................. C=10, gamma=0.0005, score=0.731, total= 1.2min\n",
      "[CV] C=10, gamma=0.0005 ..............................................\n",
      "[CV] .................. C=10, gamma=0.0005, score=0.728, total= 1.2min\n",
      "[CV] C=10, gamma=0.0005 ..............................................\n",
      "[CV] .................. C=10, gamma=0.0005, score=0.734, total= 1.3min\n",
      "[CV] C=10, gamma=0.001 ...............................................\n",
      "[CV] ................... C=10, gamma=0.001, score=0.730, total= 1.1min\n",
      "[CV] C=10, gamma=0.001 ...............................................\n",
      "[CV] ................... C=10, gamma=0.001, score=0.719, total= 1.2min\n",
      "[CV] C=10, gamma=0.001 ...............................................\n",
      "[CV] ................... C=10, gamma=0.001, score=0.731, total= 1.2min\n",
      "[CV] C=10, gamma=0.001 ...............................................\n",
      "[CV] ................... C=10, gamma=0.001, score=0.729, total= 1.2min\n",
      "[CV] C=10, gamma=0.001 ...............................................\n",
      "[CV] ................... C=10, gamma=0.001, score=0.735, total= 1.1min\n",
      "[CV] C=10, gamma=0.005 ...............................................\n",
      "[CV] ................... C=10, gamma=0.005, score=0.732, total= 1.1min\n",
      "[CV] C=10, gamma=0.005 ...............................................\n",
      "[CV] ................... C=10, gamma=0.005, score=0.724, total= 1.2min\n",
      "[CV] C=10, gamma=0.005 ...............................................\n",
      "[CV] ................... C=10, gamma=0.005, score=0.733, total= 1.2min\n",
      "[CV] C=10, gamma=0.005 ...............................................\n",
      "[CV] ................... C=10, gamma=0.005, score=0.730, total= 1.2min\n",
      "[CV] C=10, gamma=0.005 ...............................................\n",
      "[CV] ................... C=10, gamma=0.005, score=0.737, total= 1.1min\n",
      "[CV] C=50, gamma=0.0001 ..............................................\n"
     ]
    },
    {
     "name": "stdout",
     "output_type": "stream",
     "text": [
      "[CV] .................. C=50, gamma=0.0001, score=0.730, total= 1.2min\n",
      "[CV] C=50, gamma=0.0001 ..............................................\n",
      "[CV] .................. C=50, gamma=0.0001, score=0.715, total= 1.2min\n",
      "[CV] C=50, gamma=0.0001 ..............................................\n",
      "[CV] .................. C=50, gamma=0.0001, score=0.729, total= 1.1min\n",
      "[CV] C=50, gamma=0.0001 ..............................................\n",
      "[CV] .................. C=50, gamma=0.0001, score=0.726, total= 1.3min\n",
      "[CV] C=50, gamma=0.0001 ..............................................\n",
      "[CV] .................. C=50, gamma=0.0001, score=0.733, total= 1.2min\n",
      "[CV] C=50, gamma=0.0005 ..............................................\n",
      "[CV] .................. C=50, gamma=0.0005, score=0.730, total= 1.1min\n",
      "[CV] C=50, gamma=0.0005 ..............................................\n",
      "[CV] .................. C=50, gamma=0.0005, score=0.719, total= 1.2min\n",
      "[CV] C=50, gamma=0.0005 ..............................................\n",
      "[CV] .................. C=50, gamma=0.0005, score=0.731, total= 1.1min\n",
      "[CV] C=50, gamma=0.0005 ..............................................\n",
      "[CV] .................. C=50, gamma=0.0005, score=0.729, total= 1.2min\n",
      "[CV] C=50, gamma=0.0005 ..............................................\n",
      "[CV] .................. C=50, gamma=0.0005, score=0.734, total= 1.2min\n",
      "[CV] C=50, gamma=0.001 ...............................................\n",
      "[CV] ................... C=50, gamma=0.001, score=0.732, total= 1.2min\n",
      "[CV] C=50, gamma=0.001 ...............................................\n",
      "[CV] ................... C=50, gamma=0.001, score=0.722, total= 1.2min\n",
      "[CV] C=50, gamma=0.001 ...............................................\n",
      "[CV] ................... C=50, gamma=0.001, score=0.731, total= 1.1min\n",
      "[CV] C=50, gamma=0.001 ...............................................\n",
      "[CV] ................... C=50, gamma=0.001, score=0.729, total= 1.2min\n",
      "[CV] C=50, gamma=0.001 ...............................................\n",
      "[CV] ................... C=50, gamma=0.001, score=0.737, total= 1.2min\n",
      "[CV] C=50, gamma=0.005 ...............................................\n",
      "[CV] ................... C=50, gamma=0.005, score=0.730, total= 1.3min\n",
      "[CV] C=50, gamma=0.005 ...............................................\n",
      "[CV] ................... C=50, gamma=0.005, score=0.722, total= 1.4min\n",
      "[CV] C=50, gamma=0.005 ...............................................\n",
      "[CV] ................... C=50, gamma=0.005, score=0.733, total= 1.2min\n",
      "[CV] C=50, gamma=0.005 ...............................................\n",
      "[CV] ................... C=50, gamma=0.005, score=0.729, total= 1.4min\n",
      "[CV] C=50, gamma=0.005 ...............................................\n",
      "[CV] ................... C=50, gamma=0.005, score=0.735, total= 1.4min\n"
     ]
    },
    {
     "name": "stderr",
     "output_type": "stream",
     "text": [
      "[Parallel(n_jobs=1)]: Done  80 out of  80 | elapsed: 95.4min finished\n"
     ]
    },
    {
     "name": "stdout",
     "output_type": "stream",
     "text": [
      "time: 1581090845.0416598\n"
     ]
    }
   ],
   "source": [
    "from sklearn.model_selection import GridSearchCV\n",
    "from time import time\n",
    "start=time()\n",
    "model = SVC(kernel='rbf')\n",
    "param_grid = {'C': [1, 5, 10, 50],\n",
    "              'gamma': [0.0001, 0.0005, 0.001, 0.005]}\n",
    "grid = GridSearchCV(model, param_grid, verbose=3)\n",
    "# Train the model with GridSearch\n",
    "grid.fit(X_train, y_train)\n",
    "print(f\"time: {start}\")"
   ]
  },
  {
   "cell_type": "code",
   "execution_count": 23,
   "metadata": {},
   "outputs": [
    {
     "name": "stdout",
     "output_type": "stream",
     "text": [
      "{'C': 5, 'gamma': 0.005}\n",
      "0.7312800545250411\n"
     ]
    }
   ],
   "source": [
    "print(grid.best_params_)\n",
    "print(grid.best_score_)"
   ]
  },
  {
   "cell_type": "code",
   "execution_count": 24,
   "metadata": {},
   "outputs": [
    {
     "data": {
      "text/plain": [
       "0.7315713841851794"
      ]
     },
     "execution_count": 24,
     "metadata": {},
     "output_type": "execute_result"
    }
   ],
   "source": [
    "# Training score:\n",
    "grid.score(X_train, y_train)\n",
    "\n"
   ]
  },
  {
   "cell_type": "code",
   "execution_count": 25,
   "metadata": {},
   "outputs": [
    {
     "data": {
      "text/plain": [
       "0.7331935220785273"
      ]
     },
     "execution_count": 25,
     "metadata": {},
     "output_type": "execute_result"
    }
   ],
   "source": [
    "# Testing score:\n",
    "grid.score(X_test, y_test)"
   ]
  },
  {
   "cell_type": "code",
   "execution_count": 26,
   "metadata": {},
   "outputs": [
    {
     "name": "stdout",
     "output_type": "stream",
     "text": [
      "              precision    recall  f1-score   support\n",
      "\n",
      "           0       0.71      0.80      0.75      8650\n",
      "           1       0.77      0.66      0.71      8516\n",
      "\n",
      "    accuracy                           0.73     17166\n",
      "   macro avg       0.74      0.73      0.73     17166\n",
      "weighted avg       0.74      0.73      0.73     17166\n",
      "\n"
     ]
    }
   ],
   "source": [
    "# Print Classification Report.\n",
    "# Make prediction and save to variable for report.\n",
    "svc_predictions = grid.predict(X_test)\n",
    "from sklearn.metrics import classification_report\n",
    "print(classification_report(y_test, svc_predictions))"
   ]
  },
  {
   "cell_type": "markdown",
   "metadata": {},
   "source": [
    "#### Decision Tree Classifier\n",
    "\n",
    "Play around with `max_features` to see for best score. It determines how random each tree would be.Rule of thumb, for classification max_features=sqrt(n_features)"
   ]
  },
  {
   "cell_type": "code",
   "execution_count": 25,
   "metadata": {},
   "outputs": [
    {
     "data": {
      "text/plain": [
       "[63.91, 63.79, 63.96, 63.96]"
      ]
     },
     "execution_count": 25,
     "metadata": {},
     "output_type": "execute_result"
    }
   ],
   "source": [
    "DT_scores = []\n",
    "# since max_features is len(X.columns its sqrt will return floatingpoint which has to be typcast to int using the code below\n",
    "# int(np.ceil(np.sqrt(len(X.columns) + 1)))\n",
    "for i in range(1, int(np.ceil(np.sqrt(len(X.columns))))+1):\n",
    "    DT_classifier = DecisionTreeClassifier(max_features = i, random_state = 0)\n",
    "    DT_classifier.fit(X_train, y_train)\n",
    "    DT_scores.append(round(DT_classifier.score(X_test, y_test)*100,2))\n",
    "DT_scores"
   ]
  },
  {
   "cell_type": "markdown",
   "metadata": {},
   "source": [
    "#### Random Forest Classifier (Ensemble of Decision Tree)\n",
    "\n",
    "Creating models with varying number of estimators i.e. number of trees to be built."
   ]
  },
  {
   "cell_type": "code",
   "execution_count": 27,
   "metadata": {},
   "outputs": [],
   "source": [
    "rf_scores = []\n",
    "estimators = [10, 100, 200, 500, 700, 1000]\n",
    "for i in estimators:\n",
    "    rf_classifier = RandomForestClassifier(n_estimators = i, random_state = 0)\n",
    "    rf_classifier.fit(X_train, y_train)\n",
    "    rf_scores.append(round(rf_classifier.score(X_test, y_test)*100,2))"
   ]
  },
  {
   "cell_type": "code",
   "execution_count": 28,
   "metadata": {},
   "outputs": [
    {
     "data": {
      "image/png": "[encoded data removed]",
      "text/plain": [
       "<Figure size 576x432 with 1 Axes>"
      ]
     },
     "metadata": {
      "needs_background": "light"
     },
     "output_type": "display_data"
    }
   ],
   "source": [
    "colors = rainbow(np.linspace(0, 1, len(estimators)))\n",
    "plt.bar([i for i in range(len(estimators))], rf_scores, color = colors, width = 0.8)\n",
    "for i in range(len(estimators)):\n",
    "    plt.text(i, rf_scores[i], rf_scores[i])\n",
    "plt.xticks(ticks = [i for i in range(len(estimators))], labels = [str(estimator) for estimator in estimators])\n",
    "plt.xlabel('Number of estimators')\n",
    "plt.ylabel('Scores')\n",
    "plt.title('Random Forest Classifier scores for different number of estimators');"
   ]
  },
  {
   "cell_type": "code",
   "execution_count": null,
   "metadata": {},
   "outputs": [],
   "source": [
    "print(\"The score for Random Forest Classifier is {}% with {} estimators.\".format(rf_scores[2], [200, 700,1000]))"
   ]
  },
  {
   "cell_type": "code",
   "execution_count": 29,
   "metadata": {},
   "outputs": [
    {
     "name": "stdout",
     "output_type": "stream",
     "text": [
      "\n",
      "Accuracy for training set for Naive Bayes = 0.6721492931489824\n",
      "Accuracy for test set for Naive Bayes = 0.675696143539555\n"
     ]
    }
   ],
   "source": [
    "from sklearn.naive_bayes import GaussianNB\n",
    "NB_classifier = GaussianNB()\n",
    "NB_classifier.fit(X_train, y_train)\n",
    "\n",
    "\n",
    "# Predicting the Test set results\n",
    "y_pred = NB_classifier.predict(X_test)\n",
    "\n",
    "from sklearn.metrics import confusion_matrix\n",
    "cm_test = confusion_matrix(y_pred, y_test)\n",
    "\n",
    "y_pred_train = NB_classifier.predict(X_train)\n",
    "cm_train = confusion_matrix(y_pred_train, y_train)\n",
    "\n",
    "print()\n",
    "print('Accuracy for training set for Naive Bayes = {}'.format((cm_train[0][0] + cm_train[1][1])/len(y_train)))\n",
    "print('Accuracy for test set for Naive Bayes = {}'.format((cm_test[0][0] + cm_test[1][1])/len(y_test)))"
   ]
  },
  {
   "cell_type": "markdown",
   "metadata": {},
   "source": [
    "# Saving the best model"
   ]
  },
  {
   "cell_type": "code",
   "execution_count": 30,
   "metadata": {},
   "outputs": [
    {
     "data": {
      "text/plain": [
       "['svc_best_model_cardio.pkl']"
      ]
     },
     "execution_count": 30,
     "metadata": {},
     "output_type": "execute_result"
    }
   ],
   "source": [
    "#save best model (so far it is svc wth 73% score)\n",
    "from sklearn.externals import joblib\n",
    "svc_classifier = SVC(kernel = \"rbf\",C= 5, gamma = 0.005 )\n",
    "svc_best_model_cardio=svc_classifier.fit(X_train, y_train)\n",
    "joblib.dump(svc_best_model_cardio, 'svc_best_model_cardio.pkl')"
   ]
  },
  {
   "cell_type": "code",
   "execution_count": 31,
   "metadata": {},
   "outputs": [
    {
     "name": "stdout",
     "output_type": "stream",
     "text": [
      "0.7331935220785273\n"
     ]
    }
   ],
   "source": [
    "#load model and use\n",
    "loaded_model = joblib.load(open('svc_best_model_cardio.pkl', 'rb'))\n",
    "result = loaded_model.score(X_test, y_test)\n",
    "print(result)"
   ]
  },
  {
   "cell_type": "code",
   "execution_count": 39,
   "metadata": {},
   "outputs": [],
   "source": [
    "# loaded_model.predict(y_test)"
   ]
  }
 ],
 "metadata": {
  "kernelspec": {
   "display_name": "Python 3",
   "language": "python",
   "name": "python3"
  },
  "language_info": {
   "codemirror_mode": {
    "name": "ipython",
    "version": 3
   },
   "file_extension": ".py",
   "mimetype": "text/x-python",
   "name": "python",
   "nbconvert_exporter": "python",
   "pygments_lexer": "ipython3",
   "version": "3.7.4"
  }
 },
 "nbformat": 4,
 "nbformat_minor": 2
}
