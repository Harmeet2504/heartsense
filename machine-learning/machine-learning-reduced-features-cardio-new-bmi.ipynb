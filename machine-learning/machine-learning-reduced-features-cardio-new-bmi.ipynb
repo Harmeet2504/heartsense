{
 "cells": [
  {
   "cell_type": "code",
   "execution_count": 1,
   "metadata": {},
   "outputs": [
    {
     "name": "stdout",
     "output_type": "stream",
     "text": [
      "Welcome to\n",
      "      ____              __\n",
      "     / __/__  ___ _____/ /__\n",
      "    _\\ \\/ _ \\/ _ `/ __/  '_/\n",
      "   /__ / .__/\\_,_/_/ /_/\\_\\   version 2.4.4\n",
      "      /_/\n",
      "\n",
      "Using Python version 3.7.4 (default, Aug 13 2019 15:17:50)\n",
      "SparkSession available as 'spark'.\n"
     ]
    }
   ],
   "source": [
    "import pandas as pd\n",
    "import numpy as np\n",
    "import os\n",
    "import seaborn as sns\n",
    "import matplotlib.pyplot as plt\n",
    "%matplotlib inline\n",
    "import numpy as np\n",
    "from matplotlib import rcParams\n",
    "from matplotlib.cm import rainbow\n",
    "import warnings\n",
    "warnings.filterwarnings('ignore')\n",
    "exec(open(os.path.join(os.environ[\"SPARK_HOME\"], 'python/pyspark/shell.py')).read())"
   ]
  },
  {
   "cell_type": "code",
   "execution_count": 2,
   "metadata": {},
   "outputs": [],
   "source": [
    "import pyspark\n",
    "from pyspark.sql import SparkSession\n",
    "from pyspark import SparkFiles\n",
    "from pyspark.sql import DataFrameReader\n",
    "from pyspark.sql.functions import to_timestamp\n",
    "from pyspark.sql.functions import col\n",
    "from pyspark.sql.types import StructType, StructField, StringType, IntegerType\n",
    "from pyspark.sql.types import *"
   ]
  },
  {
   "cell_type": "code",
   "execution_count": 3,
   "metadata": {},
   "outputs": [],
   "source": [
    "spark = SparkSession \\\n",
    "    .builder \\\n",
    "    .appName('pyspark_demo_app') \\\n",
    "    .config('spark.driver.extraClassPath',\n",
    "            'postgresql-42.2.9') \\\n",
    "    .master(\"local[*]\") \\\n",
    "    .getOrCreate()"
   ]
  },
  {
   "cell_type": "code",
   "execution_count": 4,
   "metadata": {},
   "outputs": [],
   "source": [
    "# tips on jdbc ... https://sparkour.urizone.net/recipes/using-jdbc/#03\n",
    "# Load properties from file\n",
    "import json\n",
    "with open(\"../data-load/Resources/db-properties.json\") as propertyFile:\n",
    "    properties = json.load(propertyFile)\n",
    "\n",
    "dbMode = \"overwrite\"\n",
    "jdbc_url= properties[\"jdbcUrl\"]\n",
    "dbConfig = {\"user\": properties[\"user\"], \n",
    "          \"password\": properties[\"password\"], \n",
    "          \"driver\": properties[\"driver\"]\n",
    "         }"
   ]
  },
  {
   "cell_type": "code",
   "execution_count": 5,
   "metadata": {},
   "outputs": [
    {
     "name": "stdout",
     "output_type": "stream",
     "text": [
      "root\n",
      " |-- id: integer (nullable = true)\n",
      " |-- age: integer (nullable = true)\n",
      " |-- gender: integer (nullable = true)\n",
      " |-- height: integer (nullable = true)\n",
      " |-- weight: double (nullable = true)\n",
      " |-- ap_hi: integer (nullable = true)\n",
      " |-- ap_lo: integer (nullable = true)\n",
      " |-- cholesterol: integer (nullable = true)\n",
      " |-- gluc: integer (nullable = true)\n",
      " |-- smoke: integer (nullable = true)\n",
      " |-- alco: integer (nullable = true)\n",
      " |-- active: integer (nullable = true)\n",
      " |-- cardio: integer (nullable = true)\n",
      " |-- age_yrs: integer (nullable = true)\n",
      " |-- weight_lbs: decimal(38,18) (nullable = true)\n",
      " |-- height_inches: decimal(38,18) (nullable = true)\n",
      " |-- bmi: decimal(38,18) (nullable = true)\n",
      " |-- bmi_category: string (nullable = true)\n",
      "\n",
      "+-----+-----+------+------+------+-----+-----+-----------+----+-----+----+------+------+-------+--------------------+--------------------+--------------------+------------+\n",
      "|   id|  age|gender|height|weight|ap_hi|ap_lo|cholesterol|gluc|smoke|alco|active|cardio|age_yrs|          weight_lbs|       height_inches|                 bmi|bmi_category|\n",
      "+-----+-----+------+------+------+-----+-----+-----------+----+-----+----+------+------+-------+--------------------+--------------------+--------------------+------------+\n",
      "|54329|14395|     1|   158|  46.0|  110|   70|          1|   1|    0|   0|     1|     0|     39|101.4100000000000...|62.00000000000000...|18.43000000000000...| Underweight|\n",
      "|54400|20571|     2|   166|  48.0|  120|   90|          2|   1|    0|   0|     1|     0|     56|105.8200000000000...|65.00000000000000...|17.42000000000000...| Underweight|\n",
      "|14908|22007|     1|   162|  38.0|  100|   70|          1|   1|    0|   0|     1|     0|     60|83.78000000000000...|64.00000000000000...|14.48000000000000...| Underweight|\n",
      "|54860|18290|     2|   171|  51.0|  140|   80|          3|   1|    1|   1|     1|     1|     50|112.4400000000000...|67.00000000000000...|17.44000000000000...| Underweight|\n",
      "|54895|23113|     2|   167|  48.0|  140|   80|          1|   1|    0|   0|     1|     1|     63|105.8200000000000...|66.00000000000000...|17.21000000000000...| Underweight|\n",
      "+-----+-----+------+------+------+-----+-----+-----------+----+-----+----+------+------+-------+--------------------+--------------------+--------------------+------------+\n",
      "\n"
     ]
    }
   ],
   "source": [
    "entireDF = spark.read.jdbc(url=jdbc_url, table = 'heart_cardio_train', properties=dbConfig)\n",
    "entireDF.printSchema()\n",
    "entireDF.limit(5).show()"
   ]
  },
  {
   "cell_type": "code",
   "execution_count": 6,
   "metadata": {},
   "outputs": [
    {
     "data": {
      "text/html": [
       "<div>\n",
       "<style scoped>\n",
       "    .dataframe tbody tr th:only-of-type {\n",
       "        vertical-align: middle;\n",
       "    }\n",
       "\n",
       "    .dataframe tbody tr th {\n",
       "        vertical-align: top;\n",
       "    }\n",
       "\n",
       "    .dataframe thead th {\n",
       "        text-align: right;\n",
       "    }\n",
       "</style>\n",
       "<table border=\"1\" class=\"dataframe\">\n",
       "  <thead>\n",
       "    <tr style=\"text-align: right;\">\n",
       "      <th></th>\n",
       "      <th>id</th>\n",
       "      <th>age</th>\n",
       "      <th>gender</th>\n",
       "      <th>height</th>\n",
       "      <th>weight</th>\n",
       "      <th>ap_hi</th>\n",
       "      <th>ap_lo</th>\n",
       "      <th>cholesterol</th>\n",
       "      <th>gluc</th>\n",
       "      <th>smoke</th>\n",
       "      <th>alco</th>\n",
       "      <th>active</th>\n",
       "      <th>cardio</th>\n",
       "      <th>age_yrs</th>\n",
       "      <th>weight_lbs</th>\n",
       "      <th>height_inches</th>\n",
       "      <th>bmi</th>\n",
       "      <th>bmi_category</th>\n",
       "    </tr>\n",
       "  </thead>\n",
       "  <tbody>\n",
       "    <tr>\n",
       "      <th>0</th>\n",
       "      <td>54329</td>\n",
       "      <td>14395</td>\n",
       "      <td>1</td>\n",
       "      <td>158</td>\n",
       "      <td>46.0</td>\n",
       "      <td>110</td>\n",
       "      <td>70</td>\n",
       "      <td>1</td>\n",
       "      <td>1</td>\n",
       "      <td>0</td>\n",
       "      <td>0</td>\n",
       "      <td>1</td>\n",
       "      <td>0</td>\n",
       "      <td>39</td>\n",
       "      <td>101.410000000000000000</td>\n",
       "      <td>62.000000000000000000</td>\n",
       "      <td>18.430000000000000000</td>\n",
       "      <td>Underweight</td>\n",
       "    </tr>\n",
       "    <tr>\n",
       "      <th>1</th>\n",
       "      <td>54400</td>\n",
       "      <td>20571</td>\n",
       "      <td>2</td>\n",
       "      <td>166</td>\n",
       "      <td>48.0</td>\n",
       "      <td>120</td>\n",
       "      <td>90</td>\n",
       "      <td>2</td>\n",
       "      <td>1</td>\n",
       "      <td>0</td>\n",
       "      <td>0</td>\n",
       "      <td>1</td>\n",
       "      <td>0</td>\n",
       "      <td>56</td>\n",
       "      <td>105.820000000000000000</td>\n",
       "      <td>65.000000000000000000</td>\n",
       "      <td>17.420000000000000000</td>\n",
       "      <td>Underweight</td>\n",
       "    </tr>\n",
       "    <tr>\n",
       "      <th>2</th>\n",
       "      <td>14908</td>\n",
       "      <td>22007</td>\n",
       "      <td>1</td>\n",
       "      <td>162</td>\n",
       "      <td>38.0</td>\n",
       "      <td>100</td>\n",
       "      <td>70</td>\n",
       "      <td>1</td>\n",
       "      <td>1</td>\n",
       "      <td>0</td>\n",
       "      <td>0</td>\n",
       "      <td>1</td>\n",
       "      <td>0</td>\n",
       "      <td>60</td>\n",
       "      <td>83.780000000000000000</td>\n",
       "      <td>64.000000000000000000</td>\n",
       "      <td>14.480000000000000000</td>\n",
       "      <td>Underweight</td>\n",
       "    </tr>\n",
       "    <tr>\n",
       "      <th>3</th>\n",
       "      <td>54860</td>\n",
       "      <td>18290</td>\n",
       "      <td>2</td>\n",
       "      <td>171</td>\n",
       "      <td>51.0</td>\n",
       "      <td>140</td>\n",
       "      <td>80</td>\n",
       "      <td>3</td>\n",
       "      <td>1</td>\n",
       "      <td>1</td>\n",
       "      <td>1</td>\n",
       "      <td>1</td>\n",
       "      <td>1</td>\n",
       "      <td>50</td>\n",
       "      <td>112.440000000000000000</td>\n",
       "      <td>67.000000000000000000</td>\n",
       "      <td>17.440000000000000000</td>\n",
       "      <td>Underweight</td>\n",
       "    </tr>\n",
       "    <tr>\n",
       "      <th>4</th>\n",
       "      <td>54895</td>\n",
       "      <td>23113</td>\n",
       "      <td>2</td>\n",
       "      <td>167</td>\n",
       "      <td>48.0</td>\n",
       "      <td>140</td>\n",
       "      <td>80</td>\n",
       "      <td>1</td>\n",
       "      <td>1</td>\n",
       "      <td>0</td>\n",
       "      <td>0</td>\n",
       "      <td>1</td>\n",
       "      <td>1</td>\n",
       "      <td>63</td>\n",
       "      <td>105.820000000000000000</td>\n",
       "      <td>66.000000000000000000</td>\n",
       "      <td>17.210000000000000000</td>\n",
       "      <td>Underweight</td>\n",
       "    </tr>\n",
       "  </tbody>\n",
       "</table>\n",
       "</div>"
      ],
      "text/plain": [
       "      id    age  gender  height  weight  ap_hi  ap_lo  cholesterol  gluc  \\\n",
       "0  54329  14395       1     158    46.0    110     70            1     1   \n",
       "1  54400  20571       2     166    48.0    120     90            2     1   \n",
       "2  14908  22007       1     162    38.0    100     70            1     1   \n",
       "3  54860  18290       2     171    51.0    140     80            3     1   \n",
       "4  54895  23113       2     167    48.0    140     80            1     1   \n",
       "\n",
       "   smoke  alco  active  cardio  age_yrs              weight_lbs  \\\n",
       "0      0     0       1       0       39  101.410000000000000000   \n",
       "1      0     0       1       0       56  105.820000000000000000   \n",
       "2      0     0       1       0       60   83.780000000000000000   \n",
       "3      1     1       1       1       50  112.440000000000000000   \n",
       "4      0     0       1       1       63  105.820000000000000000   \n",
       "\n",
       "           height_inches                    bmi bmi_category  \n",
       "0  62.000000000000000000  18.430000000000000000  Underweight  \n",
       "1  65.000000000000000000  17.420000000000000000  Underweight  \n",
       "2  64.000000000000000000  14.480000000000000000  Underweight  \n",
       "3  67.000000000000000000  17.440000000000000000  Underweight  \n",
       "4  66.000000000000000000  17.210000000000000000  Underweight  "
      ]
     },
     "execution_count": 6,
     "metadata": {},
     "output_type": "execute_result"
    }
   ],
   "source": [
    "#convert to pandas df\n",
    "heart_cardio = entireDF.select(\"*\").toPandas()\n",
    "heart_cardio.head()"
   ]
  },
  {
   "cell_type": "code",
   "execution_count": 7,
   "metadata": {},
   "outputs": [
    {
     "name": "stdout",
     "output_type": "stream",
     "text": [
      "There is 0 duplicated values in data frame\n"
     ]
    }
   ],
   "source": [
    "#Check duplicate values\n",
    "print(\"There is {} duplicated values in data frame\".format(heart_cardio.duplicated().sum()))\n"
   ]
  },
  {
   "cell_type": "code",
   "execution_count": 8,
   "metadata": {},
   "outputs": [
    {
     "name": "stdout",
     "output_type": "stream",
     "text": [
      "There is 0 duplicated values in data frame\n"
     ]
    }
   ],
   "source": [
    "#Drop duplicate values\n",
    "heart_cardio.drop_duplicates(inplace=True)\n",
    "print(\"There is {} duplicated values in data frame\".format(heart_cardio.duplicated().sum()))"
   ]
  },
  {
   "cell_type": "markdown",
   "metadata": {},
   "source": [
    "## Drop duplicate columns that are in different units"
   ]
  },
  {
   "cell_type": "code",
   "execution_count": 9,
   "metadata": {},
   "outputs": [
    {
     "data": {
      "text/html": [
       "<div>\n",
       "<style scoped>\n",
       "    .dataframe tbody tr th:only-of-type {\n",
       "        vertical-align: middle;\n",
       "    }\n",
       "\n",
       "    .dataframe tbody tr th {\n",
       "        vertical-align: top;\n",
       "    }\n",
       "\n",
       "    .dataframe thead th {\n",
       "        text-align: right;\n",
       "    }\n",
       "</style>\n",
       "<table border=\"1\" class=\"dataframe\">\n",
       "  <thead>\n",
       "    <tr style=\"text-align: right;\">\n",
       "      <th></th>\n",
       "      <th>gender</th>\n",
       "      <th>ap_hi</th>\n",
       "      <th>ap_lo</th>\n",
       "      <th>cholesterol</th>\n",
       "      <th>gluc</th>\n",
       "      <th>smoke</th>\n",
       "      <th>alco</th>\n",
       "      <th>active</th>\n",
       "      <th>cardio</th>\n",
       "      <th>age_yrs</th>\n",
       "      <th>weight_lbs</th>\n",
       "      <th>height_inches</th>\n",
       "      <th>bmi</th>\n",
       "    </tr>\n",
       "  </thead>\n",
       "  <tbody>\n",
       "    <tr>\n",
       "      <th>0</th>\n",
       "      <td>1</td>\n",
       "      <td>110</td>\n",
       "      <td>70</td>\n",
       "      <td>1</td>\n",
       "      <td>1</td>\n",
       "      <td>0</td>\n",
       "      <td>0</td>\n",
       "      <td>1</td>\n",
       "      <td>0</td>\n",
       "      <td>39</td>\n",
       "      <td>101.410000000000000000</td>\n",
       "      <td>62.000000000000000000</td>\n",
       "      <td>18.430000000000000000</td>\n",
       "    </tr>\n",
       "    <tr>\n",
       "      <th>1</th>\n",
       "      <td>2</td>\n",
       "      <td>120</td>\n",
       "      <td>90</td>\n",
       "      <td>2</td>\n",
       "      <td>1</td>\n",
       "      <td>0</td>\n",
       "      <td>0</td>\n",
       "      <td>1</td>\n",
       "      <td>0</td>\n",
       "      <td>56</td>\n",
       "      <td>105.820000000000000000</td>\n",
       "      <td>65.000000000000000000</td>\n",
       "      <td>17.420000000000000000</td>\n",
       "    </tr>\n",
       "    <tr>\n",
       "      <th>2</th>\n",
       "      <td>1</td>\n",
       "      <td>100</td>\n",
       "      <td>70</td>\n",
       "      <td>1</td>\n",
       "      <td>1</td>\n",
       "      <td>0</td>\n",
       "      <td>0</td>\n",
       "      <td>1</td>\n",
       "      <td>0</td>\n",
       "      <td>60</td>\n",
       "      <td>83.780000000000000000</td>\n",
       "      <td>64.000000000000000000</td>\n",
       "      <td>14.480000000000000000</td>\n",
       "    </tr>\n",
       "    <tr>\n",
       "      <th>3</th>\n",
       "      <td>2</td>\n",
       "      <td>140</td>\n",
       "      <td>80</td>\n",
       "      <td>3</td>\n",
       "      <td>1</td>\n",
       "      <td>1</td>\n",
       "      <td>1</td>\n",
       "      <td>1</td>\n",
       "      <td>1</td>\n",
       "      <td>50</td>\n",
       "      <td>112.440000000000000000</td>\n",
       "      <td>67.000000000000000000</td>\n",
       "      <td>17.440000000000000000</td>\n",
       "    </tr>\n",
       "    <tr>\n",
       "      <th>4</th>\n",
       "      <td>2</td>\n",
       "      <td>140</td>\n",
       "      <td>80</td>\n",
       "      <td>1</td>\n",
       "      <td>1</td>\n",
       "      <td>0</td>\n",
       "      <td>0</td>\n",
       "      <td>1</td>\n",
       "      <td>1</td>\n",
       "      <td>63</td>\n",
       "      <td>105.820000000000000000</td>\n",
       "      <td>66.000000000000000000</td>\n",
       "      <td>17.210000000000000000</td>\n",
       "    </tr>\n",
       "  </tbody>\n",
       "</table>\n",
       "</div>"
      ],
      "text/plain": [
       "   gender  ap_hi  ap_lo  cholesterol  gluc  smoke  alco  active  cardio  \\\n",
       "0       1    110     70            1     1      0     0       1       0   \n",
       "1       2    120     90            2     1      0     0       1       0   \n",
       "2       1    100     70            1     1      0     0       1       0   \n",
       "3       2    140     80            3     1      1     1       1       1   \n",
       "4       2    140     80            1     1      0     0       1       1   \n",
       "\n",
       "   age_yrs              weight_lbs          height_inches  \\\n",
       "0       39  101.410000000000000000  62.000000000000000000   \n",
       "1       56  105.820000000000000000  65.000000000000000000   \n",
       "2       60   83.780000000000000000  64.000000000000000000   \n",
       "3       50  112.440000000000000000  67.000000000000000000   \n",
       "4       63  105.820000000000000000  66.000000000000000000   \n",
       "\n",
       "                     bmi  \n",
       "0  18.430000000000000000  \n",
       "1  17.420000000000000000  \n",
       "2  14.480000000000000000  \n",
       "3  17.440000000000000000  \n",
       "4  17.210000000000000000  "
      ]
     },
     "execution_count": 9,
     "metadata": {},
     "output_type": "execute_result"
    }
   ],
   "source": [
    "heart_cardio=heart_cardio.drop(columns=['id','age', 'height','weight', 'bmi_category'], axis=1)\n",
    "heart_cardio.head()"
   ]
  },
  {
   "cell_type": "code",
   "execution_count": 10,
   "metadata": {},
   "outputs": [
    {
     "data": {
      "text/html": [
       "<div>\n",
       "<style scoped>\n",
       "    .dataframe tbody tr th:only-of-type {\n",
       "        vertical-align: middle;\n",
       "    }\n",
       "\n",
       "    .dataframe tbody tr th {\n",
       "        vertical-align: top;\n",
       "    }\n",
       "\n",
       "    .dataframe thead th {\n",
       "        text-align: right;\n",
       "    }\n",
       "</style>\n",
       "<table border=\"1\" class=\"dataframe\">\n",
       "  <thead>\n",
       "    <tr style=\"text-align: right;\">\n",
       "      <th></th>\n",
       "      <th>gender</th>\n",
       "      <th>systolic pressure</th>\n",
       "      <th>diastolic pressure</th>\n",
       "      <th>cholesterol</th>\n",
       "      <th>gluc</th>\n",
       "      <th>smoke</th>\n",
       "      <th>alcohol</th>\n",
       "      <th>active</th>\n",
       "      <th>cardio</th>\n",
       "      <th>age_yrs</th>\n",
       "      <th>weight_lbs</th>\n",
       "      <th>height_inches</th>\n",
       "      <th>bmi</th>\n",
       "    </tr>\n",
       "  </thead>\n",
       "  <tbody>\n",
       "    <tr>\n",
       "      <th>0</th>\n",
       "      <td>1</td>\n",
       "      <td>110</td>\n",
       "      <td>70</td>\n",
       "      <td>1</td>\n",
       "      <td>1</td>\n",
       "      <td>0</td>\n",
       "      <td>0</td>\n",
       "      <td>1</td>\n",
       "      <td>0</td>\n",
       "      <td>39</td>\n",
       "      <td>101.410000000000000000</td>\n",
       "      <td>62.000000000000000000</td>\n",
       "      <td>18.430000000000000000</td>\n",
       "    </tr>\n",
       "    <tr>\n",
       "      <th>1</th>\n",
       "      <td>2</td>\n",
       "      <td>120</td>\n",
       "      <td>90</td>\n",
       "      <td>2</td>\n",
       "      <td>1</td>\n",
       "      <td>0</td>\n",
       "      <td>0</td>\n",
       "      <td>1</td>\n",
       "      <td>0</td>\n",
       "      <td>56</td>\n",
       "      <td>105.820000000000000000</td>\n",
       "      <td>65.000000000000000000</td>\n",
       "      <td>17.420000000000000000</td>\n",
       "    </tr>\n",
       "    <tr>\n",
       "      <th>2</th>\n",
       "      <td>1</td>\n",
       "      <td>100</td>\n",
       "      <td>70</td>\n",
       "      <td>1</td>\n",
       "      <td>1</td>\n",
       "      <td>0</td>\n",
       "      <td>0</td>\n",
       "      <td>1</td>\n",
       "      <td>0</td>\n",
       "      <td>60</td>\n",
       "      <td>83.780000000000000000</td>\n",
       "      <td>64.000000000000000000</td>\n",
       "      <td>14.480000000000000000</td>\n",
       "    </tr>\n",
       "    <tr>\n",
       "      <th>3</th>\n",
       "      <td>2</td>\n",
       "      <td>140</td>\n",
       "      <td>80</td>\n",
       "      <td>3</td>\n",
       "      <td>1</td>\n",
       "      <td>1</td>\n",
       "      <td>1</td>\n",
       "      <td>1</td>\n",
       "      <td>1</td>\n",
       "      <td>50</td>\n",
       "      <td>112.440000000000000000</td>\n",
       "      <td>67.000000000000000000</td>\n",
       "      <td>17.440000000000000000</td>\n",
       "    </tr>\n",
       "    <tr>\n",
       "      <th>4</th>\n",
       "      <td>2</td>\n",
       "      <td>140</td>\n",
       "      <td>80</td>\n",
       "      <td>1</td>\n",
       "      <td>1</td>\n",
       "      <td>0</td>\n",
       "      <td>0</td>\n",
       "      <td>1</td>\n",
       "      <td>1</td>\n",
       "      <td>63</td>\n",
       "      <td>105.820000000000000000</td>\n",
       "      <td>66.000000000000000000</td>\n",
       "      <td>17.210000000000000000</td>\n",
       "    </tr>\n",
       "  </tbody>\n",
       "</table>\n",
       "</div>"
      ],
      "text/plain": [
       "   gender  systolic pressure  diastolic pressure  cholesterol  gluc  smoke  \\\n",
       "0       1                110                  70            1     1      0   \n",
       "1       2                120                  90            2     1      0   \n",
       "2       1                100                  70            1     1      0   \n",
       "3       2                140                  80            3     1      1   \n",
       "4       2                140                  80            1     1      0   \n",
       "\n",
       "   alcohol  active  cardio  age_yrs              weight_lbs  \\\n",
       "0        0       1       0       39  101.410000000000000000   \n",
       "1        0       1       0       56  105.820000000000000000   \n",
       "2        0       1       0       60   83.780000000000000000   \n",
       "3        1       1       1       50  112.440000000000000000   \n",
       "4        0       1       1       63  105.820000000000000000   \n",
       "\n",
       "           height_inches                    bmi  \n",
       "0  62.000000000000000000  18.430000000000000000  \n",
       "1  65.000000000000000000  17.420000000000000000  \n",
       "2  64.000000000000000000  14.480000000000000000  \n",
       "3  67.000000000000000000  17.440000000000000000  \n",
       "4  66.000000000000000000  17.210000000000000000  "
      ]
     },
     "execution_count": 10,
     "metadata": {},
     "output_type": "execute_result"
    }
   ],
   "source": [
    "#Rename columns\n",
    "heart_cardio=heart_cardio.rename(columns={\"ap_hi\": \"systolic pressure\", \"ap_lo\": \"diastolic pressure\", \"alco\": \"alcohol\"})\n",
    "heart_cardio.head()"
   ]
  },
  {
   "cell_type": "markdown",
   "metadata": {},
   "source": [
    "# Data-preprocessing"
   ]
  },
  {
   "cell_type": "code",
   "execution_count": 11,
   "metadata": {},
   "outputs": [
    {
     "name": "stdout",
     "output_type": "stream",
     "text": [
      "<class 'pandas.core.frame.DataFrame'>\n",
      "Int64Index: 68638 entries, 0 to 68637\n",
      "Data columns (total 13 columns):\n",
      "gender                68638 non-null int32\n",
      "systolic pressure     68638 non-null int32\n",
      "diastolic pressure    68638 non-null int32\n",
      "cholesterol           68638 non-null int32\n",
      "gluc                  68638 non-null int32\n",
      "smoke                 68638 non-null int32\n",
      "alcohol               68638 non-null int32\n",
      "active                68638 non-null int32\n",
      "cardio                68638 non-null int32\n",
      "age_yrs               68638 non-null int32\n",
      "weight_lbs            68638 non-null object\n",
      "height_inches         68638 non-null object\n",
      "bmi                   68638 non-null object\n",
      "dtypes: int32(10), object(3)\n",
      "memory usage: 4.7+ MB\n"
     ]
    }
   ],
   "source": [
    "heart_cardio.info()"
   ]
  },
  {
   "cell_type": "code",
   "execution_count": 12,
   "metadata": {},
   "outputs": [
    {
     "name": "stdout",
     "output_type": "stream",
     "text": [
      "<class 'pandas.core.frame.DataFrame'>\n",
      "Int64Index: 68638 entries, 0 to 68637\n",
      "Data columns (total 13 columns):\n",
      "gender                68638 non-null int32\n",
      "systolic pressure     68638 non-null int32\n",
      "diastolic pressure    68638 non-null int32\n",
      "cholesterol           68638 non-null int32\n",
      "gluc                  68638 non-null int32\n",
      "smoke                 68638 non-null int32\n",
      "alcohol               68638 non-null int32\n",
      "active                68638 non-null int32\n",
      "cardio                68638 non-null int32\n",
      "age_yrs               68638 non-null int32\n",
      "weight_lbs            68638 non-null int64\n",
      "height_inches         68638 non-null int64\n",
      "bmi                   68638 non-null int64\n",
      "dtypes: int32(10), int64(3)\n",
      "memory usage: 4.7 MB\n"
     ]
    }
   ],
   "source": [
    "#Change object types to int types\n",
    "heart_cardio['weight_lbs']=heart_cardio['weight_lbs'].astype(int)\n",
    "heart_cardio['height_inches']=heart_cardio['height_inches'].astype(int)\n",
    "heart_cardio['bmi']=heart_cardio['bmi'].astype(int)\n",
    "heart_cardio.info()"
   ]
  },
  {
   "cell_type": "markdown",
   "metadata": {},
   "source": [
    "## Exploratory Data Analysis"
   ]
  },
  {
   "cell_type": "code",
   "execution_count": 13,
   "metadata": {},
   "outputs": [
    {
     "data": {
      "text/html": [
       "<div>\n",
       "<style scoped>\n",
       "    .dataframe tbody tr th:only-of-type {\n",
       "        vertical-align: middle;\n",
       "    }\n",
       "\n",
       "    .dataframe tbody tr th {\n",
       "        vertical-align: top;\n",
       "    }\n",
       "\n",
       "    .dataframe thead th {\n",
       "        text-align: right;\n",
       "    }\n",
       "</style>\n",
       "<table border=\"1\" class=\"dataframe\">\n",
       "  <thead>\n",
       "    <tr style=\"text-align: right;\">\n",
       "      <th></th>\n",
       "      <th>gender</th>\n",
       "      <th>systolic pressure</th>\n",
       "      <th>diastolic pressure</th>\n",
       "      <th>cholesterol</th>\n",
       "      <th>gluc</th>\n",
       "      <th>smoke</th>\n",
       "      <th>alcohol</th>\n",
       "      <th>active</th>\n",
       "      <th>cardio</th>\n",
       "      <th>age_yrs</th>\n",
       "      <th>weight_lbs</th>\n",
       "      <th>height_inches</th>\n",
       "      <th>bmi</th>\n",
       "    </tr>\n",
       "  </thead>\n",
       "  <tbody>\n",
       "    <tr>\n",
       "      <th>count</th>\n",
       "      <td>68638.000000</td>\n",
       "      <td>68638.000000</td>\n",
       "      <td>68638.000000</td>\n",
       "      <td>68638.000000</td>\n",
       "      <td>68638.000000</td>\n",
       "      <td>68638.000000</td>\n",
       "      <td>68638.000000</td>\n",
       "      <td>68638.000000</td>\n",
       "      <td>68638.000000</td>\n",
       "      <td>68638.000000</td>\n",
       "      <td>68638.000000</td>\n",
       "      <td>68638.000000</td>\n",
       "      <td>68638.000000</td>\n",
       "    </tr>\n",
       "    <tr>\n",
       "      <th>mean</th>\n",
       "      <td>1.348845</td>\n",
       "      <td>126.621361</td>\n",
       "      <td>81.369358</td>\n",
       "      <td>1.365002</td>\n",
       "      <td>1.226085</td>\n",
       "      <td>0.088085</td>\n",
       "      <td>0.053644</td>\n",
       "      <td>0.803447</td>\n",
       "      <td>0.494974</td>\n",
       "      <td>52.829409</td>\n",
       "      <td>162.933783</td>\n",
       "      <td>64.773216</td>\n",
       "      <td>26.962237</td>\n",
       "    </tr>\n",
       "    <tr>\n",
       "      <th>std</th>\n",
       "      <td>0.476608</td>\n",
       "      <td>16.755176</td>\n",
       "      <td>9.592397</td>\n",
       "      <td>0.679173</td>\n",
       "      <td>0.572060</td>\n",
       "      <td>0.283421</td>\n",
       "      <td>0.225315</td>\n",
       "      <td>0.397394</td>\n",
       "      <td>0.499978</td>\n",
       "      <td>6.768847</td>\n",
       "      <td>31.500576</td>\n",
       "      <td>3.140108</td>\n",
       "      <td>5.235715</td>\n",
       "    </tr>\n",
       "    <tr>\n",
       "      <th>min</th>\n",
       "      <td>1.000000</td>\n",
       "      <td>70.000000</td>\n",
       "      <td>40.000000</td>\n",
       "      <td>1.000000</td>\n",
       "      <td>1.000000</td>\n",
       "      <td>0.000000</td>\n",
       "      <td>0.000000</td>\n",
       "      <td>0.000000</td>\n",
       "      <td>0.000000</td>\n",
       "      <td>29.000000</td>\n",
       "      <td>77.000000</td>\n",
       "      <td>48.000000</td>\n",
       "      <td>12.000000</td>\n",
       "    </tr>\n",
       "    <tr>\n",
       "      <th>25%</th>\n",
       "      <td>1.000000</td>\n",
       "      <td>120.000000</td>\n",
       "      <td>80.000000</td>\n",
       "      <td>1.000000</td>\n",
       "      <td>1.000000</td>\n",
       "      <td>0.000000</td>\n",
       "      <td>0.000000</td>\n",
       "      <td>1.000000</td>\n",
       "      <td>0.000000</td>\n",
       "      <td>48.000000</td>\n",
       "      <td>143.000000</td>\n",
       "      <td>63.000000</td>\n",
       "      <td>23.000000</td>\n",
       "    </tr>\n",
       "    <tr>\n",
       "      <th>50%</th>\n",
       "      <td>1.000000</td>\n",
       "      <td>120.000000</td>\n",
       "      <td>80.000000</td>\n",
       "      <td>1.000000</td>\n",
       "      <td>1.000000</td>\n",
       "      <td>0.000000</td>\n",
       "      <td>0.000000</td>\n",
       "      <td>1.000000</td>\n",
       "      <td>0.000000</td>\n",
       "      <td>53.000000</td>\n",
       "      <td>158.000000</td>\n",
       "      <td>65.000000</td>\n",
       "      <td>26.000000</td>\n",
       "    </tr>\n",
       "    <tr>\n",
       "      <th>75%</th>\n",
       "      <td>2.000000</td>\n",
       "      <td>140.000000</td>\n",
       "      <td>90.000000</td>\n",
       "      <td>2.000000</td>\n",
       "      <td>1.000000</td>\n",
       "      <td>0.000000</td>\n",
       "      <td>0.000000</td>\n",
       "      <td>1.000000</td>\n",
       "      <td>1.000000</td>\n",
       "      <td>58.000000</td>\n",
       "      <td>180.000000</td>\n",
       "      <td>67.000000</td>\n",
       "      <td>30.000000</td>\n",
       "    </tr>\n",
       "    <tr>\n",
       "      <th>max</th>\n",
       "      <td>2.000000</td>\n",
       "      <td>240.000000</td>\n",
       "      <td>160.000000</td>\n",
       "      <td>3.000000</td>\n",
       "      <td>3.000000</td>\n",
       "      <td>1.000000</td>\n",
       "      <td>1.000000</td>\n",
       "      <td>1.000000</td>\n",
       "      <td>1.000000</td>\n",
       "      <td>64.000000</td>\n",
       "      <td>440.000000</td>\n",
       "      <td>81.000000</td>\n",
       "      <td>108.000000</td>\n",
       "    </tr>\n",
       "  </tbody>\n",
       "</table>\n",
       "</div>"
      ],
      "text/plain": [
       "             gender  systolic pressure  diastolic pressure   cholesterol  \\\n",
       "count  68638.000000       68638.000000        68638.000000  68638.000000   \n",
       "mean       1.348845         126.621361           81.369358      1.365002   \n",
       "std        0.476608          16.755176            9.592397      0.679173   \n",
       "min        1.000000          70.000000           40.000000      1.000000   \n",
       "25%        1.000000         120.000000           80.000000      1.000000   \n",
       "50%        1.000000         120.000000           80.000000      1.000000   \n",
       "75%        2.000000         140.000000           90.000000      2.000000   \n",
       "max        2.000000         240.000000          160.000000      3.000000   \n",
       "\n",
       "               gluc         smoke       alcohol        active        cardio  \\\n",
       "count  68638.000000  68638.000000  68638.000000  68638.000000  68638.000000   \n",
       "mean       1.226085      0.088085      0.053644      0.803447      0.494974   \n",
       "std        0.572060      0.283421      0.225315      0.397394      0.499978   \n",
       "min        1.000000      0.000000      0.000000      0.000000      0.000000   \n",
       "25%        1.000000      0.000000      0.000000      1.000000      0.000000   \n",
       "50%        1.000000      0.000000      0.000000      1.000000      0.000000   \n",
       "75%        1.000000      0.000000      0.000000      1.000000      1.000000   \n",
       "max        3.000000      1.000000      1.000000      1.000000      1.000000   \n",
       "\n",
       "            age_yrs    weight_lbs  height_inches           bmi  \n",
       "count  68638.000000  68638.000000   68638.000000  68638.000000  \n",
       "mean      52.829409    162.933783      64.773216     26.962237  \n",
       "std        6.768847     31.500576       3.140108      5.235715  \n",
       "min       29.000000     77.000000      48.000000     12.000000  \n",
       "25%       48.000000    143.000000      63.000000     23.000000  \n",
       "50%       53.000000    158.000000      65.000000     26.000000  \n",
       "75%       58.000000    180.000000      67.000000     30.000000  \n",
       "max       64.000000    440.000000      81.000000    108.000000  "
      ]
     },
     "execution_count": 13,
     "metadata": {},
     "output_type": "execute_result"
    }
   ],
   "source": [
    "#Check min, max, mean and identify outliers\n",
    "heart_cardio.describe()"
   ]
  },
  {
   "cell_type": "code",
   "execution_count": 14,
   "metadata": {},
   "outputs": [
    {
     "data": {
      "image/png": "[encoded data removed]",
      "text/plain": [
       "<Figure size 1008x720 with 16 Axes>"
      ]
     },
     "metadata": {
      "needs_background": "light"
     },
     "output_type": "display_data"
    }
   ],
   "source": [
    "#Check data distribution\n",
    "heart_cardio.hist(figsize=(14,10), color=\"purple\",alpha=0.7, grid=False);"
   ]
  },
  {
   "cell_type": "code",
   "execution_count": 15,
   "metadata": {},
   "outputs": [
    {
     "name": "stdout",
     "output_type": "stream",
     "text": [
      "Percentage of data distribution in the two classes are:\n",
      "50.5\n",
      "49.5\n"
     ]
    },
    {
     "data": {
      "image/png": "[encoded data removed]",
      "text/plain": [
       "<Figure size 432x360 with 1 Axes>"
      ]
     },
     "metadata": {
      "needs_background": "light"
     },
     "output_type": "display_data"
    }
   ],
   "source": [
    "##Check count and Visualize data distribution in target\n",
    "rcParams['figure.figsize'] = 6,5\n",
    "plt.bar(heart_cardio['cardio'].unique(), heart_cardio['cardio'].value_counts(), color = ['pink','cyan'])\n",
    "plt.xticks([0, 1])\n",
    "plt.xlabel('Target Classes')\n",
    "plt.ylabel('Count');\n",
    "\n",
    "a,b=np.bincount(heart_cardio.cardio)\n",
    "print(f\"Percentage of data distribution in the two classes are:\")\n",
    "print(round(a/(a+b)*100,2))\n",
    "print(round(b/(a+b)*100,2))"
   ]
  },
  {
   "cell_type": "markdown",
   "metadata": {},
   "source": [
    "# Data Pre-Processing\n"
   ]
  },
  {
   "cell_type": "markdown",
   "metadata": {},
   "source": [
    "### Feature Selection\n",
    "#### 1.Univariate Selection:\n",
    "The scikit-learn library provides the SelectKBest class that can be used with a suite of different statistical tests to select a specific number of features. The code below uses the chi-squared (chi²) statistical test to select 10 of the best features. "
   ]
  },
  {
   "cell_type": "code",
   "execution_count": 16,
   "metadata": {},
   "outputs": [
    {
     "name": "stdout",
     "output_type": "stream",
     "text": [
      "                 Specs         Score\n",
      "1    systolic pressure  27531.126478\n",
      "9           weight_lbs  13551.327729\n",
      "2   diastolic pressure   8812.229274\n",
      "8              age_yrs   3411.521806\n",
      "11                 bmi   2532.921901\n",
      "3          cholesterol   1137.484166\n",
      "4                 gluc    148.083895\n",
      "7               active     18.816883\n",
      "5                smoke     16.645620\n",
      "6              alcohol      4.379963\n"
     ]
    }
   ],
   "source": [
    "from sklearn.feature_selection import SelectKBest\n",
    "from sklearn.feature_selection import chi2\n",
    "X = heart_cardio.drop(\"cardio\", axis=1) \n",
    "y = heart_cardio[\"cardio\"]   \n",
    "# apply SelectKBest class to extract top 10 best features\n",
    "bestfeatures = SelectKBest(score_func=chi2, k=10)\n",
    "fit = bestfeatures.fit(X,y)\n",
    "dfscores = pd.DataFrame(fit.scores_)\n",
    "dfcolumns = pd.DataFrame(X.columns)\n",
    "#concat two dataframes for better visualization \n",
    "featureScores = pd.concat([dfcolumns,dfscores],axis=1)\n",
    "featureScores.columns = ['Specs','Score']  #naming the dataframe columns\n",
    "print(featureScores.nlargest(10,'Score'))  #print 10 best features\n",
    "# X.head()\n",
    "# y.head()"
   ]
  },
  {
   "cell_type": "markdown",
   "metadata": {},
   "source": [
    "#### 2. Feature importance:\n",
    "Feature importance is an inbuilt class that comes with Tree Based Classifiers. Extra Tree Classifier is used for extracting the top 10 features for the dataset."
   ]
  },
  {
   "cell_type": "code",
   "execution_count": 18,
   "metadata": {},
   "outputs": [
    {
     "name": "stdout",
     "output_type": "stream",
     "text": [
      "[0.01152579 0.18969893 0.10317298 0.04578004 0.01523953 0.00730416\n",
      " 0.00595112 0.00785398 0.17645152 0.18965729 0.1234414  0.12392326]\n"
     ]
    },
    {
     "data": {
      "image/png": "[encoded data removed]",
      "text/plain": [
       "<Figure size 576x432 with 1 Axes>"
      ]
     },
     "metadata": {
      "needs_background": "light"
     },
     "output_type": "display_data"
    }
   ],
   "source": [
    "from sklearn.ensemble import ExtraTreesClassifier\n",
    "import matplotlib.pyplot as plt\n",
    "rcParams['figure.figsize'] = 8,6\n",
    "model = ExtraTreesClassifier()\n",
    "model.fit(X,y)\n",
    "print(model.feature_importances_) #use inbuilt class feature_importances of tree based classifiers\n",
    "#plot graph of feature importances for better visualization\n",
    "feat_importances = pd.Series(model.feature_importances_, index=X.columns)\n",
    "feat_importances.nlargest(10).plot(kind='barh', color='purple')\n",
    "plt.show()"
   ]
  },
  {
   "cell_type": "markdown",
   "metadata": {},
   "source": [
    "#### 3.Correlation Matrix with Heatmap\n",
    "Correlation heatmap is built using the seaborn library to identify which features are most related to each other or the target variable. "
   ]
  },
  {
   "cell_type": "code",
   "execution_count": 19,
   "metadata": {},
   "outputs": [
    {
     "data": {
      "image/png": "[encoded data removed]",
      "text/plain": [
       "<Figure size 864x720 with 2 Axes>"
      ]
     },
     "metadata": {
      "needs_background": "light"
     },
     "output_type": "display_data"
    }
   ],
   "source": [
    "#get correlations of each features in dataset\n",
    "import seaborn as sns\n",
    "corrmat = heart_cardio.corr()\n",
    "top_corr_features = corrmat.index\n",
    "plt.figure(figsize=(12,10))\n",
    "#plot heat map\n",
    "g=sns.heatmap(heart_cardio[top_corr_features].corr(),annot=True,cmap=\"plasma\")"
   ]
  },
  {
   "cell_type": "markdown",
   "metadata": {},
   "source": [
    "From analysis of the above three processes for feature selection, and distribution of data in categorical features as seen in the histograms above, the following features have been selected based on the feature name appearing in atleast two of the three selection tests above:\n",
    "systolic pressure,diastolic pressure, bmi, age_yrs, weight_lbs, chol, gender, gluc. \n",
    "While smoke and alcohol are known to be great risk factors, but their distribution in the classes is highly imbalanced to train the model. Also, they show negative correlation with the target in the heatmap and don't appear in the feature importance plot.Active is selcted despite showing negative correlation as it appears in the other two selection processes."
   ]
  },
  {
   "cell_type": "code",
   "execution_count": 20,
   "metadata": {},
   "outputs": [
    {
     "data": {
      "text/html": [
       "<div>\n",
       "<style scoped>\n",
       "    .dataframe tbody tr th:only-of-type {\n",
       "        vertical-align: middle;\n",
       "    }\n",
       "\n",
       "    .dataframe tbody tr th {\n",
       "        vertical-align: top;\n",
       "    }\n",
       "\n",
       "    .dataframe thead th {\n",
       "        text-align: right;\n",
       "    }\n",
       "</style>\n",
       "<table border=\"1\" class=\"dataframe\">\n",
       "  <thead>\n",
       "    <tr style=\"text-align: right;\">\n",
       "      <th></th>\n",
       "      <th>gender</th>\n",
       "      <th>systolic pressure</th>\n",
       "      <th>diastolic pressure</th>\n",
       "      <th>cholesterol</th>\n",
       "      <th>gluc</th>\n",
       "      <th>cardio</th>\n",
       "      <th>age_yrs</th>\n",
       "      <th>weight_lbs</th>\n",
       "      <th>bmi</th>\n",
       "    </tr>\n",
       "  </thead>\n",
       "  <tbody>\n",
       "    <tr>\n",
       "      <th>0</th>\n",
       "      <td>1</td>\n",
       "      <td>110</td>\n",
       "      <td>70</td>\n",
       "      <td>1</td>\n",
       "      <td>1</td>\n",
       "      <td>0</td>\n",
       "      <td>39</td>\n",
       "      <td>101</td>\n",
       "      <td>18</td>\n",
       "    </tr>\n",
       "    <tr>\n",
       "      <th>1</th>\n",
       "      <td>2</td>\n",
       "      <td>120</td>\n",
       "      <td>90</td>\n",
       "      <td>2</td>\n",
       "      <td>1</td>\n",
       "      <td>0</td>\n",
       "      <td>56</td>\n",
       "      <td>105</td>\n",
       "      <td>17</td>\n",
       "    </tr>\n",
       "    <tr>\n",
       "      <th>2</th>\n",
       "      <td>1</td>\n",
       "      <td>100</td>\n",
       "      <td>70</td>\n",
       "      <td>1</td>\n",
       "      <td>1</td>\n",
       "      <td>0</td>\n",
       "      <td>60</td>\n",
       "      <td>83</td>\n",
       "      <td>14</td>\n",
       "    </tr>\n",
       "    <tr>\n",
       "      <th>3</th>\n",
       "      <td>2</td>\n",
       "      <td>140</td>\n",
       "      <td>80</td>\n",
       "      <td>3</td>\n",
       "      <td>1</td>\n",
       "      <td>1</td>\n",
       "      <td>50</td>\n",
       "      <td>112</td>\n",
       "      <td>17</td>\n",
       "    </tr>\n",
       "    <tr>\n",
       "      <th>4</th>\n",
       "      <td>2</td>\n",
       "      <td>140</td>\n",
       "      <td>80</td>\n",
       "      <td>1</td>\n",
       "      <td>1</td>\n",
       "      <td>1</td>\n",
       "      <td>63</td>\n",
       "      <td>105</td>\n",
       "      <td>17</td>\n",
       "    </tr>\n",
       "  </tbody>\n",
       "</table>\n",
       "</div>"
      ],
      "text/plain": [
       "   gender  systolic pressure  diastolic pressure  cholesterol  gluc  cardio  \\\n",
       "0       1                110                  70            1     1       0   \n",
       "1       2                120                  90            2     1       0   \n",
       "2       1                100                  70            1     1       0   \n",
       "3       2                140                  80            3     1       1   \n",
       "4       2                140                  80            1     1       1   \n",
       "\n",
       "   age_yrs  weight_lbs  bmi  \n",
       "0       39         101   18  \n",
       "1       56         105   17  \n",
       "2       60          83   14  \n",
       "3       50         112   17  \n",
       "4       63         105   17  "
      ]
     },
     "execution_count": 20,
     "metadata": {},
     "output_type": "execute_result"
    }
   ],
   "source": [
    "#Drop rest of the features and create new df\n",
    "feature_selected_df = heart_cardio.drop(['smoke', 'alcohol','height_inches', 'active'], axis=1)\n",
    "feature_selected_df.head()"
   ]
  },
  {
   "cell_type": "markdown",
   "metadata": {},
   "source": [
    "### Data Scaling"
   ]
  },
  {
   "cell_type": "code",
   "execution_count": 21,
   "metadata": {},
   "outputs": [
    {
     "data": {
      "text/html": [
       "<div>\n",
       "<style scoped>\n",
       "    .dataframe tbody tr th:only-of-type {\n",
       "        vertical-align: middle;\n",
       "    }\n",
       "\n",
       "    .dataframe tbody tr th {\n",
       "        vertical-align: top;\n",
       "    }\n",
       "\n",
       "    .dataframe thead th {\n",
       "        text-align: right;\n",
       "    }\n",
       "</style>\n",
       "<table border=\"1\" class=\"dataframe\">\n",
       "  <thead>\n",
       "    <tr style=\"text-align: right;\">\n",
       "      <th></th>\n",
       "      <th>gender</th>\n",
       "      <th>systolic pressure</th>\n",
       "      <th>diastolic pressure</th>\n",
       "      <th>cholesterol</th>\n",
       "      <th>gluc</th>\n",
       "      <th>cardio</th>\n",
       "      <th>age_yrs</th>\n",
       "      <th>weight_lbs</th>\n",
       "      <th>bmi</th>\n",
       "    </tr>\n",
       "  </thead>\n",
       "  <tbody>\n",
       "    <tr>\n",
       "      <th>0</th>\n",
       "      <td>1</td>\n",
       "      <td>-0.992021</td>\n",
       "      <td>-1.185255</td>\n",
       "      <td>1</td>\n",
       "      <td>1</td>\n",
       "      <td>0</td>\n",
       "      <td>-2.043112</td>\n",
       "      <td>-1.966130</td>\n",
       "      <td>-1.711763</td>\n",
       "    </tr>\n",
       "    <tr>\n",
       "      <th>1</th>\n",
       "      <td>2</td>\n",
       "      <td>-0.395186</td>\n",
       "      <td>0.899744</td>\n",
       "      <td>2</td>\n",
       "      <td>1</td>\n",
       "      <td>0</td>\n",
       "      <td>0.468413</td>\n",
       "      <td>-1.839147</td>\n",
       "      <td>-1.902760</td>\n",
       "    </tr>\n",
       "    <tr>\n",
       "      <th>2</th>\n",
       "      <td>1</td>\n",
       "      <td>-1.588856</td>\n",
       "      <td>-1.185255</td>\n",
       "      <td>1</td>\n",
       "      <td>1</td>\n",
       "      <td>0</td>\n",
       "      <td>1.059360</td>\n",
       "      <td>-2.537552</td>\n",
       "      <td>-2.475752</td>\n",
       "    </tr>\n",
       "    <tr>\n",
       "      <th>3</th>\n",
       "      <td>2</td>\n",
       "      <td>0.798484</td>\n",
       "      <td>-0.142756</td>\n",
       "      <td>3</td>\n",
       "      <td>1</td>\n",
       "      <td>1</td>\n",
       "      <td>-0.418008</td>\n",
       "      <td>-1.616928</td>\n",
       "      <td>-1.902760</td>\n",
       "    </tr>\n",
       "    <tr>\n",
       "      <th>4</th>\n",
       "      <td>2</td>\n",
       "      <td>0.798484</td>\n",
       "      <td>-0.142756</td>\n",
       "      <td>1</td>\n",
       "      <td>1</td>\n",
       "      <td>1</td>\n",
       "      <td>1.502570</td>\n",
       "      <td>-1.839147</td>\n",
       "      <td>-1.902760</td>\n",
       "    </tr>\n",
       "  </tbody>\n",
       "</table>\n",
       "</div>"
      ],
      "text/plain": [
       "   gender  systolic pressure  diastolic pressure  cholesterol  gluc  cardio  \\\n",
       "0       1          -0.992021           -1.185255            1     1       0   \n",
       "1       2          -0.395186            0.899744            2     1       0   \n",
       "2       1          -1.588856           -1.185255            1     1       0   \n",
       "3       2           0.798484           -0.142756            3     1       1   \n",
       "4       2           0.798484           -0.142756            1     1       1   \n",
       "\n",
       "    age_yrs  weight_lbs       bmi  \n",
       "0 -2.043112   -1.966130 -1.711763  \n",
       "1  0.468413   -1.839147 -1.902760  \n",
       "2  1.059360   -2.537552 -2.475752  \n",
       "3 -0.418008   -1.616928 -1.902760  \n",
       "4  1.502570   -1.839147 -1.902760  "
      ]
     },
     "execution_count": 21,
     "metadata": {},
     "output_type": "execute_result"
    }
   ],
   "source": [
    "#Scaling continuous features using StandardScaler\n",
    "from sklearn.preprocessing import StandardScaler\n",
    "standardScaler = StandardScaler()\n",
    "columns_to_scale = ['age_yrs', 'bmi', 'weight_lbs', 'systolic pressure', 'diastolic pressure']\n",
    "feature_selected_df[columns_to_scale] = standardScaler.fit_transform(feature_selected_df[columns_to_scale])\n",
    "dataset=feature_selected_df\n",
    "dataset.head()"
   ]
  },
  {
   "cell_type": "code",
   "execution_count": 22,
   "metadata": {},
   "outputs": [],
   "source": [
    "target = dataset[\"cardio\"]\n",
    "data = dataset.drop(\"cardio\", axis=1)\n",
    "feature_names = data.columns\n",
    "# target = feature_selected_df[\"cardio\"]\n",
    "# data = feature_selected_df.drop(\"cardio\", axis=1)\n",
    "# data.head()"
   ]
  },
  {
   "cell_type": "code",
   "execution_count": 23,
   "metadata": {},
   "outputs": [
    {
     "name": "stdout",
     "output_type": "stream",
     "text": [
      "<class 'pandas.core.frame.DataFrame'>\n",
      "Int64Index: 51478 entries, 58732 to 15795\n",
      "Data columns (total 8 columns):\n",
      "gender                51478 non-null int32\n",
      "systolic pressure     51478 non-null float64\n",
      "diastolic pressure    51478 non-null float64\n",
      "cholesterol           51478 non-null int32\n",
      "gluc                  51478 non-null int32\n",
      "age_yrs               51478 non-null float64\n",
      "weight_lbs            51478 non-null float64\n",
      "bmi                   51478 non-null float64\n",
      "dtypes: float64(5), int32(3)\n",
      "memory usage: 2.9 MB\n"
     ]
    },
    {
     "data": {
      "text/plain": [
       "gender                17160\n",
       "systolic pressure     17160\n",
       "diastolic pressure    17160\n",
       "cholesterol           17160\n",
       "gluc                  17160\n",
       "age_yrs               17160\n",
       "weight_lbs            17160\n",
       "bmi                   17160\n",
       "dtype: int64"
      ]
     },
     "execution_count": 23,
     "metadata": {},
     "output_type": "execute_result"
    }
   ],
   "source": [
    "from sklearn.model_selection import train_test_split\n",
    "X_train, X_test, y_train, y_test = train_test_split(data, target, random_state=42)\n",
    "X_train.info()\n",
    "X_test.count()"
   ]
  },
  {
   "cell_type": "code",
   "execution_count": 24,
   "metadata": {},
   "outputs": [
    {
     "data": {
      "text/plain": [
       "(17160, 8)"
      ]
     },
     "execution_count": 24,
     "metadata": {},
     "output_type": "execute_result"
    }
   ],
   "source": [
    "X_test.shape"
   ]
  },
  {
   "cell_type": "code",
   "execution_count": 25,
   "metadata": {},
   "outputs": [
    {
     "name": "stdout",
     "output_type": "stream",
     "text": [
      "Percentage of data distribution in the train set:\n",
      "50.56\n",
      "49.44\n",
      "-------------------\n",
      "Percentage of data distribution in the test set:\n",
      "50.34\n",
      "49.66\n"
     ]
    }
   ],
   "source": [
    "# Check if the labels are well shuffled in train and test set, to avoid imbalanced data\n",
    "a,b=np.bincount(y_train)\n",
    "print(f\"Percentage of data distribution in the train set:\")\n",
    "print(round(a/(a+b)*100,2))\n",
    "print(round(b/(a+b)*100,2))\n",
    "print(\"-------------------\")\n",
    "x,y=np.bincount(y_test)\n",
    "print(f\"Percentage of data distribution in the test set:\")\n",
    "print(round(x/(x+y)*100,2))\n",
    "print(round(y/(x+y)*100,2))\n",
    "# np.bincount(y_test)"
   ]
  },
  {
   "cell_type": "markdown",
   "metadata": {},
   "source": [
    "## Applying Machine Learning Algorithms\n",
    "\n"
   ]
  },
  {
   "cell_type": "code",
   "execution_count": 26,
   "metadata": {},
   "outputs": [
    {
     "name": "stderr",
     "output_type": "stream",
     "text": [
      "Using TensorFlow backend.\n"
     ]
    }
   ],
   "source": [
    "from sklearn.linear_model import LogisticRegression\n",
    "from sklearn.neighbors import KNeighborsClassifier\n",
    "from sklearn.svm import SVC\n",
    "from sklearn.tree import DecisionTreeClassifier\n",
    "from sklearn.ensemble import RandomForestClassifier\n",
    "from keras.models import Sequential\n",
    "from keras.layers import Dense"
   ]
  },
  {
   "cell_type": "markdown",
   "metadata": {},
   "source": [
    "#### Logistic Regression"
   ]
  },
  {
   "cell_type": "code",
   "execution_count": 27,
   "metadata": {},
   "outputs": [
    {
     "data": {
      "text/plain": [
       "72.68"
      ]
     },
     "execution_count": 27,
     "metadata": {},
     "output_type": "execute_result"
    }
   ],
   "source": [
    "lg = LogisticRegression()\n",
    "# Create an instance of Logistic Regression Classifier and fit the data.\n",
    "lg.fit(X_train,y_train)\n",
    "lg_score=round(lg.score(X_train,y_train)*100,2)\n",
    "lg_score"
   ]
  },
  {
   "cell_type": "markdown",
   "metadata": {},
   "source": [
    "### K Neighbors Classifier\n",
    "The classification parameters are values of neighbors (k) and distance. Different values of neighbours will be used to check the best output score."
   ]
  },
  {
   "cell_type": "code",
   "execution_count": 28,
   "metadata": {},
   "outputs": [
    {
     "data": {
      "text/plain": [
       "[64.42,\n",
       " 64.39,\n",
       " 68.06,\n",
       " 67.91,\n",
       " 69.34,\n",
       " 69.69,\n",
       " 70.45,\n",
       " 70.64,\n",
       " 70.83,\n",
       " 71.29,\n",
       " 71.55,\n",
       " 71.55,\n",
       " 71.92,\n",
       " 71.89,\n",
       " 72.01,\n",
       " 72.3,\n",
       " 72.3,\n",
       " 72.35,\n",
       " 72.4]"
      ]
     },
     "execution_count": 28,
     "metadata": {},
     "output_type": "execute_result"
    }
   ],
   "source": [
    "#Hold the scores for various neighbors i.e. k in a list\n",
    "knn_scores = []\n",
    "for i in range(1,20):\n",
    "    knn_classifier = KNeighborsClassifier(n_neighbors = i)\n",
    "    knn_classifier.fit(X_train, y_train)\n",
    "    knn_scores.append(round(knn_classifier.score(X_test, y_test)*100,2))\n",
    "        \n",
    "knn_scores"
   ]
  },
  {
   "cell_type": "code",
   "execution_count": 29,
   "metadata": {},
   "outputs": [
    {
     "data": {
      "image/png": "[encoded data removed]",
      "text/plain": [
       "<Figure size 864x720 with 1 Axes>"
      ]
     },
     "metadata": {
      "needs_background": "light"
     },
     "output_type": "display_data"
    }
   ],
   "source": [
    "rcParams['figure.figsize'] = 12,10\n",
    "plt.plot([i for i in range(1, 20)], knn_scores, color = 'brown' )\n",
    "for i in range(1,20,2):\n",
    "    plt.text(i, knn_scores[i-1], (i, knn_scores[i-1]))\n",
    "#     plt.text(i, knn_scores[i-1])\n",
    "\n",
    "plt.xticks([i for i in range(1, 20, 2)])\n",
    "plt.xlabel('Number of Neighbors (K)')\n",
    "plt.ylabel('Scores')\n",
    "plt.title('Classifier Scores For Different K Values');"
   ]
  },
  {
   "cell_type": "markdown",
   "metadata": {},
   "source": [
    "### Support Vector Classifier\n",
    "First testing all kernels. Second, select the best kernel and perform Hyperparameter Tuning "
   ]
  },
  {
   "cell_type": "code",
   "execution_count": 30,
   "metadata": {},
   "outputs": [
    {
     "data": {
      "text/plain": [
       "[72.2, 72.57, 73.15, 61.44]"
      ]
     },
     "execution_count": 30,
     "metadata": {},
     "output_type": "execute_result"
    }
   ],
   "source": [
    "svc_scores = []\n",
    "kernels = ['linear', 'poly', 'rbf', 'sigmoid']\n",
    "for i in range(len(kernels)):\n",
    "    svc_classifier = SVC(kernel = kernels[i])\n",
    "    svc_classifier.fit(X_train, y_train)\n",
    "    svc_scores.append(round(svc_classifier.score(X_test, y_test)*100,2))\n",
    "svc_scores"
   ]
  },
  {
   "cell_type": "code",
   "execution_count": 31,
   "metadata": {},
   "outputs": [
    {
     "data": {
      "image/png": "[encoded data removed]",
      "text/plain": [
       "<Figure size 576x432 with 1 Axes>"
      ]
     },
     "metadata": {
      "needs_background": "light"
     },
     "output_type": "display_data"
    }
   ],
   "source": [
    "rcParams['figure.figsize'] = 8,6\n",
    "colors = rainbow(np.linspace(0, 1, len(kernels)))\n",
    "plt.bar(kernels, svc_scores, color = colors)\n",
    "for i in range(len(kernels)):\n",
    "    plt.text(i, svc_scores[i], svc_scores[i])\n",
    "plt.xlabel('Kernels')\n",
    "plt.ylabel('Scores')\n",
    "plt.title('Support Vector Classifier scores for different kernels');"
   ]
  },
  {
   "cell_type": "code",
   "execution_count": 68,
   "metadata": {},
   "outputs": [
    {
     "name": "stdout",
     "output_type": "stream",
     "text": [
      "Fitting 5 folds for each of 16 candidates, totalling 80 fits\n",
      "[CV] C=1, gamma=0.0001 ...............................................\n"
     ]
    },
    {
     "name": "stderr",
     "output_type": "stream",
     "text": [
      "[Parallel(n_jobs=1)]: Using backend SequentialBackend with 1 concurrent workers.\n"
     ]
    },
    {
     "name": "stdout",
     "output_type": "stream",
     "text": [
      "[CV] ................... C=1, gamma=0.0001, score=0.717, total=  48.7s\n",
      "[CV] C=1, gamma=0.0001 ...............................................\n"
     ]
    },
    {
     "name": "stderr",
     "output_type": "stream",
     "text": [
      "[Parallel(n_jobs=1)]: Done   1 out of   1 | elapsed:   48.7s remaining:    0.0s\n"
     ]
    },
    {
     "name": "stdout",
     "output_type": "stream",
     "text": [
      "[CV] ................... C=1, gamma=0.0001, score=0.728, total=  50.0s\n",
      "[CV] C=1, gamma=0.0001 ...............................................\n"
     ]
    },
    {
     "name": "stderr",
     "output_type": "stream",
     "text": [
      "[Parallel(n_jobs=1)]: Done   2 out of   2 | elapsed:  1.6min remaining:    0.0s\n"
     ]
    },
    {
     "name": "stdout",
     "output_type": "stream",
     "text": [
      "[CV] ................... C=1, gamma=0.0001, score=0.718, total=  49.4s\n",
      "[CV] C=1, gamma=0.0001 ...............................................\n",
      "[CV] ................... C=1, gamma=0.0001, score=0.723, total=  51.6s\n",
      "[CV] C=1, gamma=0.0001 ...............................................\n",
      "[CV] ................... C=1, gamma=0.0001, score=0.727, total=  51.0s\n",
      "[CV] C=1, gamma=0.0005 ...............................................\n",
      "[CV] ................... C=1, gamma=0.0005, score=0.719, total=  46.6s\n",
      "[CV] C=1, gamma=0.0005 ...............................................\n",
      "[CV] ................... C=1, gamma=0.0005, score=0.729, total=  47.2s\n",
      "[CV] C=1, gamma=0.0005 ...............................................\n",
      "[CV] ................... C=1, gamma=0.0005, score=0.721, total=  47.8s\n",
      "[CV] C=1, gamma=0.0005 ...............................................\n",
      "[CV] ................... C=1, gamma=0.0005, score=0.727, total=  46.6s\n",
      "[CV] C=1, gamma=0.0005 ...............................................\n",
      "[CV] ................... C=1, gamma=0.0005, score=0.729, total=  47.6s\n",
      "[CV] C=1, gamma=0.001 ................................................\n",
      "[CV] .................... C=1, gamma=0.001, score=0.718, total=  47.4s\n",
      "[CV] C=1, gamma=0.001 ................................................\n",
      "[CV] .................... C=1, gamma=0.001, score=0.729, total=  45.7s\n",
      "[CV] C=1, gamma=0.001 ................................................\n",
      "[CV] .................... C=1, gamma=0.001, score=0.722, total=  52.2s\n",
      "[CV] C=1, gamma=0.001 ................................................\n",
      "[CV] .................... C=1, gamma=0.001, score=0.727, total=  48.8s\n",
      "[CV] C=1, gamma=0.001 ................................................\n",
      "[CV] .................... C=1, gamma=0.001, score=0.731, total=  50.8s\n",
      "[CV] C=1, gamma=0.005 ................................................\n",
      "[CV] .................... C=1, gamma=0.005, score=0.721, total=  45.9s\n",
      "[CV] C=1, gamma=0.005 ................................................\n",
      "[CV] .................... C=1, gamma=0.005, score=0.734, total=  45.1s\n",
      "[CV] C=1, gamma=0.005 ................................................\n",
      "[CV] .................... C=1, gamma=0.005, score=0.723, total=  46.2s\n",
      "[CV] C=1, gamma=0.005 ................................................\n",
      "[CV] .................... C=1, gamma=0.005, score=0.731, total=  46.6s\n",
      "[CV] C=1, gamma=0.005 ................................................\n",
      "[CV] .................... C=1, gamma=0.005, score=0.734, total=  47.1s\n",
      "[CV] C=5, gamma=0.0001 ...............................................\n",
      "[CV] ................... C=5, gamma=0.0001, score=0.719, total=  48.1s\n",
      "[CV] C=5, gamma=0.0001 ...............................................\n",
      "[CV] ................... C=5, gamma=0.0001, score=0.729, total=  48.6s\n",
      "[CV] C=5, gamma=0.0001 ...............................................\n",
      "[CV] ................... C=5, gamma=0.0001, score=0.721, total=  47.6s\n",
      "[CV] C=5, gamma=0.0001 ...............................................\n",
      "[CV] ................... C=5, gamma=0.0001, score=0.727, total=  48.3s\n",
      "[CV] C=5, gamma=0.0001 ...............................................\n",
      "[CV] ................... C=5, gamma=0.0001, score=0.729, total=  52.2s\n",
      "[CV] C=5, gamma=0.0005 ...............................................\n",
      "[CV] ................... C=5, gamma=0.0005, score=0.719, total=  46.8s\n",
      "[CV] C=5, gamma=0.0005 ...............................................\n",
      "[CV] ................... C=5, gamma=0.0005, score=0.730, total=  47.4s\n",
      "[CV] C=5, gamma=0.0005 ...............................................\n",
      "[CV] ................... C=5, gamma=0.0005, score=0.722, total=  48.3s\n",
      "[CV] C=5, gamma=0.0005 ...............................................\n",
      "[CV] ................... C=5, gamma=0.0005, score=0.728, total=  47.9s\n",
      "[CV] C=5, gamma=0.0005 ...............................................\n",
      "[CV] ................... C=5, gamma=0.0005, score=0.731, total=  46.9s\n",
      "[CV] C=5, gamma=0.001 ................................................\n",
      "[CV] .................... C=5, gamma=0.001, score=0.721, total=  46.6s\n",
      "[CV] C=5, gamma=0.001 ................................................\n",
      "[CV] .................... C=5, gamma=0.001, score=0.732, total=  47.8s\n",
      "[CV] C=5, gamma=0.001 ................................................\n",
      "[CV] .................... C=5, gamma=0.001, score=0.723, total=  46.3s\n",
      "[CV] C=5, gamma=0.001 ................................................\n",
      "[CV] .................... C=5, gamma=0.001, score=0.730, total=  47.1s\n",
      "[CV] C=5, gamma=0.001 ................................................\n",
      "[CV] .................... C=5, gamma=0.001, score=0.732, total=  47.4s\n",
      "[CV] C=5, gamma=0.005 ................................................\n",
      "[CV] .................... C=5, gamma=0.005, score=0.725, total=  47.4s\n",
      "[CV] C=5, gamma=0.005 ................................................\n",
      "[CV] .................... C=5, gamma=0.005, score=0.736, total=  45.6s\n",
      "[CV] C=5, gamma=0.005 ................................................\n",
      "[CV] .................... C=5, gamma=0.005, score=0.726, total=  47.3s\n",
      "[CV] C=5, gamma=0.005 ................................................\n",
      "[CV] .................... C=5, gamma=0.005, score=0.731, total=  50.7s\n",
      "[CV] C=5, gamma=0.005 ................................................\n",
      "[CV] .................... C=5, gamma=0.005, score=0.736, total=  48.3s\n",
      "[CV] C=10, gamma=0.0001 ..............................................\n",
      "[CV] .................. C=10, gamma=0.0001, score=0.717, total=  48.1s\n",
      "[CV] C=10, gamma=0.0001 ..............................................\n",
      "[CV] .................. C=10, gamma=0.0001, score=0.729, total=  48.6s\n",
      "[CV] C=10, gamma=0.0001 ..............................................\n",
      "[CV] .................. C=10, gamma=0.0001, score=0.720, total=  45.8s\n",
      "[CV] C=10, gamma=0.0001 ..............................................\n",
      "[CV] .................. C=10, gamma=0.0001, score=0.727, total=  47.1s\n",
      "[CV] C=10, gamma=0.0001 ..............................................\n",
      "[CV] .................. C=10, gamma=0.0001, score=0.729, total=  46.0s\n",
      "[CV] C=10, gamma=0.0005 ..............................................\n",
      "[CV] .................. C=10, gamma=0.0005, score=0.720, total=  45.0s\n",
      "[CV] C=10, gamma=0.0005 ..............................................\n",
      "[CV] .................. C=10, gamma=0.0005, score=0.732, total=  44.6s\n",
      "[CV] C=10, gamma=0.0005 ..............................................\n",
      "[CV] .................. C=10, gamma=0.0005, score=0.723, total=  44.7s\n",
      "[CV] C=10, gamma=0.0005 ..............................................\n",
      "[CV] .................. C=10, gamma=0.0005, score=0.729, total=  45.4s\n",
      "[CV] C=10, gamma=0.0005 ..............................................\n",
      "[CV] .................. C=10, gamma=0.0005, score=0.732, total=  45.8s\n",
      "[CV] C=10, gamma=0.001 ...............................................\n",
      "[CV] ................... C=10, gamma=0.001, score=0.722, total=  45.5s\n",
      "[CV] C=10, gamma=0.001 ...............................................\n",
      "[CV] ................... C=10, gamma=0.001, score=0.733, total=  45.9s\n",
      "[CV] C=10, gamma=0.001 ...............................................\n",
      "[CV] ................... C=10, gamma=0.001, score=0.723, total=  49.6s\n",
      "[CV] C=10, gamma=0.001 ...............................................\n",
      "[CV] ................... C=10, gamma=0.001, score=0.730, total=  46.4s\n",
      "[CV] C=10, gamma=0.001 ...............................................\n",
      "[CV] ................... C=10, gamma=0.001, score=0.732, total=  45.9s\n",
      "[CV] C=10, gamma=0.005 ...............................................\n",
      "[CV] ................... C=10, gamma=0.005, score=0.724, total=  46.7s\n",
      "[CV] C=10, gamma=0.005 ...............................................\n",
      "[CV] ................... C=10, gamma=0.005, score=0.736, total=  46.9s\n",
      "[CV] C=10, gamma=0.005 ...............................................\n",
      "[CV] ................... C=10, gamma=0.005, score=0.724, total=  46.2s\n",
      "[CV] C=10, gamma=0.005 ...............................................\n",
      "[CV] ................... C=10, gamma=0.005, score=0.730, total=  47.0s\n",
      "[CV] C=10, gamma=0.005 ...............................................\n",
      "[CV] ................... C=10, gamma=0.005, score=0.735, total=  45.8s\n",
      "[CV] C=50, gamma=0.0001 ..............................................\n"
     ]
    },
    {
     "name": "stdout",
     "output_type": "stream",
     "text": [
      "[CV] .................. C=50, gamma=0.0001, score=0.719, total=  46.4s\n",
      "[CV] C=50, gamma=0.0001 ..............................................\n",
      "[CV] .................. C=50, gamma=0.0001, score=0.730, total=  46.8s\n",
      "[CV] C=50, gamma=0.0001 ..............................................\n",
      "[CV] .................. C=50, gamma=0.0001, score=0.722, total=  46.3s\n",
      "[CV] C=50, gamma=0.0001 ..............................................\n",
      "[CV] .................. C=50, gamma=0.0001, score=0.727, total=  47.0s\n",
      "[CV] C=50, gamma=0.0001 ..............................................\n",
      "[CV] .................. C=50, gamma=0.0001, score=0.730, total=  46.9s\n",
      "[CV] C=50, gamma=0.0005 ..............................................\n",
      "[CV] .................. C=50, gamma=0.0005, score=0.723, total=  46.8s\n",
      "[CV] C=50, gamma=0.0005 ..............................................\n",
      "[CV] .................. C=50, gamma=0.0005, score=0.733, total=  46.4s\n",
      "[CV] C=50, gamma=0.0005 ..............................................\n",
      "[CV] .................. C=50, gamma=0.0005, score=0.723, total=  46.2s\n",
      "[CV] C=50, gamma=0.0005 ..............................................\n",
      "[CV] .................. C=50, gamma=0.0005, score=0.730, total=  46.3s\n",
      "[CV] C=50, gamma=0.0005 ..............................................\n",
      "[CV] .................. C=50, gamma=0.0005, score=0.732, total=  47.0s\n",
      "[CV] C=50, gamma=0.001 ...............................................\n",
      "[CV] ................... C=50, gamma=0.001, score=0.725, total=  48.2s\n",
      "[CV] C=50, gamma=0.001 ...............................................\n",
      "[CV] ................... C=50, gamma=0.001, score=0.736, total=  46.9s\n",
      "[CV] C=50, gamma=0.001 ...............................................\n",
      "[CV] ................... C=50, gamma=0.001, score=0.725, total=  46.7s\n",
      "[CV] C=50, gamma=0.001 ...............................................\n",
      "[CV] ................... C=50, gamma=0.001, score=0.730, total=  47.4s\n",
      "[CV] C=50, gamma=0.001 ...............................................\n",
      "[CV] ................... C=50, gamma=0.001, score=0.734, total=  47.7s\n",
      "[CV] C=50, gamma=0.005 ...............................................\n",
      "[CV] ................... C=50, gamma=0.005, score=0.725, total=  52.1s\n",
      "[CV] C=50, gamma=0.005 ...............................................\n",
      "[CV] ................... C=50, gamma=0.005, score=0.737, total=  52.6s\n",
      "[CV] C=50, gamma=0.005 ...............................................\n",
      "[CV] ................... C=50, gamma=0.005, score=0.723, total=  51.9s\n",
      "[CV] C=50, gamma=0.005 ...............................................\n",
      "[CV] ................... C=50, gamma=0.005, score=0.731, total=  52.8s\n",
      "[CV] C=50, gamma=0.005 ...............................................\n",
      "[CV] ................... C=50, gamma=0.005, score=0.733, total=  51.8s\n"
     ]
    },
    {
     "name": "stderr",
     "output_type": "stream",
     "text": [
      "[Parallel(n_jobs=1)]: Done  80 out of  80 | elapsed: 63.5min finished\n"
     ]
    },
    {
     "name": "stdout",
     "output_type": "stream",
     "text": [
      "time: 1581293740.74982\n"
     ]
    }
   ],
   "source": [
    "from sklearn.model_selection import GridSearchCV\n",
    "from time import time\n",
    "start=time()\n",
    "model = SVC(kernel='rbf')\n",
    "param_grid = {'C': [1, 5, 10, 50],\n",
    "              'gamma': [0.0001, 0.0005, 0.001, 0.005]}\n",
    "grid = GridSearchCV(model, param_grid, verbose=3)\n",
    "# Train the model with GridSearch\n",
    "grid.fit(X_train, y_train)\n",
    "print(f\"time: {start}\")"
   ]
  },
  {
   "cell_type": "code",
   "execution_count": 69,
   "metadata": {},
   "outputs": [
    {
     "name": "stdout",
     "output_type": "stream",
     "text": [
      "{'C': 5, 'gamma': 0.005}\n",
      "0.730778293262509\n"
     ]
    }
   ],
   "source": [
    "print(grid.best_params_)\n",
    "print(grid.best_score_)"
   ]
  },
  {
   "cell_type": "code",
   "execution_count": 29,
   "metadata": {},
   "outputs": [
    {
     "data": {
      "text/plain": [
       "0.7304479583511403"
      ]
     },
     "execution_count": 29,
     "metadata": {},
     "output_type": "execute_result"
    }
   ],
   "source": [
    "svc_classifier = SVC(kernel = \"rbf\",C= 5, gamma = 0.005 )\n",
    "svc_best_model_cardio=svc_classifier.fit(X_train, y_train)\n",
    "svc_classifier.score(X_train, y_train)"
   ]
  },
  {
   "cell_type": "code",
   "execution_count": 70,
   "metadata": {},
   "outputs": [
    {
     "data": {
      "text/plain": [
       "0.7304479583511403"
      ]
     },
     "execution_count": 70,
     "metadata": {},
     "output_type": "execute_result"
    }
   ],
   "source": [
    "# Training score:\n",
    "grid.score(X_train, y_train)"
   ]
  },
  {
   "cell_type": "code",
   "execution_count": 71,
   "metadata": {},
   "outputs": [
    {
     "data": {
      "text/plain": [
       "0.7280885780885781"
      ]
     },
     "execution_count": 71,
     "metadata": {},
     "output_type": "execute_result"
    }
   ],
   "source": [
    "# Testing score:\n",
    "grid.score(X_test, y_test)"
   ]
  },
  {
   "cell_type": "code",
   "execution_count": 72,
   "metadata": {},
   "outputs": [
    {
     "name": "stdout",
     "output_type": "stream",
     "text": [
      "              precision    recall  f1-score   support\n",
      "\n",
      "           0       0.70      0.79      0.75      8638\n",
      "           1       0.76      0.66      0.71      8522\n",
      "\n",
      "    accuracy                           0.73     17160\n",
      "   macro avg       0.73      0.73      0.73     17160\n",
      "weighted avg       0.73      0.73      0.73     17160\n",
      "\n"
     ]
    }
   ],
   "source": [
    "# Print Classification Report.\n",
    "# Make prediction and save to variable for report.\n",
    "svc_predictions = grid.predict(X_test)\n",
    "from sklearn.metrics import classification_report\n",
    "print(classification_report(y_test, svc_predictions))"
   ]
  },
  {
   "cell_type": "markdown",
   "metadata": {},
   "source": [
    "### Hyperparameter tuning: \n",
    "2nd approach was tested but the run continued for more than 24 hrs without giving any result. Had to cancel the run."
   ]
  },
  {
   "cell_type": "code",
   "execution_count": null,
   "metadata": {},
   "outputs": [],
   "source": [
    "# https://scikit-learn.org/stable/auto_examples/svm/plot_rbf_parameters.html\n",
    "from sklearn.model_selection import StratifiedShuffleSplit\n",
    "from sklearn.model_selection import GridSearchCV\n",
    "C_range = np.logspace(-2, 10, 13)\n",
    "gamma_range = np.logspace(-9, 3, 13)\n",
    "param_grid = dict(gamma=gamma_range, C=C_range)\n",
    "cv = StratifiedShuffleSplit(n_splits=5, test_size=0.2, random_state=42)\n",
    "grid = GridSearchCV(SVC(kernel= 'rbf'), param_grid=param_grid, cv=cv)\n",
    "grid.fit(X_train, y_train)\n",
    "\n",
    "print(\"The best parameters are %s with a score of %0.2f\"\n",
    "      % (grid.best_params_, grid.best_score_))"
   ]
  },
  {
   "cell_type": "markdown",
   "metadata": {},
   "source": [
    "#### Decision Tree Classifier\n",
    "\n",
    "Play around with `max_features` to see for best score. It determines how random each tree would be. Rule of thumb, for classification max_features=sqrt(n_features)."
   ]
  },
  {
   "cell_type": "code",
   "execution_count": 32,
   "metadata": {},
   "outputs": [
    {
     "data": {
      "text/plain": [
       "[65.06, 64.38, 64.99, 64.17]"
      ]
     },
     "execution_count": 32,
     "metadata": {},
     "output_type": "execute_result"
    }
   ],
   "source": [
    "DT_scores = []\n",
    "# since max_features is len(X.columns its sqrt will return floatingpoint which has to be typcast to int using the code below\n",
    "# int(np.ceil(np.sqrt(len(X.columns) + 1)))\n",
    "for i in range(1, int(np.ceil(np.sqrt(len(X.columns))))+1):\n",
    "    DT_classifier = DecisionTreeClassifier(max_features = i, random_state = 0)\n",
    "    DT_classifier.fit(X_train, y_train)\n",
    "    DT_scores.append(round(DT_classifier.score(X_test, y_test)*100,2))\n",
    "DT_scores"
   ]
  },
  {
   "cell_type": "markdown",
   "metadata": {},
   "source": [
    "#### Random Forest Classifier (Ensemble of Decision Tree)\n",
    "\n",
    "Creating models with varying number of estimators i.e. number of trees to be built."
   ]
  },
  {
   "cell_type": "code",
   "execution_count": 33,
   "metadata": {},
   "outputs": [
    {
     "data": {
      "text/plain": [
       "[68.47, 69.89, 70.05, 70.14, 70.06, 70.07]"
      ]
     },
     "execution_count": 33,
     "metadata": {},
     "output_type": "execute_result"
    }
   ],
   "source": [
    "rf_scores = []\n",
    "estimators = [10, 100, 200, 500, 700, 1000]\n",
    "for i in estimators:\n",
    "    rf_classifier = RandomForestClassifier(n_estimators = i, random_state = 0)\n",
    "    rf_classifier.fit(X_train, y_train)\n",
    "    rf_scores.append(round(rf_classifier.score(X_test, y_test)*100,2))\n",
    "rf_scores"
   ]
  },
  {
   "cell_type": "code",
   "execution_count": 34,
   "metadata": {},
   "outputs": [
    {
     "data": {
      "image/png": "[encoded data removed]",
      "text/plain": [
       "<Figure size 576x432 with 1 Axes>"
      ]
     },
     "metadata": {
      "needs_background": "light"
     },
     "output_type": "display_data"
    }
   ],
   "source": [
    "colors = rainbow(np.linspace(0, 1, len(estimators)))\n",
    "plt.bar([i for i in range(len(estimators))], rf_scores, color = colors, width = 0.8)\n",
    "for i in range(len(estimators)):\n",
    "    plt.text(i, rf_scores[i], rf_scores[i])\n",
    "plt.xticks(ticks = [i for i in range(len(estimators))], labels = [str(estimator) for estimator in estimators])\n",
    "plt.xlabel('Number of estimators')\n",
    "plt.ylabel('Scores')\n",
    "plt.title('Random Forest Classifier scores for different number of estimators');"
   ]
  },
  {
   "cell_type": "markdown",
   "metadata": {},
   "source": [
    "### Naive Bayes\n",
    "Based on Bayes’ Theorem with an assumption of independence among predictors. Fast and relatively simple.It perform well in case of categorical input variables compared to numerical variable(s).Since our dataset has a higher number of categorical features, lets test the algorithm."
   ]
  },
  {
   "cell_type": "code",
   "execution_count": 35,
   "metadata": {},
   "outputs": [
    {
     "name": "stdout",
     "output_type": "stream",
     "text": [
      "\n",
      "Accuracy for training set for Naive Bayes = 0.7052138777730292\n",
      "Accuracy for test set for Naive Bayes = 0.703962703962704\n"
     ]
    }
   ],
   "source": [
    "from sklearn.naive_bayes import GaussianNB\n",
    "NB_classifier = GaussianNB()\n",
    "NB_classifier.fit(X_train, y_train)\n",
    "\n",
    "\n",
    "# Predicting the Test set results\n",
    "y_pred = NB_classifier.predict(X_test)\n",
    "\n",
    "from sklearn.metrics import confusion_matrix\n",
    "cm_test = confusion_matrix(y_pred, y_test)\n",
    "\n",
    "y_pred_train = NB_classifier.predict(X_train)\n",
    "cm_train = confusion_matrix(y_pred_train, y_train)\n",
    "\n",
    "print()\n",
    "print('Accuracy for training set for Naive Bayes = {}'.format((cm_train[0][0] + cm_train[1][1])/len(y_train)))\n",
    "print('Accuracy for test set for Naive Bayes = {}'.format((cm_test[0][0] + cm_test[1][1])/len(y_test)))"
   ]
  },
  {
   "cell_type": "markdown",
   "metadata": {},
   "source": [
    "### Deep Learning\n",
    "The perceptron model is used with the following parameters:\n",
    "Sequential is a good model to begin with, The Relu and Softmax activation options are non-linear. Being able to use non-linear data makes Neural Network particularly useful.Using Sigmoid on an output layer with two categories (softmax for multiple categories).Using adam or rmsprop as the optimizer since both of them are pretty good.100 epoch will expose all of our training data in 100 loops to the network. More epochs means the network will know better about our data."
   ]
  },
  {
   "cell_type": "code",
   "execution_count": 84,
   "metadata": {},
   "outputs": [],
   "source": [
    "import tensorflow as tf\n",
    "from tensorflow.keras.optimizers import RMSprop,Nadam,Adadelta,Adam\n",
    "from tensorflow.keras.layers import BatchNormalization,LeakyReLU\n",
    "from tensorflow.keras.callbacks import ReduceLROnPlateau, EarlyStopping\n",
    "import seaborn as sns\n",
    "import scipy.stats as stats\n",
    "import sklearn\n",
    "from keras.models import Sequential\n",
    "from keras.layers import Conv2D, MaxPooling2D\n",
    "from keras.layers import Activation, Dropout, Flatten, Dense\n",
    "import warnings\n",
    "from tensorflow.keras.utils import to_categorical"
   ]
  },
  {
   "cell_type": "code",
   "execution_count": null,
   "metadata": {},
   "outputs": [],
   "source": [
    "X_train.shape[1]"
   ]
  },
  {
   "cell_type": "code",
   "execution_count": 86,
   "metadata": {},
   "outputs": [
    {
     "name": "stdout",
     "output_type": "stream",
     "text": [
      "WARNING:tensorflow:From /Users/harmeetkaur/anaconda3/envs/pythondata/lib/python3.7/site-packages/tensorflow/python/framework/op_def_library.py:263: colocate_with (from tensorflow.python.framework.ops) is deprecated and will be removed in a future version.\n",
      "Instructions for updating:\n",
      "Colocations handled automatically by placer.\n"
     ]
    }
   ],
   "source": [
    "# Model saved and tested used this criteria\n",
    "NN_model = Sequential()\n",
    "#add hidden layer\n",
    "NN_model.add(Dense(32, input_dim=X_train.shape[1], activation='relu'))\n",
    "#add output layer, since it has 2 categories\n",
    "NN_model.add(Dense(8, activation='relu'))\n",
    "NN_model.add(Dense(1, activation='sigmoid'))\n",
    "NN_model.compile(loss='binary_crossentropy',optimizer='adam',metrics=['accuracy'])\n",
    "\n",
    "#Adding validation_split=0.1 for creating a validation set with 10% data\n",
    "NN_model.fit(X_train,y_train, epochs=100, verbose=2)\n"
   ]
  },
  {
   "cell_type": "code",
   "execution_count": null,
   "metadata": {},
   "outputs": [],
   "source": [
    "# #For one hot encoding\n",
    "# y_train = to_categorical(y_train)\n",
    "# y_test = to_categorical(y_test)"
   ]
  },
  {
   "cell_type": "code",
   "execution_count": 87,
   "metadata": {},
   "outputs": [
    {
     "name": "stdout",
     "output_type": "stream",
     "text": [
      "WARNING:tensorflow:From /Users/harmeetkaur/anaconda3/envs/pythondata/lib/python3.7/site-packages/tensorflow/python/ops/math_ops.py:3066: to_int32 (from tensorflow.python.ops.math_ops) is deprecated and will be removed in a future version.\n",
      "Instructions for updating:\n",
      "Use tf.cast instead.\n",
      "Epoch 1/100\n",
      " - 2s - loss: 0.7818 - acc: 0.5586\n",
      "Epoch 2/100\n",
      " - 2s - loss: 0.6716 - acc: 0.6030\n",
      "Epoch 3/100\n",
      " - 2s - loss: 0.6486 - acc: 0.6259\n",
      "Epoch 4/100\n",
      " - 2s - loss: 0.6380 - acc: 0.6408\n",
      "Epoch 5/100\n",
      " - 2s - loss: 0.6276 - acc: 0.6538\n",
      "Epoch 6/100\n",
      " - 2s - loss: 0.6237 - acc: 0.6587\n",
      "Epoch 7/100\n",
      " - 2s - loss: 0.6207 - acc: 0.6641\n",
      "Epoch 8/100\n",
      " - 2s - loss: 0.6157 - acc: 0.6717\n",
      "Epoch 9/100\n",
      " - 2s - loss: 0.6099 - acc: 0.6746\n",
      "Epoch 10/100\n",
      " - 2s - loss: 0.6065 - acc: 0.6799\n",
      "Epoch 11/100\n",
      " - 2s - loss: 0.6023 - acc: 0.6848\n",
      "Epoch 12/100\n",
      " - 2s - loss: 0.5977 - acc: 0.6905\n",
      "Epoch 13/100\n",
      " - 2s - loss: 0.5990 - acc: 0.6891\n",
      "Epoch 14/100\n",
      " - 2s - loss: 0.5948 - acc: 0.6940\n",
      "Epoch 15/100\n",
      " - 2s - loss: 0.5941 - acc: 0.6953\n",
      "Epoch 16/100\n",
      " - 2s - loss: 0.5921 - acc: 0.6968\n",
      "Epoch 17/100\n",
      " - 2s - loss: 0.5889 - acc: 0.7005\n",
      "Epoch 18/100\n",
      " - 2s - loss: 0.5885 - acc: 0.7023\n",
      "Epoch 19/100\n",
      " - 2s - loss: 0.5864 - acc: 0.7037\n",
      "Epoch 20/100\n",
      " - 2s - loss: 0.5880 - acc: 0.7017\n",
      "Epoch 21/100\n",
      " - 2s - loss: 0.5861 - acc: 0.7028\n",
      "Epoch 22/100\n",
      " - 2s - loss: 0.5830 - acc: 0.7099\n",
      "Epoch 23/100\n",
      " - 2s - loss: 0.5812 - acc: 0.7121\n",
      "Epoch 24/100\n",
      " - 2s - loss: 0.5800 - acc: 0.7087\n",
      "Epoch 25/100\n",
      " - 2s - loss: 0.5793 - acc: 0.7103\n",
      "Epoch 26/100\n",
      " - 2s - loss: 0.5784 - acc: 0.7112\n",
      "Epoch 27/100\n",
      " - 2s - loss: 0.5781 - acc: 0.7127\n",
      "Epoch 28/100\n",
      " - 2s - loss: 0.5804 - acc: 0.7100\n",
      "Epoch 29/100\n",
      " - 2s - loss: 0.5773 - acc: 0.7130\n",
      "Epoch 30/100\n",
      " - 2s - loss: 0.5741 - acc: 0.7179\n",
      "Epoch 31/100\n",
      " - 2s - loss: 0.5740 - acc: 0.7174\n",
      "Epoch 32/100\n",
      " - 2s - loss: 0.5759 - acc: 0.7151\n",
      "Epoch 33/100\n",
      " - 2s - loss: 0.5752 - acc: 0.7158\n",
      "Epoch 34/100\n",
      " - 2s - loss: 0.5747 - acc: 0.7172\n",
      "Epoch 35/100\n",
      " - 2s - loss: 0.5735 - acc: 0.7176\n",
      "Epoch 36/100\n",
      " - 2s - loss: 0.5743 - acc: 0.7169\n",
      "Epoch 37/100\n",
      " - 2s - loss: 0.5713 - acc: 0.7185\n",
      "Epoch 38/100\n",
      " - 2s - loss: 0.5721 - acc: 0.7182\n",
      "Epoch 39/100\n",
      " - 2s - loss: 0.5695 - acc: 0.7214\n",
      "Epoch 40/100\n",
      " - 2s - loss: 0.5692 - acc: 0.7215\n",
      "Epoch 41/100\n",
      " - 2s - loss: 0.5702 - acc: 0.7206\n",
      "Epoch 42/100\n",
      " - 2s - loss: 0.5694 - acc: 0.7218\n",
      "Epoch 43/100\n",
      " - 2s - loss: 0.5695 - acc: 0.7219\n",
      "Epoch 44/100\n",
      " - 2s - loss: 0.5694 - acc: 0.7218\n",
      "Epoch 45/100\n",
      " - 2s - loss: 0.5687 - acc: 0.7209\n",
      "Epoch 46/100\n",
      " - 2s - loss: 0.5665 - acc: 0.7222\n",
      "Epoch 47/100\n",
      " - 2s - loss: 0.5667 - acc: 0.7234\n",
      "Epoch 48/100\n",
      " - 2s - loss: 0.5651 - acc: 0.7241\n",
      "Epoch 49/100\n",
      " - 2s - loss: 0.5660 - acc: 0.7230\n",
      "Epoch 50/100\n",
      " - 2s - loss: 0.5648 - acc: 0.7239\n",
      "Epoch 51/100\n",
      " - 2s - loss: 0.5641 - acc: 0.7241\n",
      "Epoch 52/100\n",
      " - 2s - loss: 0.5630 - acc: 0.7237\n",
      "Epoch 53/100\n",
      " - 2s - loss: 0.5625 - acc: 0.7226\n",
      "Epoch 54/100\n",
      " - 2s - loss: 0.5626 - acc: 0.7250\n",
      "Epoch 55/100\n",
      " - 2s - loss: 0.5625 - acc: 0.7243\n",
      "Epoch 56/100\n",
      " - 2s - loss: 0.5620 - acc: 0.7238\n",
      "Epoch 57/100\n",
      " - 2s - loss: 0.5616 - acc: 0.7262\n",
      "Epoch 58/100\n",
      " - 2s - loss: 0.5606 - acc: 0.7252\n",
      "Epoch 59/100\n",
      " - 2s - loss: 0.5610 - acc: 0.7246\n",
      "Epoch 60/100\n",
      " - 2s - loss: 0.5601 - acc: 0.7257\n",
      "Epoch 61/100\n",
      " - 2s - loss: 0.5599 - acc: 0.7252\n",
      "Epoch 62/100\n",
      " - 2s - loss: 0.5600 - acc: 0.7263\n",
      "Epoch 63/100\n",
      " - 2s - loss: 0.5595 - acc: 0.7244\n",
      "Epoch 64/100\n",
      " - 2s - loss: 0.5595 - acc: 0.7258\n",
      "Epoch 65/100\n",
      " - 2s - loss: 0.5599 - acc: 0.7237\n",
      "Epoch 66/100\n",
      " - 2s - loss: 0.5600 - acc: 0.7227\n",
      "Epoch 67/100\n",
      " - 2s - loss: 0.5593 - acc: 0.7246\n",
      "Epoch 68/100\n",
      " - 2s - loss: 0.5589 - acc: 0.7255\n",
      "Epoch 69/100\n",
      " - 2s - loss: 0.5595 - acc: 0.7249\n",
      "Epoch 70/100\n",
      " - 2s - loss: 0.5583 - acc: 0.7271\n",
      "Epoch 71/100\n",
      " - 2s - loss: 0.5584 - acc: 0.7257\n",
      "Epoch 72/100\n",
      " - 2s - loss: 0.5589 - acc: 0.7252\n",
      "Epoch 73/100\n",
      " - 2s - loss: 0.5581 - acc: 0.7270\n",
      "Epoch 74/100\n",
      " - 2s - loss: 0.5586 - acc: 0.7244\n",
      "Epoch 75/100\n",
      " - 2s - loss: 0.5583 - acc: 0.7255\n",
      "Epoch 76/100\n",
      " - 2s - loss: 0.5588 - acc: 0.7248\n",
      "Epoch 77/100\n",
      " - 2s - loss: 0.5578 - acc: 0.7256\n",
      "Epoch 78/100\n",
      " - 2s - loss: 0.5589 - acc: 0.7247\n",
      "Epoch 79/100\n",
      " - 2s - loss: 0.5582 - acc: 0.7237\n",
      "Epoch 80/100\n",
      " - 2s - loss: 0.5579 - acc: 0.7265\n",
      "Epoch 81/100\n",
      " - 2s - loss: 0.5570 - acc: 0.7264\n",
      "Epoch 82/100\n",
      " - 2s - loss: 0.5578 - acc: 0.7248\n",
      "Epoch 83/100\n",
      " - 2s - loss: 0.5573 - acc: 0.7270\n",
      "Epoch 84/100\n",
      " - 2s - loss: 0.5574 - acc: 0.7265\n",
      "Epoch 85/100\n",
      " - 2s - loss: 0.5570 - acc: 0.7260\n",
      "Epoch 86/100\n",
      " - 2s - loss: 0.5566 - acc: 0.7263\n",
      "Epoch 87/100\n",
      " - 2s - loss: 0.5569 - acc: 0.7257\n",
      "Epoch 88/100\n",
      " - 2s - loss: 0.5569 - acc: 0.7259\n",
      "Epoch 89/100\n",
      " - 2s - loss: 0.5574 - acc: 0.7264\n",
      "Epoch 90/100\n",
      " - 2s - loss: 0.5572 - acc: 0.7275\n",
      "Epoch 91/100\n",
      " - 2s - loss: 0.5569 - acc: 0.7264\n",
      "Epoch 92/100\n",
      " - 2s - loss: 0.5571 - acc: 0.7252\n",
      "Epoch 93/100\n",
      " - 2s - loss: 0.5570 - acc: 0.7253\n",
      "Epoch 94/100\n",
      " - 2s - loss: 0.5568 - acc: 0.7269\n",
      "Epoch 95/100\n",
      " - 2s - loss: 0.5568 - acc: 0.7246\n",
      "Epoch 96/100\n",
      " - 2s - loss: 0.5566 - acc: 0.7252\n",
      "Epoch 97/100\n",
      " - 2s - loss: 0.5562 - acc: 0.7262\n",
      "Epoch 98/100\n",
      " - 2s - loss: 0.5568 - acc: 0.7256\n",
      "Epoch 99/100\n",
      " - 2s - loss: 0.5558 - acc: 0.7278\n",
      "Epoch 100/100\n",
      " - 2s - loss: 0.5565 - acc: 0.7274\n"
     ]
    },
    {
     "data": {
      "text/plain": [
       "<keras.callbacks.History at 0x13ba08250>"
      ]
     },
     "execution_count": 87,
     "metadata": {},
     "output_type": "execute_result"
    }
   ],
   "source": [
    "#Adding validation_split=0.1 for creating a validation set with 10% data\n",
    "NN_model.fit(X_train,y_train, epochs=100, validation_split=0.1, verbose=2)"
   ]
  },
  {
   "cell_type": "code",
   "execution_count": 88,
   "metadata": {},
   "outputs": [
    {
     "name": "stdout",
     "output_type": "stream",
     "text": [
      "Normal Neural Network - Loss: 0.5569088602955247, Accuracy: 72.33\n"
     ]
    }
   ],
   "source": [
    "NN_model_loss, NN_model_accuracy = NN_model.evaluate(\n",
    "    X_test, y_test, verbose=2)\n",
    "print(\n",
    "    f\"Normal Neural Network - Loss: {NN_model_loss}, Accuracy: {round(NN_model_accuracy*100,2)}\")"
   ]
  },
  {
   "cell_type": "code",
   "execution_count": 89,
   "metadata": {},
   "outputs": [
    {
     "name": "stdout",
     "output_type": "stream",
     "text": [
      "17160/17160 [==============================] - 0s 17us/step\n",
      "Testing Acc: [0.5569088602955247, 0.7232517482517482]\n"
     ]
    }
   ],
   "source": [
    "test_score = NN_model.evaluate(X_test, y_test)\n",
    "print(\"Testing Acc:\", test_score)"
   ]
  },
  {
   "cell_type": "code",
   "execution_count": 93,
   "metadata": {},
   "outputs": [
    {
     "data": {
      "text/plain": [
       "(17160, 7)"
      ]
     },
     "execution_count": 93,
     "metadata": {},
     "output_type": "execute_result"
    }
   ],
   "source": [
    "X_test.shape"
   ]
  },
  {
   "cell_type": "code",
   "execution_count": 97,
   "metadata": {},
   "outputs": [
    {
     "data": {
      "text/plain": [
       "array([[0.97558844]], dtype=float32)"
      ]
     },
     "execution_count": 97,
     "metadata": {},
     "output_type": "execute_result"
    }
   ],
   "source": [
    "# {‘age’: ‘25’, ‘gender’: ‘2’, ‘height’: ‘65’, ‘weight’: ‘130’, ‘ap_hi’: ‘120’, ‘ap_lo’: ‘78’, ‘cholesterol’: ‘1’}\n",
    "A=[2, 120, 78, 1, 25, 130, 21.6]\n",
    "Z=[2, 200, 120,3, 55,210,31]\n",
    "B=np.array(Z)\n",
    "# B\n",
    "C=B.reshape(1, -1)\n",
    "# C\n",
    "NN_model.predict(C)\n",
    "# C.shape"
   ]
  },
  {
   "cell_type": "code",
   "execution_count": 98,
   "metadata": {},
   "outputs": [
    {
     "name": "stdout",
     "output_type": "stream",
     "text": [
      "Saved model to disk\n"
     ]
    }
   ],
   "source": [
    "NN_model.save(\"NN_model.h5\")\n",
    "print(\"Saved model to disk\")\n"
   ]
  },
  {
   "cell_type": "code",
   "execution_count": 102,
   "metadata": {},
   "outputs": [
    {
     "name": "stdout",
     "output_type": "stream",
     "text": [
      "_________________________________________________________________\n",
      "Layer (type)                 Output Shape              Param #   \n",
      "=================================================================\n",
      "dense_1 (Dense)              (None, 32)                256       \n",
      "_________________________________________________________________\n",
      "dense_2 (Dense)              (None, 8)                 264       \n",
      "_________________________________________________________________\n",
      "dense_3 (Dense)              (None, 1)                 9         \n",
      "=================================================================\n",
      "Total params: 529\n",
      "Trainable params: 529\n",
      "Non-trainable params: 0\n",
      "_________________________________________________________________\n"
     ]
    }
   ],
   "source": [
    "from numpy import loadtxt\n",
    "from keras.models import load_model\n",
    "# load model\n",
    "Best_model = load_model('NN_model.h5')\n",
    "# summarize model.\n",
    "Best_model.summary()"
   ]
  },
  {
   "cell_type": "code",
   "execution_count": 101,
   "metadata": {},
   "outputs": [
    {
     "data": {
      "text/plain": [
       "array([[0.97558844]], dtype=float32)"
      ]
     },
     "execution_count": 101,
     "metadata": {},
     "output_type": "execute_result"
    }
   ],
   "source": [
    "Best_model.predict_proba(C)"
   ]
  },
  {
   "cell_type": "code",
   "execution_count": null,
   "metadata": {},
   "outputs": [],
   "source": []
  },
  {
   "cell_type": "code",
   "execution_count": 107,
   "metadata": {},
   "outputs": [],
   "source": [
    "# from keras.wrappers.scikit_learn import KerasClassifier\n",
    "# from sklearn.model_selection import GridSearchCV\n",
    "# # def create_model(optimizer='adam'):\n",
    "# # \t# create model\n",
    "# # \tmodel = Sequential()\n",
    "# # \tmodel.add(Dense(12, input_dim=8, activation='relu'))\n",
    "# # \tmodel.add(Dense(1, activation='sigmoid'))\n",
    "# # \t# Compile model\n",
    "# # \tmodel.compile(loss='binary_crossentropy', optimizer=optimizer, metrics=['accuracy'])\n",
    "# # \treturn model\n",
    "# # fix random seed for reproducibility\n",
    "# seed = 7\n",
    "# np.random.seed(seed)\n",
    "# # load dataset\n",
    "# # dataset = numpy.loadtxt(\"pima-indians-diabetes.csv\", delimiter=\",\")\n",
    "# # # split into input (X) and output (Y) variables\n",
    "# # X = dataset[:,0:8]\n",
    "# # Y = dataset[:,8]\n",
    "# # create model\n",
    "# model = KerasClassifier(build_fn=NN_model, epochs=100, batch_size=10, verbose=0)\n",
    "# # define the grid search parameters\n",
    "# optimizer = ['SGD', 'RMSprop', 'Adagrad', 'Adadelta', 'Adam', 'Adamax', 'Nadam']\n",
    "# param_grid = dict(optimizer=optimizer)\n",
    "# grid = GridSearchCV(estimator=model, param_grid=param_grid, n_jobs=-1, cv=3)\n",
    "# grid_result = grid.fit(X_train, y_train)\n",
    "# # summarize results\n",
    "# print(\"Best: %f using %s\" % (grid_result.best_score_, grid_result.best_params_))\n",
    "# means = grid_result.cv_results_['mean_test_score']\n",
    "# stds = grid_result.cv_results_['std_test_score']\n",
    "# params = grid_result.cv_results_['params']\n",
    "# for mean, stdev, param in zip(means, stds, params):\n",
    "#     print(\"%f (%f) with: %r\" % (mean, stdev, param))"
   ]
  },
  {
   "cell_type": "markdown",
   "metadata": {},
   "source": [
    "# Model Evaluation\n",
    "\n",
    "Confusion Matrix, Precision, Recall, F1-score\n",
    "\n",
    "### SVC best model evaluation"
   ]
  },
  {
   "cell_type": "code",
   "execution_count": 101,
   "metadata": {},
   "outputs": [],
   "source": [
    "y_true = y_test\n",
    "y_pred = svc_best_model_cardio.predict(X_test)"
   ]
  },
  {
   "cell_type": "code",
   "execution_count": 102,
   "metadata": {},
   "outputs": [],
   "source": [
    "from sklearn.metrics import confusion_matrix\n",
    "cm = confusion_matrix(y_true, y_pred)"
   ]
  },
  {
   "cell_type": "code",
   "execution_count": 103,
   "metadata": {},
   "outputs": [
    {
     "data": {
      "image/png": "[encoded data removed]",
      "text/plain": [
       "<Figure size 360x360 with 2 Axes>"
      ]
     },
     "metadata": {
      "needs_background": "light"
     },
     "output_type": "display_data"
    }
   ],
   "source": [
    "f, ax = plt.subplots(figsize=(5,5))\n",
    "sns.heatmap(cm,fmt=\".0f\", annot=True,linewidths=0.2, linecolor=\"purple\", ax=ax)\n",
    "plt.xlabel(\"Predicted\")\n",
    "plt.ylabel(\"Grand Truth\")\n",
    "plt.show()"
   ]
  },
  {
   "cell_type": "markdown",
   "metadata": {},
   "source": [
    "High precision relates to the low false positive rate.\n",
    "High recall relates to the low false negative rate"
   ]
  },
  {
   "cell_type": "code",
   "execution_count": 104,
   "metadata": {},
   "outputs": [
    {
     "data": {
      "text/html": [
       "<div>\n",
       "<style scoped>\n",
       "    .dataframe tbody tr th:only-of-type {\n",
       "        vertical-align: middle;\n",
       "    }\n",
       "\n",
       "    .dataframe tbody tr th {\n",
       "        vertical-align: top;\n",
       "    }\n",
       "\n",
       "    .dataframe thead th {\n",
       "        text-align: right;\n",
       "    }\n",
       "</style>\n",
       "<table border=\"1\" class=\"dataframe\">\n",
       "  <thead>\n",
       "    <tr style=\"text-align: right;\">\n",
       "      <th></th>\n",
       "      <th>Precision</th>\n",
       "      <th>Recall</th>\n",
       "      <th>F1 Score</th>\n",
       "    </tr>\n",
       "  </thead>\n",
       "  <tbody>\n",
       "    <tr>\n",
       "      <th>Results</th>\n",
       "      <td>0.763977</td>\n",
       "      <td>0.665923</td>\n",
       "      <td>0.711588</td>\n",
       "    </tr>\n",
       "  </tbody>\n",
       "</table>\n",
       "</div>"
      ],
      "text/plain": [
       "         Precision    Recall  F1 Score\n",
       "Results   0.763977  0.665923  0.711588"
      ]
     },
     "execution_count": 104,
     "metadata": {},
     "output_type": "execute_result"
    }
   ],
   "source": [
    "TN = cm[0,0]\n",
    "TP = cm[1,1]\n",
    "FN = cm[1,0]\n",
    "FP = cm[0,1]\n",
    "Precision = TP/(TP+FP)\n",
    "Recall = TP/(TP+FN)\n",
    "F1_Score = 2*(Recall * Precision) / (Recall + Precision)\n",
    "pd.DataFrame([[Precision, Recall, F1_Score]],columns=[\"Precision\", \"Recall\", \"F1 Score\"], index=[\"Results\"])"
   ]
  },
  {
   "cell_type": "markdown",
   "metadata": {},
   "source": [
    "### Neural Network best model evaluation"
   ]
  },
  {
   "cell_type": "code",
   "execution_count": 108,
   "metadata": {},
   "outputs": [
    {
     "name": "stdout",
     "output_type": "stream",
     "text": [
      "Confusion Matrix: \n",
      " [[7201 1437]\n",
      " [3312 5210]]\n"
     ]
    },
    {
     "data": {
      "image/png": "[encoded data removed]",
      "text/plain": [
       "<Figure size 360x360 with 2 Axes>"
      ]
     },
     "metadata": {
      "needs_background": "light"
     },
     "output_type": "display_data"
    }
   ],
   "source": [
    "from sklearn.metrics import confusion_matrix, roc_curve, roc_auc_score\n",
    "\n",
    "y_pred = NN_model.predict(X_test)\n",
    "cm = confusion_matrix(y_test, y_pred.round())\n",
    "print(\"Confusion Matrix:\", \"\\n\", cm)\n",
    "f, ax = plt.subplots(figsize=(5,5))\n",
    "sns.heatmap(cm,fmt=\".0f\", annot=True,linewidths=0.2, linecolor=\"purple\", ax=ax)\n",
    "plt.xlabel(\"Predicted\")\n",
    "plt.ylabel(\"Grand Truth\")\n",
    "plt.show()"
   ]
  },
  {
   "cell_type": "code",
   "execution_count": 109,
   "metadata": {},
   "outputs": [
    {
     "data": {
      "text/html": [
       "<div>\n",
       "<style scoped>\n",
       "    .dataframe tbody tr th:only-of-type {\n",
       "        vertical-align: middle;\n",
       "    }\n",
       "\n",
       "    .dataframe tbody tr th {\n",
       "        vertical-align: top;\n",
       "    }\n",
       "\n",
       "    .dataframe thead th {\n",
       "        text-align: right;\n",
       "    }\n",
       "</style>\n",
       "<table border=\"1\" class=\"dataframe\">\n",
       "  <thead>\n",
       "    <tr style=\"text-align: right;\">\n",
       "      <th></th>\n",
       "      <th>Precision_NN</th>\n",
       "      <th>Recall_NN</th>\n",
       "      <th>F1 Score_NN</th>\n",
       "    </tr>\n",
       "  </thead>\n",
       "  <tbody>\n",
       "    <tr>\n",
       "      <th>Results</th>\n",
       "      <td>0.783812</td>\n",
       "      <td>0.611359</td>\n",
       "      <td>0.686927</td>\n",
       "    </tr>\n",
       "  </tbody>\n",
       "</table>\n",
       "</div>"
      ],
      "text/plain": [
       "         Precision_NN  Recall_NN  F1 Score_NN\n",
       "Results      0.783812   0.611359     0.686927"
      ]
     },
     "execution_count": 109,
     "metadata": {},
     "output_type": "execute_result"
    }
   ],
   "source": [
    "TN = cm[0,0]\n",
    "TP = cm[1,1]\n",
    "FN = cm[1,0]\n",
    "FP = cm[0,1]\n",
    "Precision_NN = TP/(TP+FP)\n",
    "Recall_NN = TP/(TP+FN)\n",
    "F1_Score_NN = 2*(Recall_NN * Precision_NN) / (Recall_NN + Precision_NN)\n",
    "pd.DataFrame([[Precision_NN, Recall_NN, F1_Score_NN]],columns=[\"Precision_NN\", \"Recall_NN\", \"F1 Score_NN\"], index=[\"Results\"])"
   ]
  },
  {
   "cell_type": "markdown",
   "metadata": {},
   "source": [
    "# Saving the best model"
   ]
  },
  {
   "cell_type": "code",
   "execution_count": null,
   "metadata": {},
   "outputs": [],
   "source": [
    "#save best model (so far it is svc wth 73% score)\n",
    "# from sklearn.externals import joblib\n",
    "# svc_classifier = SVC(kernel = \"rbf\",C= 5, gamma = 0.005 )\n",
    "# svc_best_model_cardio=svc_classifier.fit(X_train, y_train)\n",
    "# svc_classifier.score(X_train, y_train)\n"
   ]
  },
  {
   "cell_type": "code",
   "execution_count": 31,
   "metadata": {},
   "outputs": [
    {
     "name": "stdout",
     "output_type": "stream",
     "text": [
      "0.7280885780885781\n"
     ]
    }
   ],
   "source": [
    "#load model and use\n",
    "from sklearn.externals import joblib\n",
    "joblib.dump(svc_best_model_cardio, 'model_svc.pkl')\n",
    "loaded_model = joblib.load(open('model_svc.pkl', 'rb'))\n",
    "result = loaded_model.score(X_test, y_test)\n",
    "print(result)"
   ]
  },
  {
   "cell_type": "code",
   "execution_count": null,
   "metadata": {},
   "outputs": [],
   "source": [
    "# {‘age’: ‘25’, ‘gender’: ‘2’, ‘height’: ‘65’, ‘weight’: ‘130’, ‘ap_hi’: ‘120’, ‘ap_lo’: ‘78’, ‘cholesterol’: ‘1’}\n",
    "A=[2, 120, 78, 1, 25, 130, 21.6]\n",
    "B=np.array(A)\n",
    "# B\n",
    "C=B.reshape(1, -1)\n",
    "# C\n",
    "svc_predictions = loaded_model.predict(A)\n",
    "svc_predictions"
   ]
  },
  {
   "cell_type": "code",
   "execution_count": null,
   "metadata": {},
   "outputs": [],
   "source": []
  }
 ],
 "metadata": {
  "kernelspec": {
   "display_name": "Python 3",
   "language": "python",
   "name": "python3"
  },
  "language_info": {
   "codemirror_mode": {
    "name": "ipython",
    "version": 3
   },
   "file_extension": ".py",
   "mimetype": "text/x-python",
   "name": "python",
   "nbconvert_exporter": "python",
   "pygments_lexer": "ipython3",
   "version": "3.7.3"
  }
 },
 "nbformat": 4,
 "nbformat_minor": 2
}
