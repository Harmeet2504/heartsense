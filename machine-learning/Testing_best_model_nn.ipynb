{
 "cells": [
  {
   "cell_type": "markdown",
   "metadata": {},
   "source": [
    "# Code to predict two samples (normal and risk) on  best Deep learning model"
   ]
  },
  {
   "cell_type": "code",
   "execution_count": 3,
   "metadata": {},
   "outputs": [],
   "source": [
    "import tensorflow as tf\n",
    "from tensorflow.keras.optimizers import RMSprop,Nadam,Adadelta,Adam\n",
    "from tensorflow.keras.layers import BatchNormalization,LeakyReLU\n",
    "from tensorflow.keras.callbacks import ReduceLROnPlateau, EarlyStopping\n",
    "import seaborn as sns\n",
    "import scipy.stats as stats\n",
    "import sklearn\n",
    "from keras.models import Sequential\n",
    "from keras.layers import Conv2D, MaxPooling2D\n",
    "from keras.layers import Activation, Dropout, Flatten, Dense\n",
    "import warnings\n",
    "from tensorflow.keras.utils import to_categorical"
   ]
  },
  {
   "cell_type": "code",
   "execution_count": 4,
   "metadata": {},
   "outputs": [
    {
     "name": "stdout",
     "output_type": "stream",
     "text": [
      "WARNING:tensorflow:From /Users/marybrown/anaconda3/lib/python3.7/site-packages/keras/backend/tensorflow_backend.py:517: The name tf.placeholder is deprecated. Please use tf.compat.v1.placeholder instead.\n",
      "\n",
      "WARNING:tensorflow:From /Users/marybrown/anaconda3/lib/python3.7/site-packages/keras/backend/tensorflow_backend.py:4138: The name tf.random_uniform is deprecated. Please use tf.random.uniform instead.\n",
      "\n",
      "WARNING:tensorflow:From /Users/marybrown/anaconda3/lib/python3.7/site-packages/keras/backend/tensorflow_backend.py:174: The name tf.get_default_session is deprecated. Please use tf.compat.v1.get_default_session instead.\n",
      "\n",
      "WARNING:tensorflow:From /Users/marybrown/anaconda3/lib/python3.7/site-packages/keras/backend/tensorflow_backend.py:181: The name tf.ConfigProto is deprecated. Please use tf.compat.v1.ConfigProto instead.\n",
      "\n",
      "WARNING:tensorflow:From /Users/marybrown/anaconda3/lib/python3.7/site-packages/keras/backend/tensorflow_backend.py:186: The name tf.Session is deprecated. Please use tf.compat.v1.Session instead.\n",
      "\n",
      "WARNING:tensorflow:From /Users/marybrown/anaconda3/lib/python3.7/site-packages/keras/optimizers.py:790: The name tf.train.Optimizer is deprecated. Please use tf.compat.v1.train.Optimizer instead.\n",
      "\n",
      "WARNING:tensorflow:From /Users/marybrown/anaconda3/lib/python3.7/site-packages/tensorflow/python/ops/nn_impl.py:180: add_dispatch_support.<locals>.wrapper (from tensorflow.python.ops.array_ops) is deprecated and will be removed in a future version.\n",
      "Instructions for updating:\n",
      "Use tf.where in 2.0, which has the same broadcast rule as np.where\n"
     ]
    }
   ],
   "source": [
    "import numpy as np\n",
    "# from tensorflow.keras.applications.vgg19 import (\n",
    "#     VGG19, \n",
    "#     preprocess_input, \n",
    "#     decode_predictions\n",
    "# )\n",
    "# {‘age’: ‘25’, ‘gender’: ‘2’, ‘height’: ‘65’, ‘weight’: ‘130’, ‘ap_hi’: ‘120’, ‘ap_lo’: ‘78’, ‘cholesterol’: ‘1’}\n",
    "# A=[2, 120, 78, 1,1, 25, 130, 21.6]\n",
    "# Z=[2, 200, 120,3, 2, 55,210,31]\n",
    "\n",
    "Normal=[2, 120, 78, 1, 25, 130, 21.6]\n",
    "Intermediate=[1,140, 100, 2, 2, 130, 21.6]\n",
    "Risk=[2, 200, 120,3, 55,210,31]\n",
    "B=np.array(Intermediate)\n",
    "# B\n",
    "C=B.reshape(1, -1)\n",
    "# C\n",
    "# NN_model.predict_proba(C)\n",
    "# C.shap\n",
    "from keras.models import load_model\n",
    "Best_model = load_model('NN_model.h5')\n",
    "# predictions=Best_model.predict(C)\n",
    "# x=np.round(predictions*100,2)\n",
    "# print('Risk(%):', x)"
   ]
  },
  {
   "cell_type": "code",
   "execution_count": 13,
   "metadata": {},
   "outputs": [
    {
     "name": "stdout",
     "output_type": "stream",
     "text": [
      "[[16.7]] % Heart Disease Risk for Person with Normal/Healthy Profile/Traits\n"
     ]
    }
   ],
   "source": [
    "B=np.array(Normal)\n",
    "C=B.reshape(1, -1)\n",
    "predictions=Best_model.predict(C)\n",
    "x=np.round(predictions*100,2)\n",
    "print(x, '% Heart Disease Risk for Person with Normal/Healthy Profile/Traits')"
   ]
  },
  {
   "cell_type": "code",
   "execution_count": 14,
   "metadata": {},
   "outputs": [
    {
     "name": "stdout",
     "output_type": "stream",
     "text": [
      "[[72.]] % Heart Disease Risk for Person with Intermediate Risk Profile/Traits\n"
     ]
    }
   ],
   "source": [
    "B=np.array(Intermediate)\n",
    "C=B.reshape(1, -1)\n",
    "predictions=Best_model.predict(C)\n",
    "x=np.round(predictions*100,2)\n",
    "print(x, '% Heart Disease Risk for Person with Intermediate Risk Profile/Traits')"
   ]
  },
  {
   "cell_type": "code",
   "execution_count": 15,
   "metadata": {},
   "outputs": [
    {
     "name": "stdout",
     "output_type": "stream",
     "text": [
      "[[97.56]] % Heart Disease Risk for Person with High Risk Profile/Traits\n"
     ]
    }
   ],
   "source": [
    "B=np.array(Risk)\n",
    "C=B.reshape(1, -1)\n",
    "predictions=Best_model.predict(C)\n",
    "x=np.round(predictions*100,2)\n",
    "print(x, '% Heart Disease Risk for Person with High Risk Profile/Traits')"
   ]
  },
  {
   "cell_type": "code",
   "execution_count": null,
   "metadata": {},
   "outputs": [],
   "source": []
  }
 ],
 "metadata": {
  "kernelspec": {
   "display_name": "Python 3",
   "language": "python",
   "name": "python3"
  },
  "language_info": {
   "codemirror_mode": {
    "name": "ipython",
    "version": 3
   },
   "file_extension": ".py",
   "mimetype": "text/x-python",
   "name": "python",
   "nbconvert_exporter": "python",
   "pygments_lexer": "ipython3",
   "version": "3.7.3"
  }
 },
 "nbformat": 4,
 "nbformat_minor": 2
}
