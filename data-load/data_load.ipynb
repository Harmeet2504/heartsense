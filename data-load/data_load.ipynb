{
 "cells": [
  {
   "cell_type": "code",
   "execution_count": 7,
   "metadata": {},
   "outputs": [],
   "source": [
    "# Import dependencies\n",
    "import pandas as pd "
   ]
  },
  {
   "cell_type": "code",
   "execution_count": 8,
   "metadata": {},
   "outputs": [
    {
     "data": {
      "text/html": [
       "<div>\n",
       "<style scoped>\n",
       "    .dataframe tbody tr th:only-of-type {\n",
       "        vertical-align: middle;\n",
       "    }\n",
       "\n",
       "    .dataframe tbody tr th {\n",
       "        vertical-align: top;\n",
       "    }\n",
       "\n",
       "    .dataframe thead th {\n",
       "        text-align: right;\n",
       "    }\n",
       "</style>\n",
       "<table border=\"1\" class=\"dataframe\">\n",
       "  <thead>\n",
       "    <tr style=\"text-align: right;\">\n",
       "      <th></th>\n",
       "      <th>Year</th>\n",
       "      <th>LocationAbbr</th>\n",
       "      <th>LocationDesc</th>\n",
       "      <th>Datasource</th>\n",
       "      <th>PriorityArea1</th>\n",
       "      <th>PriorityArea2</th>\n",
       "      <th>PriorityArea3</th>\n",
       "      <th>PriorityArea4</th>\n",
       "      <th>Category</th>\n",
       "      <th>Topic</th>\n",
       "      <th>...</th>\n",
       "      <th>Data_Value_Footnote</th>\n",
       "      <th>Confidence_Limit_Low</th>\n",
       "      <th>Confidence_Limit_High</th>\n",
       "      <th>CategoryID</th>\n",
       "      <th>TopicID</th>\n",
       "      <th>IndicatorID</th>\n",
       "      <th>BreakoutCategoryID</th>\n",
       "      <th>BreakOutID</th>\n",
       "      <th>LocationID</th>\n",
       "      <th>GeoLocation</th>\n",
       "    </tr>\n",
       "  </thead>\n",
       "  <tbody>\n",
       "    <tr>\n",
       "      <th>0</th>\n",
       "      <td>2011</td>\n",
       "      <td>NV</td>\n",
       "      <td>Nevada</td>\n",
       "      <td>BRFSS</td>\n",
       "      <td>None</td>\n",
       "      <td>None</td>\n",
       "      <td>None</td>\n",
       "      <td>None</td>\n",
       "      <td>Cardiovascular Diseases</td>\n",
       "      <td>Coronary Heart Disease</td>\n",
       "      <td>...</td>\n",
       "      <td>Statistically unstable estimates not presented...</td>\n",
       "      <td>NaN</td>\n",
       "      <td>NaN</td>\n",
       "      <td>C1</td>\n",
       "      <td>T4</td>\n",
       "      <td>BR001</td>\n",
       "      <td>BOC03</td>\n",
       "      <td>AGE04</td>\n",
       "      <td>32.0</td>\n",
       "      <td>(39.493240390000494, -117.07184056399967)</td>\n",
       "    </tr>\n",
       "    <tr>\n",
       "      <th>1</th>\n",
       "      <td>2011</td>\n",
       "      <td>NV</td>\n",
       "      <td>Nevada</td>\n",
       "      <td>BRFSS</td>\n",
       "      <td>None</td>\n",
       "      <td>None</td>\n",
       "      <td>None</td>\n",
       "      <td>None</td>\n",
       "      <td>Cardiovascular Diseases</td>\n",
       "      <td>Coronary Heart Disease</td>\n",
       "      <td>...</td>\n",
       "      <td>Statistically unstable estimates not presented...</td>\n",
       "      <td>NaN</td>\n",
       "      <td>NaN</td>\n",
       "      <td>C1</td>\n",
       "      <td>T4</td>\n",
       "      <td>BR001</td>\n",
       "      <td>BOC04</td>\n",
       "      <td>RAC02</td>\n",
       "      <td>32.0</td>\n",
       "      <td>(39.493240390000494, -117.07184056399967)</td>\n",
       "    </tr>\n",
       "  </tbody>\n",
       "</table>\n",
       "<p>2 rows × 27 columns</p>\n",
       "</div>"
      ],
      "text/plain": [
       "   Year LocationAbbr LocationDesc Datasource PriorityArea1 PriorityArea2  \\\n",
       "0  2011           NV       Nevada      BRFSS          None          None   \n",
       "1  2011           NV       Nevada      BRFSS          None          None   \n",
       "\n",
       "  PriorityArea3 PriorityArea4                 Category  \\\n",
       "0          None          None  Cardiovascular Diseases   \n",
       "1          None          None  Cardiovascular Diseases   \n",
       "\n",
       "                    Topic                    ...                      \\\n",
       "0  Coronary Heart Disease                    ...                       \n",
       "1  Coronary Heart Disease                    ...                       \n",
       "\n",
       "                                 Data_Value_Footnote Confidence_Limit_Low  \\\n",
       "0  Statistically unstable estimates not presented...                  NaN   \n",
       "1  Statistically unstable estimates not presented...                  NaN   \n",
       "\n",
       "  Confidence_Limit_High CategoryID TopicID  IndicatorID BreakoutCategoryID  \\\n",
       "0                   NaN         C1      T4        BR001              BOC03   \n",
       "1                   NaN         C1      T4        BR001              BOC04   \n",
       "\n",
       "  BreakOutID  LocationID                                GeoLocation  \n",
       "0      AGE04        32.0  (39.493240390000494, -117.07184056399967)  \n",
       "1      RAC02        32.0  (39.493240390000494, -117.07184056399967)  \n",
       "\n",
       "[2 rows x 27 columns]"
      ]
     },
     "execution_count": 8,
     "metadata": {},
     "output_type": "execute_result"
    }
   ],
   "source": [
    "# Reference to CSV and reading CSV into Pandas DataFrame\n",
    "csv_path = \"Resources/Behavioral_Risk.csv\"\n",
    "behaviorialrisk_df = pd.read_csv(csv_path)\n",
    "behaviorialrisk_df.head(2)"
   ]
  },
  {
   "cell_type": "code",
   "execution_count": 9,
   "metadata": {},
   "outputs": [
    {
     "data": {
      "text/plain": [
       "Index(['Year', 'LocationAbbr', 'LocationDesc', 'Datasource', 'PriorityArea1',\n",
       "       'PriorityArea2', 'PriorityArea3', 'PriorityArea4', 'Category', 'Topic',\n",
       "       'Indicator', 'Break_Out_Category', 'Break_out', 'Data_Value_Type',\n",
       "       'Data_Value_Unit', 'Data_Value', 'Data_Value_Footnote_Symbol',\n",
       "       'Data_Value_Footnote', 'Confidence_Limit_Low', 'Confidence_Limit_High',\n",
       "       'CategoryID', 'TopicID', 'IndicatorID', 'BreakoutCategoryID',\n",
       "       'BreakOutID', 'LocationID', 'GeoLocation'],\n",
       "      dtype='object')"
      ]
     },
     "execution_count": 9,
     "metadata": {},
     "output_type": "execute_result"
    }
   ],
   "source": [
    "behaviorialrisk_df.columns"
   ]
  },
  {
   "cell_type": "code",
   "execution_count": 47,
   "metadata": {},
   "outputs": [
    {
     "data": {
      "text/html": [
       "<div>\n",
       "<style scoped>\n",
       "    .dataframe tbody tr th:only-of-type {\n",
       "        vertical-align: middle;\n",
       "    }\n",
       "\n",
       "    .dataframe tbody tr th {\n",
       "        vertical-align: top;\n",
       "    }\n",
       "\n",
       "    .dataframe thead th {\n",
       "        text-align: right;\n",
       "    }\n",
       "</style>\n",
       "<table border=\"1\" class=\"dataframe\">\n",
       "  <thead>\n",
       "    <tr style=\"text-align: right;\">\n",
       "      <th></th>\n",
       "      <th>Year</th>\n",
       "      <th>LocationAbbr</th>\n",
       "      <th>LocationDesc</th>\n",
       "      <th>GeographicLevel</th>\n",
       "      <th>DataSource</th>\n",
       "      <th>Class</th>\n",
       "      <th>Topic</th>\n",
       "      <th>Data_Value</th>\n",
       "      <th>Data_Value_Unit</th>\n",
       "      <th>Data_Value_Type</th>\n",
       "      <th>...</th>\n",
       "      <th>Stratification1</th>\n",
       "      <th>StratificationCategory2</th>\n",
       "      <th>Stratification2</th>\n",
       "      <th>TopicID</th>\n",
       "      <th>LocationID</th>\n",
       "      <th>Y_lat</th>\n",
       "      <th>X_lon</th>\n",
       "      <th>Georeference Column</th>\n",
       "      <th>States</th>\n",
       "      <th>Counties</th>\n",
       "    </tr>\n",
       "  </thead>\n",
       "  <tbody>\n",
       "    <tr>\n",
       "      <th>0</th>\n",
       "      <td>2016</td>\n",
       "      <td>AZ</td>\n",
       "      <td>Santa Cruz County</td>\n",
       "      <td>County</td>\n",
       "      <td>NVSS</td>\n",
       "      <td>Cardiovascular Diseases</td>\n",
       "      <td>Heart Disease Mortality</td>\n",
       "      <td>178.8</td>\n",
       "      <td>per 100,000 population</td>\n",
       "      <td>Age-adjusted, Spatially Smoothed, 3-year Avera...</td>\n",
       "      <td>...</td>\n",
       "      <td>Female</td>\n",
       "      <td>Race/Ethnicity</td>\n",
       "      <td>Hispanic</td>\n",
       "      <td>T2</td>\n",
       "      <td>4023</td>\n",
       "      <td>31.529969</td>\n",
       "      <td>-110.846130</td>\n",
       "      <td>POINT (-110.8461304 31.529969244)</td>\n",
       "      <td>7.0</td>\n",
       "      <td>9</td>\n",
       "    </tr>\n",
       "    <tr>\n",
       "      <th>1</th>\n",
       "      <td>2016</td>\n",
       "      <td>CA</td>\n",
       "      <td>Alameda County</td>\n",
       "      <td>County</td>\n",
       "      <td>NVSS</td>\n",
       "      <td>Cardiovascular Diseases</td>\n",
       "      <td>Heart Disease Mortality</td>\n",
       "      <td>175</td>\n",
       "      <td>per 100,000 population</td>\n",
       "      <td>Age-adjusted, Spatially Smoothed, 3-year Avera...</td>\n",
       "      <td>...</td>\n",
       "      <td>Male</td>\n",
       "      <td>Race/Ethnicity</td>\n",
       "      <td>Asian and Pacific Islander</td>\n",
       "      <td>T2</td>\n",
       "      <td>6001</td>\n",
       "      <td>37.642754</td>\n",
       "      <td>-121.877537</td>\n",
       "      <td>POINT (-121.87753659999998 37.642753818)</td>\n",
       "      <td>8.0</td>\n",
       "      <td>1,141</td>\n",
       "    </tr>\n",
       "  </tbody>\n",
       "</table>\n",
       "<p>2 rows × 23 columns</p>\n",
       "</div>"
      ],
      "text/plain": [
       "   Year LocationAbbr       LocationDesc GeographicLevel DataSource  \\\n",
       "0  2016           AZ  Santa Cruz County          County       NVSS   \n",
       "1  2016           CA     Alameda County          County       NVSS   \n",
       "\n",
       "                     Class                    Topic Data_Value  \\\n",
       "0  Cardiovascular Diseases  Heart Disease Mortality      178.8   \n",
       "1  Cardiovascular Diseases  Heart Disease Mortality        175   \n",
       "\n",
       "          Data_Value_Unit                                    Data_Value_Type  \\\n",
       "0  per 100,000 population  Age-adjusted, Spatially Smoothed, 3-year Avera...   \n",
       "1  per 100,000 population  Age-adjusted, Spatially Smoothed, 3-year Avera...   \n",
       "\n",
       "     ...    Stratification1 StratificationCategory2  \\\n",
       "0    ...             Female          Race/Ethnicity   \n",
       "1    ...               Male          Race/Ethnicity   \n",
       "\n",
       "              Stratification2 TopicID LocationID      Y_lat       X_lon  \\\n",
       "0                    Hispanic      T2       4023  31.529969 -110.846130   \n",
       "1  Asian and Pacific Islander      T2       6001  37.642754 -121.877537   \n",
       "\n",
       "                        Georeference Column  States  Counties  \n",
       "0         POINT (-110.8461304 31.529969244)     7.0         9  \n",
       "1  POINT (-121.87753659999998 37.642753818)     8.0     1,141  \n",
       "\n",
       "[2 rows x 23 columns]"
      ]
     },
     "execution_count": 47,
     "metadata": {},
     "output_type": "execute_result"
    }
   ],
   "source": [
    "# Reference to CSV and reading CSV into Pandas DataFrame\n",
    "csv_path = \"Resources/HDMortality.csv\"\n",
    "hdmortality_df = pd.read_csv(csv_path)\n",
    "hdmortality_df.head(2)"
   ]
  },
  {
   "cell_type": "code",
   "execution_count": 48,
   "metadata": {},
   "outputs": [
    {
     "data": {
      "text/plain": [
       "Index(['Year', 'LocationAbbr', 'LocationDesc', 'GeographicLevel', 'DataSource',\n",
       "       'Class', 'Topic', 'Data_Value', 'Data_Value_Unit', 'Data_Value_Type',\n",
       "       'Data_Value_Footnote_Symbol', 'Data_Value_Footnote',\n",
       "       'StratificationCategory1', 'Stratification1', 'StratificationCategory2',\n",
       "       'Stratification2', 'TopicID', 'LocationID', 'Y_lat', 'X_lon',\n",
       "       'Georeference Column', 'States', 'Counties'],\n",
       "      dtype='object')"
      ]
     },
     "execution_count": 48,
     "metadata": {},
     "output_type": "execute_result"
    }
   ],
   "source": [
    "hdmortality_df.columns"
   ]
  },
  {
   "cell_type": "code",
   "execution_count": 9,
   "metadata": {},
   "outputs": [
    {
     "data": {
      "text/html": [
       "<div>\n",
       "<style scoped>\n",
       "    .dataframe tbody tr th:only-of-type {\n",
       "        vertical-align: middle;\n",
       "    }\n",
       "\n",
       "    .dataframe tbody tr th {\n",
       "        vertical-align: top;\n",
       "    }\n",
       "\n",
       "    .dataframe thead th {\n",
       "        text-align: right;\n",
       "    }\n",
       "</style>\n",
       "<table border=\"1\" class=\"dataframe\">\n",
       "  <thead>\n",
       "    <tr style=\"text-align: right;\">\n",
       "      <th></th>\n",
       "      <th>Year</th>\n",
       "      <th>LocationAbbr</th>\n",
       "      <th>LocationDesc</th>\n",
       "      <th>DataSource</th>\n",
       "      <th>PriorityArea1</th>\n",
       "      <th>PriorityArea2</th>\n",
       "      <th>PriorityArea3</th>\n",
       "      <th>PriorityArea4</th>\n",
       "      <th>Category</th>\n",
       "      <th>Topic</th>\n",
       "      <th>...</th>\n",
       "      <th>Break_Out_Category</th>\n",
       "      <th>Break_Out</th>\n",
       "      <th>CategoryId</th>\n",
       "      <th>TopicId</th>\n",
       "      <th>IndicatorID</th>\n",
       "      <th>Data_Value_TypeID</th>\n",
       "      <th>BreakOutCategoryId</th>\n",
       "      <th>BreakOutId</th>\n",
       "      <th>LocationID</th>\n",
       "      <th>GeoLocation</th>\n",
       "    </tr>\n",
       "  </thead>\n",
       "  <tbody>\n",
       "    <tr>\n",
       "      <th>0</th>\n",
       "      <td>2009</td>\n",
       "      <td>MDW</td>\n",
       "      <td>Midwest</td>\n",
       "      <td>NHIS</td>\n",
       "      <td>None</td>\n",
       "      <td>ABCS</td>\n",
       "      <td>None</td>\n",
       "      <td>None</td>\n",
       "      <td>Risk Factors</td>\n",
       "      <td>Smoking</td>\n",
       "      <td>...</td>\n",
       "      <td>Gender</td>\n",
       "      <td>Male</td>\n",
       "      <td>C2</td>\n",
       "      <td>T15</td>\n",
       "      <td>NS010</td>\n",
       "      <td>AgeStdz</td>\n",
       "      <td>BOC02</td>\n",
       "      <td>GEN01</td>\n",
       "      <td>9002</td>\n",
       "      <td>NaN</td>\n",
       "    </tr>\n",
       "    <tr>\n",
       "      <th>1</th>\n",
       "      <td>2009</td>\n",
       "      <td>SOU</td>\n",
       "      <td>South</td>\n",
       "      <td>NHIS</td>\n",
       "      <td>None</td>\n",
       "      <td>None</td>\n",
       "      <td>Healthy People 2020</td>\n",
       "      <td>None</td>\n",
       "      <td>Risk Factors</td>\n",
       "      <td>Physical Inactivity</td>\n",
       "      <td>...</td>\n",
       "      <td>Race</td>\n",
       "      <td>Non-Hispanic Black</td>\n",
       "      <td>C2</td>\n",
       "      <td>T14</td>\n",
       "      <td>NS011</td>\n",
       "      <td>Crude</td>\n",
       "      <td>BOC04</td>\n",
       "      <td>RAC02</td>\n",
       "      <td>9003</td>\n",
       "      <td>NaN</td>\n",
       "    </tr>\n",
       "  </tbody>\n",
       "</table>\n",
       "<p>2 rows × 29 columns</p>\n",
       "</div>"
      ],
      "text/plain": [
       "   Year LocationAbbr LocationDesc DataSource PriorityArea1 PriorityArea2  \\\n",
       "0  2009          MDW      Midwest       NHIS          None          ABCS   \n",
       "1  2009          SOU        South       NHIS          None          None   \n",
       "\n",
       "         PriorityArea3 PriorityArea4      Category                Topic  \\\n",
       "0                 None          None  Risk Factors              Smoking   \n",
       "1  Healthy People 2020          None  Risk Factors  Physical Inactivity   \n",
       "\n",
       "      ...     Break_Out_Category           Break_Out CategoryId  TopicId  \\\n",
       "0     ...                 Gender                Male         C2      T15   \n",
       "1     ...                   Race  Non-Hispanic Black         C2      T14   \n",
       "\n",
       "   IndicatorID Data_Value_TypeID BreakOutCategoryId  BreakOutId  LocationID  \\\n",
       "0        NS010           AgeStdz              BOC02       GEN01        9002   \n",
       "1        NS011             Crude              BOC04       RAC02        9003   \n",
       "\n",
       "  GeoLocation  \n",
       "0         NaN  \n",
       "1         NaN  \n",
       "\n",
       "[2 rows x 29 columns]"
      ]
     },
     "execution_count": 9,
     "metadata": {},
     "output_type": "execute_result"
    }
   ],
   "source": [
    "# Reference to CSV and reading CSV into Pandas DataFrame\n",
    "csv_path = \"Resources/NHIS_heart_survey.csv\"\n",
    "nhis_df = pd.read_csv(csv_path)\n",
    "nhis_df.head(2)"
   ]
  },
  {
   "cell_type": "code",
   "execution_count": 10,
   "metadata": {},
   "outputs": [
    {
     "data": {
      "text/plain": [
       "Index(['Year', 'LocationAbbr', 'LocationDesc', 'DataSource', 'PriorityArea1',\n",
       "       'PriorityArea2', 'PriorityArea3', 'PriorityArea4', 'Category', 'Topic',\n",
       "       'Indicator', 'Data_Value_Type', 'Data_Value_Unit', 'Data_Value',\n",
       "       'Data_Value_Alt', 'Data_Value_Footnote_Symbol', 'Data_Value_Footnote',\n",
       "       'LowConfidenceLimit', 'HighConfidenceLimit', 'Break_Out_Category',\n",
       "       'Break_Out', 'CategoryId', 'TopicId', 'IndicatorID',\n",
       "       'Data_Value_TypeID', 'BreakOutCategoryId', 'BreakOutId', 'LocationID',\n",
       "       'GeoLocation'],\n",
       "      dtype='object')"
      ]
     },
     "execution_count": 10,
     "metadata": {},
     "output_type": "execute_result"
    }
   ],
   "source": [
    "nhis_df.columns"
   ]
  },
  {
   "cell_type": "code",
   "execution_count": 1,
   "metadata": {},
   "outputs": [],
   "source": [
    "import pyspark\n",
    "from pyspark.sql import SparkSession\n",
    "from pyspark import SparkFiles\n",
    "from pyspark.sql import DataFrameReader\n",
    "from pyspark.sql.functions import to_timestamp\n",
    "from pyspark.sql.functions import col\n",
    "from pyspark.sql.types import StructType, StructField, StringType, IntegerType\n",
    "from pyspark.sql.types import *"
   ]
  },
  {
   "cell_type": "code",
   "execution_count": 2,
   "metadata": {},
   "outputs": [],
   "source": [
    "spark = SparkSession \\\n",
    "    .builder \\\n",
    "    .appName('pyspark_demo_app') \\\n",
    "    .config('spark.driver.extraClassPath',\n",
    "            'postgresql-42.2.9') \\\n",
    "    .master(\"local[*]\") \\\n",
    "    .getOrCreate()"
   ]
  },
  {
   "cell_type": "code",
   "execution_count": 15,
   "metadata": {},
   "outputs": [
    {
     "name": "stdout",
     "output_type": "stream",
     "text": [
      "+---+-----+------+------+------+-----+-----+-----------+----+-----+----+------+------+\n",
      "| id|  age|gender|height|weight|ap_hi|ap_lo|cholesterol|gluc|smoke|alco|active|cardio|\n",
      "+---+-----+------+------+------+-----+-----+-----------+----+-----+----+------+------+\n",
      "|  0|18393|     2|   168|  62.0|  110|   80|          1|   1|    0|   0|     1|     0|\n",
      "|  1|20228|     1|   156|  85.0|  140|   90|          3|   1|    0|   0|     1|     1|\n",
      "|  2|18857|     1|   165|  64.0|  130|   70|          3|   1|    0|   0|     0|     1|\n",
      "+---+-----+------+------+------+-----+-----+-----------+----+-----+----+------+------+\n",
      "only showing top 3 rows\n",
      "\n"
     ]
    }
   ],
   "source": [
    "cardio_train_sdf = spark.read.format('csv').options(header='true', inferSchema='true', sep=\";\").load(\"Resources/cardio_train.csv\")\n",
    "cardio_train_sdf.show(3)"
   ]
  },
  {
   "cell_type": "code",
   "execution_count": 5,
   "metadata": {},
   "outputs": [
    {
     "name": "stdout",
     "output_type": "stream",
     "text": [
      "+----+------------+------------+----------+--------------+-------------+-------------------+-------------+--------------------+-------------------+--------------------+----------------+---------------+----------+--------------+--------------------------+-------------------+------------------+-------------------+------------------+------------------+----------+-------+-----------+-----------------+------------------+----------+----------+-----------+\n",
      "|Year|LocationAbbr|LocationDesc|DataSource| PriorityArea1|PriorityArea2|      PriorityArea3|PriorityArea4|            Category|              Topic|           Indicator| Data_Value_Type|Data_Value_Unit|Data_Value|Data_Value_Alt|Data_Value_Footnote_Symbol|Data_Value_Footnote|LowConfidenceLimit|HighConfidenceLimit|Break_Out_Category|         Break_Out|CategoryId|TopicId|IndicatorID|Data_Value_TypeID|BreakOutCategoryId|BreakOutId|LocationID|GeoLocation|\n",
      "+----+------------+------------+----------+--------------+-------------+-------------------+-------------+--------------------+-------------------+--------------------+----------------+---------------+----------+--------------+--------------------------+-------------------+------------------+-------------------+------------------+------------------+----------+-------+-----------+-----------------+------------------+----------+----------+-----------+\n",
      "|2009|         MDW|     Midwest|      NHIS|          None|         ABCS|               None|         None|        Risk Factors|            Smoking|Prevalence of cur...|Age-Standardized|    Percent (%)|      25.9|          25.9|                      null|               null|              23.7|               28.2|            Gender|              Male|        C2|    T15|      NS010|          AgeStdz|             BOC02|     GEN01|      9002|       null|\n",
      "|2009|         SOU|       South|      NHIS|          None|         None|Healthy People 2020|         None|        Risk Factors|Physical Inactivity|Prevalence of phy...|           Crude|    Percent (%)|      37.6|          37.6|                      null|               null|              34.9|               40.3|              Race|Non-Hispanic Black|        C2|    T14|      NS011|            Crude|             BOC04|     RAC02|      9003|       null|\n",
      "|2009|         MDW|     Midwest|      NHIS|Million Hearts|         None|               None|         None|Cardiovascular Di...|             Stroke|Prevalence of str...|           Crude|    Percent (%)|       2.6|           2.6|                      null|               null|               2.1|                3.3|            Gender|            Female|        C1|     T6|      NS004|            Crude|             BOC02|     GEN02|      9002|       null|\n",
      "+----+------------+------------+----------+--------------+-------------+-------------------+-------------+--------------------+-------------------+--------------------+----------------+---------------+----------+--------------+--------------------------+-------------------+------------------+-------------------+------------------+------------------+----------+-------+-----------+-----------------+------------------+----------+----------+-----------+\n",
      "only showing top 3 rows\n",
      "\n"
     ]
    }
   ],
   "source": [
    "nhis_sdf = spark.read.format('csv').options(header='true', inferSchema='true').load(\"Resources/NHIS_heart_survey.csv\")\n",
    "nhis_sdf.show(3)"
   ]
  },
  {
   "cell_type": "code",
   "execution_count": null,
   "metadata": {},
   "outputs": [],
   "source": [
    "entireDF4 = spark.read.jdbc(url=jdbc_url, table = 'heart_nhis', properties=dbConfig)\n",
    "entireDF4.printSchema()\n",
    "entireDF4.limit(5).show()"
   ]
  },
  {
   "cell_type": "code",
   "execution_count": null,
   "metadata": {},
   "outputs": [],
   "source": [
    "behavior_sdf = spark.read.format('csv').options(header='true', inferSchema='true').load(\"Resources/Behavioral_Risk.csv\")\n",
    "behavior_sdf.show(3)"
   ]
  },
  {
   "cell_type": "code",
   "execution_count": null,
   "metadata": {},
   "outputs": [],
   "source": [
    "mortality_sdf = spark.read.format('csv').options(header='true', inferSchema='true').load(\"Resources/HDMortality.csv\")\n",
    "mortality_sdf.show(3)"
   ]
  },
  {
   "cell_type": "code",
   "execution_count": 51,
   "metadata": {},
   "outputs": [
    {
     "name": "stdout",
     "output_type": "stream",
     "text": [
      "+----+---+---+-----+-----+---+---+-----+---+---+----+----+----+----+\n",
      "| _c0|_c1|_c2|  _c3|  _c4|_c5|_c6|  _c7|_c8|_c9|_c10|_c11|_c12|_c13|\n",
      "+----+---+---+-----+-----+---+---+-----+---+---+----+----+----+----+\n",
      "|63.0|1.0|1.0|145.0|233.0|1.0|2.0|150.0|0.0|2.3| 3.0| 0.0| 6.0|   0|\n",
      "|67.0|1.0|4.0|160.0|286.0|0.0|2.0|108.0|1.0|1.5| 2.0| 3.0| 3.0|   2|\n",
      "|67.0|1.0|4.0|120.0|229.0|0.0|2.0|129.0|1.0|2.6| 2.0| 2.0| 7.0|   1|\n",
      "+----+---+---+-----+-----+---+---+-----+---+---+----+----+----+----+\n",
      "only showing top 3 rows\n",
      "\n"
     ]
    }
   ],
   "source": [
    "cleveland_sdf = spark.read.format('csv').options(header='false', inferSchema='true').load(\"Resources/ml_cleveland_data.csv\")\n",
    "cleveland_sdf.show(3)"
   ]
  },
  {
   "cell_type": "code",
   "execution_count": 11,
   "metadata": {},
   "outputs": [],
   "source": [
    "# tips on jdbc ... https://sparkour.urizone.net/recipes/using-jdbc/#03\n",
    "# Load properties from file\n",
    "import json\n",
    "with open(\"Resources/db-properties.json\") as propertyFile:\n",
    "    properties = json.load(propertyFile)\n",
    "\n",
    "dbMode = \"overwrite\"\n",
    "jdbc_url= properties[\"jdbcUrl\"]\n",
    "dbConfig = {\"user\": properties[\"user\"], \n",
    "          \"password\": properties[\"password\"], \n",
    "          \"driver\": properties[\"driver\"]\n",
    "         }\n"
   ]
  },
  {
   "cell_type": "code",
   "execution_count": 17,
   "metadata": {},
   "outputs": [],
   "source": [
    "# Append DataFrame to heart_behavior_risk table\n",
    "cardio_train_sdf.write.jdbc(url=jdbc_url, table = 'heart_cardio_train', mode=dbMode, properties=dbConfig)"
   ]
  },
  {
   "cell_type": "code",
   "execution_count": 13,
   "metadata": {},
   "outputs": [],
   "source": [
    "# Append DataFrame to heart_behavior_risk table\n",
    "nhis_sdf.write.jdbc(url=jdbc_url, table = 'heart_nhis', mode=dbMode, properties=dbConfig)"
   ]
  },
  {
   "cell_type": "code",
   "execution_count": 45,
   "metadata": {},
   "outputs": [],
   "source": [
    "# Append DataFrame to heart_behavior_risk table\n",
    "behavior_sdf.write.jdbc(url=jdbc_url, table = 'heart_behavior_risk', mode=dbMode, properties=dbConfig)"
   ]
  },
  {
   "cell_type": "code",
   "execution_count": 49,
   "metadata": {},
   "outputs": [],
   "source": [
    "# Append DataFrame to heart_mortality table\n",
    "mortality_sdf.write.jdbc(url=jdbc_url, table = 'heart_mortality', mode=dbMode, properties=dbConfig)"
   ]
  },
  {
   "cell_type": "code",
   "execution_count": 53,
   "metadata": {},
   "outputs": [],
   "source": [
    "# Append DataFrame to heart_mortality table\n",
    "cleveland_sdf.write.jdbc(url=jdbc_url, table = 'heart_ml_cleveland', mode=dbMode, properties=dbConfig)"
   ]
  },
  {
   "cell_type": "code",
   "execution_count": 18,
   "metadata": {},
   "outputs": [
    {
     "name": "stdout",
     "output_type": "stream",
     "text": [
      "root\n",
      " |-- id: integer (nullable = true)\n",
      " |-- age: integer (nullable = true)\n",
      " |-- gender: integer (nullable = true)\n",
      " |-- height: integer (nullable = true)\n",
      " |-- weight: double (nullable = true)\n",
      " |-- ap_hi: integer (nullable = true)\n",
      " |-- ap_lo: integer (nullable = true)\n",
      " |-- cholesterol: integer (nullable = true)\n",
      " |-- gluc: integer (nullable = true)\n",
      " |-- smoke: integer (nullable = true)\n",
      " |-- alco: integer (nullable = true)\n",
      " |-- active: integer (nullable = true)\n",
      " |-- cardio: integer (nullable = true)\n",
      "\n",
      "+---+-----+------+------+------+-----+-----+-----------+----+-----+----+------+------+\n",
      "| id|  age|gender|height|weight|ap_hi|ap_lo|cholesterol|gluc|smoke|alco|active|cardio|\n",
      "+---+-----+------+------+------+-----+-----+-----------+----+-----+----+------+------+\n",
      "|  0|18393|     2|   168|  62.0|  110|   80|          1|   1|    0|   0|     1|     0|\n",
      "|  1|20228|     1|   156|  85.0|  140|   90|          3|   1|    0|   0|     1|     1|\n",
      "|  2|18857|     1|   165|  64.0|  130|   70|          3|   1|    0|   0|     0|     1|\n",
      "|  3|17623|     2|   169|  82.0|  150|  100|          1|   1|    0|   0|     1|     1|\n",
      "|  4|17474|     1|   156|  56.0|  100|   60|          1|   1|    0|   0|     0|     0|\n",
      "+---+-----+------+------+------+-----+-----+-----------+----+-----+----+------+------+\n",
      "\n"
     ]
    }
   ],
   "source": [
    "entireDF5 = spark.read.jdbc(url=jdbc_url, table = 'heart_cardio_train', properties=dbConfig)\n",
    "entireDF5.printSchema()\n",
    "entireDF5.limit(5).show()"
   ]
  },
  {
   "cell_type": "code",
   "execution_count": 14,
   "metadata": {},
   "outputs": [
    {
     "name": "stdout",
     "output_type": "stream",
     "text": [
      "root\n",
      " |-- Year: integer (nullable = true)\n",
      " |-- LocationAbbr: string (nullable = true)\n",
      " |-- LocationDesc: string (nullable = true)\n",
      " |-- DataSource: string (nullable = true)\n",
      " |-- PriorityArea1: string (nullable = true)\n",
      " |-- PriorityArea2: string (nullable = true)\n",
      " |-- PriorityArea3: string (nullable = true)\n",
      " |-- PriorityArea4: string (nullable = true)\n",
      " |-- Category: string (nullable = true)\n",
      " |-- Topic: string (nullable = true)\n",
      " |-- Indicator: string (nullable = true)\n",
      " |-- Data_Value_Type: string (nullable = true)\n",
      " |-- Data_Value_Unit: string (nullable = true)\n",
      " |-- Data_Value: double (nullable = true)\n",
      " |-- Data_Value_Alt: double (nullable = true)\n",
      " |-- Data_Value_Footnote_Symbol: string (nullable = true)\n",
      " |-- Data_Value_Footnote: string (nullable = true)\n",
      " |-- LowConfidenceLimit: double (nullable = true)\n",
      " |-- HighConfidenceLimit: double (nullable = true)\n",
      " |-- Break_Out_Category: string (nullable = true)\n",
      " |-- Break_Out: string (nullable = true)\n",
      " |-- CategoryId: string (nullable = true)\n",
      " |-- TopicId: string (nullable = true)\n",
      " |-- IndicatorID: string (nullable = true)\n",
      " |-- Data_Value_TypeID: string (nullable = true)\n",
      " |-- BreakOutCategoryId: string (nullable = true)\n",
      " |-- BreakOutId: string (nullable = true)\n",
      " |-- LocationID: integer (nullable = true)\n",
      " |-- GeoLocation: string (nullable = true)\n",
      "\n",
      "+----+------------+-------------+----------+-------------+-------------+-------------------+-------------+------------+------------+--------------------+----------------+---------------+----------+--------------+--------------------------+--------------------+------------------+-------------------+------------------+------------------+----------+-------+-----------+-----------------+------------------+----------+----------+-----------+\n",
      "|Year|LocationAbbr| LocationDesc|DataSource|PriorityArea1|PriorityArea2|      PriorityArea3|PriorityArea4|    Category|       Topic|           Indicator| Data_Value_Type|Data_Value_Unit|Data_Value|Data_Value_Alt|Data_Value_Footnote_Symbol| Data_Value_Footnote|LowConfidenceLimit|HighConfidenceLimit|Break_Out_Category|         Break_Out|CategoryId|TopicId|IndicatorID|Data_Value_TypeID|BreakOutCategoryId|BreakOutId|LocationID|GeoLocation|\n",
      "+----+------------+-------------+----------+-------------+-------------+-------------------+-------------+------------+------------+--------------------+----------------+---------------+----------+--------------+--------------------------+--------------------+------------------+-------------------+------------------+------------------+----------+-------+-----------+-----------------+------------------+----------+----------+-----------+\n",
      "|2012|          US|United States|      NHIS|         None|         None|Healthy People 2020|         None|Risk Factors|Hypertension|Prevalence of adu...|           Crude|    Percent (%)|      null|          -2.0|                         ~|Statistically uns...|              null|               null|               Age|               35+|        C2|     T9|      NS012|            Crude|             BOC03|     AGE07|        59|       null|\n",
      "|2016|        WEST|         West|      NHIS|         None|         None|Healthy People 2020|         None|Risk Factors|Hypertension|Prevalence of adu...|           Crude|    Percent (%)|      null|          -2.0|                         ~|Statistically uns...|              null|               null|               Age|             25-44|        C2|     T9|      NS012|            Crude|             BOC03|     AGE04|      9004|       null|\n",
      "|2000|         NRE|    Northeast|      NHIS|         None|         None|Healthy People 2020|         None|Risk Factors|Hypertension|Prevalence of adu...|           Crude|    Percent (%)|      null|          -2.0|                         ~|Statistically uns...|              null|               null|              Race|Non-Hispanic Asian|        C2|     T9|      NS012|            Crude|             BOC04|     RAC03|      9001|       null|\n",
      "|2004|         NRE|    Northeast|      NHIS|         None|         None|Healthy People 2020|         None|Risk Factors|Hypertension|Prevalence of adu...|Age-Standardized|    Percent (%)|      null|          -2.0|                         ~|Statistically uns...|              null|               null|              Race|          Hispanic|        C2|     T9|      NS012|          AgeStdz|             BOC04|     RAC04|      9001|       null|\n",
      "|2016|        WEST|         West|      NHIS|         None|         ABCS|               None|         None|Risk Factors|     Smoking|Prevalence of cur...|           Crude|    Percent (%)|      10.9|          10.9|                      null|                null|               8.1|               14.4|               Age|             18-24|        C2|    T15|      NS010|            Crude|             BOC03|     AGE01|      9004|       null|\n",
      "+----+------------+-------------+----------+-------------+-------------+-------------------+-------------+------------+------------+--------------------+----------------+---------------+----------+--------------+--------------------------+--------------------+------------------+-------------------+------------------+------------------+----------+-------+-----------+-----------------+------------------+----------+----------+-----------+\n",
      "\n"
     ]
    }
   ],
   "source": [
    "entireDF4 = spark.read.jdbc(url=jdbc_url, table = 'heart_nhis', properties=dbConfig)\n",
    "entireDF4.printSchema()\n",
    "entireDF4.limit(5).show()"
   ]
  },
  {
   "cell_type": "code",
   "execution_count": 54,
   "metadata": {},
   "outputs": [
    {
     "name": "stdout",
     "output_type": "stream",
     "text": [
      "root\n",
      " |-- _c0: double (nullable = true)\n",
      " |-- _c1: double (nullable = true)\n",
      " |-- _c2: double (nullable = true)\n",
      " |-- _c3: double (nullable = true)\n",
      " |-- _c4: double (nullable = true)\n",
      " |-- _c5: double (nullable = true)\n",
      " |-- _c6: double (nullable = true)\n",
      " |-- _c7: double (nullable = true)\n",
      " |-- _c8: double (nullable = true)\n",
      " |-- _c9: double (nullable = true)\n",
      " |-- _c10: double (nullable = true)\n",
      " |-- _c11: string (nullable = true)\n",
      " |-- _c12: string (nullable = true)\n",
      " |-- _c13: integer (nullable = true)\n",
      "\n",
      "+----+---+---+-----+-----+---+---+-----+---+---+----+----+----+----+\n",
      "| _c0|_c1|_c2|  _c3|  _c4|_c5|_c6|  _c7|_c8|_c9|_c10|_c11|_c12|_c13|\n",
      "+----+---+---+-----+-----+---+---+-----+---+---+----+----+----+----+\n",
      "|63.0|1.0|1.0|145.0|233.0|1.0|2.0|150.0|0.0|2.3| 3.0| 0.0| 6.0|   0|\n",
      "|67.0|1.0|4.0|160.0|286.0|0.0|2.0|108.0|1.0|1.5| 2.0| 3.0| 3.0|   2|\n",
      "|67.0|1.0|4.0|120.0|229.0|0.0|2.0|129.0|1.0|2.6| 2.0| 2.0| 7.0|   1|\n",
      "|37.0|1.0|3.0|130.0|250.0|0.0|0.0|187.0|0.0|3.5| 3.0| 0.0| 3.0|   0|\n",
      "|41.0|0.0|2.0|130.0|204.0|0.0|2.0|172.0|0.0|1.4| 1.0| 0.0| 3.0|   0|\n",
      "+----+---+---+-----+-----+---+---+-----+---+---+----+----+----+----+\n",
      "\n"
     ]
    }
   ],
   "source": [
    "entireDF3 = spark.read.jdbc(url=jdbc_url, table = 'heart_ml_cleveland', properties=dbConfig)\n",
    "entireDF3.printSchema()\n",
    "entireDF3.limit(5).show()"
   ]
  },
  {
   "cell_type": "code",
   "execution_count": 50,
   "metadata": {},
   "outputs": [
    {
     "name": "stdout",
     "output_type": "stream",
     "text": [
      "root\n",
      " |-- Year: integer (nullable = true)\n",
      " |-- LocationAbbr: string (nullable = true)\n",
      " |-- LocationDesc: string (nullable = true)\n",
      " |-- GeographicLevel: string (nullable = true)\n",
      " |-- DataSource: string (nullable = true)\n",
      " |-- Class: string (nullable = true)\n",
      " |-- Topic: string (nullable = true)\n",
      " |-- Data_Value: string (nullable = true)\n",
      " |-- Data_Value_Unit: string (nullable = true)\n",
      " |-- Data_Value_Type: string (nullable = true)\n",
      " |-- Data_Value_Footnote_Symbol: string (nullable = true)\n",
      " |-- Data_Value_Footnote: string (nullable = true)\n",
      " |-- StratificationCategory1: string (nullable = true)\n",
      " |-- Stratification1: string (nullable = true)\n",
      " |-- StratificationCategory2: string (nullable = true)\n",
      " |-- Stratification2: string (nullable = true)\n",
      " |-- TopicID: string (nullable = true)\n",
      " |-- LocationID: integer (nullable = true)\n",
      " |-- Y_lat: double (nullable = true)\n",
      " |-- X_lon: double (nullable = true)\n",
      " |-- Georeference Column: string (nullable = true)\n",
      " |-- States: integer (nullable = true)\n",
      " |-- Counties: string (nullable = true)\n",
      "\n",
      "+----+------------+----------------+---------------+----------+--------------------+--------------------+----------+--------------------+--------------------+--------------------------+-------------------+-----------------------+---------------+-----------------------+--------------------+-------+----------+------------+------------+--------------------+------+--------+\n",
      "|Year|LocationAbbr|    LocationDesc|GeographicLevel|DataSource|               Class|               Topic|Data_Value|     Data_Value_Unit|     Data_Value_Type|Data_Value_Footnote_Symbol|Data_Value_Footnote|StratificationCategory1|Stratification1|StratificationCategory2|     Stratification2|TopicID|LocationID|       Y_lat|       X_lon| Georeference Column|States|Counties|\n",
      "+----+------------+----------------+---------------+----------+--------------------+--------------------+----------+--------------------+--------------------+--------------------------+-------------------+-----------------------+---------------+-----------------------+--------------------+-------+----------+------------+------------+--------------------+------+--------+\n",
      "|2016|          CT|New Haven County|         County|      NVSS|Cardiovascular Di...|Heart Disease Mor...|     235.4|per 100,000 popul...|Age-adjusted, Spa...|                      null|               null|                 Gender|         Female|         Race/Ethnicity|               Black|     T2|      9009|41.411248917|-72.93600942|POINT (-72.936009...|    24|   1,044|\n",
      "|2016|          CO|   Morgan County|         County|      NVSS|Cardiovascular Di...|Heart Disease Mor...|     214.6|per 100,000 popul...|Age-adjusted, Spa...|                      null|               null|                 Gender|           Male|         Race/Ethnicity|               Black|     T2|      8087|40.253788089|-103.7968604|POINT (-103.79686...|     9|   1,059|\n",
      "|2016|          AR|  Garland County|         County|      NVSS|Cardiovascular Di...|Heart Disease Mor...|      null|per 100,000 popul...|Age-adjusted, Spa...|                         ~|  Insufficient Data|                 Gender|           Male|         Race/Ethnicity|Asian and Pacific...|     T2|      5051|34.580218603|-93.14398988|POINT (-93.143989...|    15|      16|\n",
      "|2016|          AR|  Prairie County|         County|      NVSS|Cardiovascular Di...|Heart Disease Mor...|     392.2|per 100,000 popul...|Age-adjusted, Spa...|                      null|               null|                 Gender|        Overall|         Race/Ethnicity|             Overall|     T2|      5117|34.835259759|-91.54845359|POINT (-91.548453...|    15|     997|\n",
      "|2016|          IA| Plymouth County|         County|      NVSS|Cardiovascular Di...|Heart Disease Mor...|      null|per 100,000 popul...|Age-adjusted, Spa...|                         ~|  Insufficient Data|                 Gender|           Male|         Race/Ethnicity|Asian and Pacific...|     T2|     19149|42.742135566|-96.22006873|POINT (-96.220068...|    16|   1,838|\n",
      "+----+------------+----------------+---------------+----------+--------------------+--------------------+----------+--------------------+--------------------+--------------------------+-------------------+-----------------------+---------------+-----------------------+--------------------+-------+----------+------------+------------+--------------------+------+--------+\n",
      "\n"
     ]
    }
   ],
   "source": [
    "entireDF2 = spark.read.jdbc(url=jdbc_url, table = 'heart_mortality', properties=dbConfig)\n",
    "entireDF2.printSchema()\n",
    "entireDF2.limit(5).show()"
   ]
  },
  {
   "cell_type": "code",
   "execution_count": 46,
   "metadata": {},
   "outputs": [
    {
     "name": "stdout",
     "output_type": "stream",
     "text": [
      "root\n",
      " |-- Year: integer (nullable = true)\n",
      " |-- LocationAbbr: string (nullable = true)\n",
      " |-- LocationDesc: string (nullable = true)\n",
      " |-- Datasource: string (nullable = true)\n",
      " |-- PriorityArea1: string (nullable = true)\n",
      " |-- PriorityArea2: string (nullable = true)\n",
      " |-- PriorityArea3: string (nullable = true)\n",
      " |-- PriorityArea4: string (nullable = true)\n",
      " |-- Category: string (nullable = true)\n",
      " |-- Topic: string (nullable = true)\n",
      " |-- Indicator: string (nullable = true)\n",
      " |-- Break_Out_Category: string (nullable = true)\n",
      " |-- Break_out: string (nullable = true)\n",
      " |-- Data_Value_Type: string (nullable = true)\n",
      " |-- Data_Value_Unit: string (nullable = true)\n",
      " |-- Data_Value: double (nullable = true)\n",
      " |-- Data_Value_Footnote_Symbol: string (nullable = true)\n",
      " |-- Data_Value_Footnote: string (nullable = true)\n",
      " |-- Confidence_Limit_Low: double (nullable = true)\n",
      " |-- Confidence_Limit_High: double (nullable = true)\n",
      " |-- CategoryID: string (nullable = true)\n",
      " |-- TopicID: string (nullable = true)\n",
      " |-- IndicatorID: string (nullable = true)\n",
      " |-- BreakoutCategoryID: string (nullable = true)\n",
      " |-- BreakOutID: string (nullable = true)\n",
      " |-- LocationID: double (nullable = true)\n",
      " |-- GeoLocation: string (nullable = true)\n",
      "\n",
      "+----+------------+------------+----------+-------------+-------------+-------------------+-------------+------------+------------+--------------------+------------------+---------+---------------+---------------+----------+--------------------------+-------------------+--------------------+---------------------+----------+-------+-----------+------------------+----------+----------+--------------------+\n",
      "|Year|LocationAbbr|LocationDesc|Datasource|PriorityArea1|PriorityArea2|      PriorityArea3|PriorityArea4|    Category|       Topic|           Indicator|Break_Out_Category|Break_out|Data_Value_Type|Data_Value_Unit|Data_Value|Data_Value_Footnote_Symbol|Data_Value_Footnote|Confidence_Limit_Low|Confidence_Limit_High|CategoryID|TopicID|IndicatorID|BreakoutCategoryID|BreakOutID|LocationID|         GeoLocation|\n",
      "+----+------------+------------+----------+-------------+-------------+-------------------+-------------+------------+------------+--------------------+------------------+---------+---------------+---------------+----------+--------------------------+-------------------+--------------------+---------------------+----------+-------+-----------+------------------+----------+----------+--------------------+\n",
      "|2013|          MT|     Montana|     BRFSS|         None|         None|Healthy People 2020|         None|Risk Factors|Hypertension|Heart Disease and...|            Gender|   Female|     Percentage|              %|      59.7|                      null|               null|                53.5|                 65.5|        C2|     T9|     BRP311|             BOC02|     GEN02|      30.0|(47.0665289720004...|\n",
      "|2013|          NM|  New Mexico|     BRFSS|         None|         None|Healthy People 2020|         None|Risk Factors|Hypertension|Heart Disease and...|              Race| Hispanic|     Percentage|              %|      59.7|                      null|               null|                55.1|                 64.1|        C2|     T9|     BRP311|             BOC04|     RAC04|      35.0|(34.5208809520004...|\n",
      "|2011|          NJ|  New Jersey|     BRFSS|         None|         None|               None|         None|Risk Factors|Hypertension|Prevalence of hyp...|            Gender|   Female|     Percentage|              %|      59.8|                      null|               null|                56.2|                 63.3|        C2|     T9|      BR012|             BOC02|     GEN02|      34.0|(40.1305700480004...|\n",
      "|2011|          NY|    New York|     BRFSS|         None|         None|               None|         None|Risk Factors|Hypertension|Prevalence of hyp...|            Gender|     Male|     Percentage|              %|      59.8|                      null|               null|                54.3|                 65.1|        C2|     T9|      BR012|             BOC02|     GEN01|      36.0|(42.8270010320004...|\n",
      "|2011|          UT|        Utah|     BRFSS|         None|         None|               None|         None|Risk Factors|Hypertension|Prevalence of hyp...|            Gender|   Female|     Percentage|              %|      59.8|                      null|               null|                55.1|                 64.4|        C2|     T9|      BR012|             BOC02|     GEN02|      49.0|(39.3607001710004...|\n",
      "+----+------------+------------+----------+-------------+-------------+-------------------+-------------+------------+------------+--------------------+------------------+---------+---------------+---------------+----------+--------------------------+-------------------+--------------------+---------------------+----------+-------+-----------+------------------+----------+----------+--------------------+\n",
      "\n"
     ]
    }
   ],
   "source": [
    "entireDF = spark.read.jdbc(url=jdbc_url, table = 'heart_behavior_risk', properties=dbConfig)\n",
    "entireDF.printSchema()\n",
    "entireDF.limit(5).show()\n"
   ]
  },
  {
   "cell_type": "code",
   "execution_count": 15,
   "metadata": {},
   "outputs": [],
   "source": [
    "# https://docs.aws.amazon.com/glue/latest/dg/aws-glue-api-crawler-pyspark-extensions-types.html\n",
    "# from pyspark.sql.types import *\n",
    "# schema = StructType(\n",
    "#     [StructField(\"Year\", IntegerType(), True),\n",
    "#      StructField(\"LocationAbbr\", StringType(), True),\n",
    "#      StructField(\"LocationDesc\", StringType(), True),\n",
    "#      StructField(\"Datasource\", StringType(), True),\n",
    "#      StructField(\"PriorityArea1\", StringType(), True),\n",
    "#      StructField(\"PriorityArea2\", StringType(), True),\n",
    "#      StructField(\"PriorityArea3\", StringType(), True),\n",
    "#      StructField(\"PriorityArea4\", StringType(), True),\n",
    "#      StructField(\"Category\", StringType(), True),\n",
    "#      StructField(\"Topic\", StringType(), True),\n",
    "#      StructField(\"Indicator\", StringType(), True),\n",
    "#      StructField(\"Break_Out_Category\", StringType(), True),\n",
    "#      StructField(\"Break_out\", StringType(), True),\n",
    "#      StructField(\"Data_Value_Type\", StringType(), True),\n",
    "#      StructField(\"Data_Value_Unit\", StringType(), True),\n",
    "#      StructField(\"Data_Value\", StringType(), True),\n",
    "#      StructField(\"Data_Value_Footnote_Symbol\", StringType(), True),\n",
    "#      StructField(\"Data_Value_Footnote\", StringType(), True),\n",
    "#      StructField(\"Confidence_Limit_Low\", StringType(), True),\n",
    "#      StructField(\"Confidence_Limit_High\", StringType(), True),\n",
    "#      StructField(\"CategoryID\", StringType(), True),\n",
    "#      StructField(\"TopicID\", StringType(), True),\n",
    "#      StructField(\"IndicatorID\", StringType(), True),\n",
    "#      StructField(\"BreakoutCategoryID\", StringType(), True),\n",
    "#      StructField(\"BreakOutID\", StringType(), True),\n",
    "#      StructField(\"LocationID\", StringType(), True),\n",
    "#      StructField(\"GeoLocation\", StringType(), True)])\n",
    "\n",
    "# pd_df = pd.read_csv(\"Resources/Behavioral_Risk.csv\")\n",
    "# sp_df = spark.createDataFrame(pd_df, schema=schema)"
   ]
  },
  {
   "cell_type": "code",
   "execution_count": null,
   "metadata": {},
   "outputs": [],
   "source": [
    "# df = spark.read.csv(\"Resources/user_data.csv\")\n",
    "# df2 = spark.read.csv(\"Resources/HDMortality.csv\")\n",
    "# df3 = spark.read.csv(\"Resources/Behavioral_Risk.csv\")\n",
    "# df.show(5)"
   ]
  },
  {
   "cell_type": "code",
   "execution_count": 55,
   "metadata": {},
   "outputs": [
    {
     "name": "stdout",
     "output_type": "stream",
     "text": [
      "+----+------------+------------+----------+-------------+-------------+-------------+-------------+--------------------+--------------------+--------------------+------------------+------------------+---------------+---------------+----------+--------------------------+--------------------+--------------------+---------------------+----------+-------+-----------+------------------+----------+----------+--------------------+\n",
      "|Year|LocationAbbr|LocationDesc|Datasource|PriorityArea1|PriorityArea2|PriorityArea3|PriorityArea4|            Category|               Topic|           Indicator|Break_Out_Category|         Break_out|Data_Value_Type|Data_Value_Unit|Data_Value|Data_Value_Footnote_Symbol| Data_Value_Footnote|Confidence_Limit_Low|Confidence_Limit_High|CategoryID|TopicID|IndicatorID|BreakoutCategoryID|BreakOutID|LocationID|         GeoLocation|\n",
      "+----+------------+------------+----------+-------------+-------------+-------------+-------------+--------------------+--------------------+--------------------+------------------+------------------+---------------+---------------+----------+--------------------------+--------------------+--------------------+---------------------+----------+-------+-----------+------------------+----------+----------+--------------------+\n",
      "|2011|          NV|      Nevada|     BRFSS|         None|         None|         None|         None|Cardiovascular Di...|Coronary Heart Di...|Prevalence of cor...|               Age|             25-44|     Percentage|              %|      null|                         ~|Statistically uns...|                null|                 null|        C1|     T4|      BR001|             BOC03|     AGE04|      32.0|(39.4932403900004...|\n",
      "|2011|          NV|      Nevada|     BRFSS|         None|         None|         None|         None|Cardiovascular Di...|Coronary Heart Di...|Prevalence of cor...|              Race|Non-Hispanic Black|     Percentage|              %|      null|                         ~|Statistically uns...|                null|                 null|        C1|     T4|      BR001|             BOC04|     RAC02|      32.0|(39.4932403900004...|\n",
      "+----+------------+------------+----------+-------------+-------------+-------------+-------------+--------------------+--------------------+--------------------+------------------+------------------+---------------+---------------+----------+--------------------------+--------------------+--------------------+---------------------+----------+-------+-----------+------------------+----------+----------+--------------------+\n",
      "only showing top 2 rows\n",
      "\n"
     ]
    }
   ],
   "source": [
    "from pyspark import SparkFiles\n",
    "# Load in user_data.csv from S3 into a DataFrame\n",
    "#get the csv from https://data.world/cdc/behavioral-risk-factor-heart\n",
    "#rename the file to shorter file name\n",
    "url = \"https://heartsense.s3.us-east-2.amazonaws.com/Behavioral_Risk.csv\"\n",
    "spark.sparkContext.addFile(url)\n",
    "\n",
    "user_data_df = spark.read.option('header', 'true').csv(SparkFiles.get(\"Behavioral_Risk.csv\"), inferSchema=True, sep=',')\n",
    "user_data_df.show(2)"
   ]
  },
  {
   "cell_type": "code",
   "execution_count": null,
   "metadata": {},
   "outputs": [],
   "source": []
  },
  {
   "cell_type": "code",
   "execution_count": null,
   "metadata": {},
   "outputs": [],
   "source": []
  }
 ],
 "metadata": {
  "kernelspec": {
   "display_name": "Python 3",
   "language": "python",
   "name": "python3"
  },
  "language_info": {
   "codemirror_mode": {
    "name": "ipython",
    "version": 3
   },
   "file_extension": ".py",
   "mimetype": "text/x-python",
   "name": "python",
   "nbconvert_exporter": "python",
   "pygments_lexer": "ipython3",
   "version": "3.7.3"
  }
 },
 "nbformat": 4,
 "nbformat_minor": 2
}
